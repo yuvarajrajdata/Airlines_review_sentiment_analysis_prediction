{
 "cells": [
  {
   "cell_type": "code",
   "execution_count": 1,
   "id": "ebbcd0d9",
   "metadata": {},
   "outputs": [],
   "source": [
    "import pandas as pd\n",
    "import matplotlib.pyplot as plt\n",
    "import seaborn as sns\n",
    "import numpy as np"
   ]
  },
  {
   "cell_type": "code",
   "execution_count": 2,
   "id": "8418c9d1",
   "metadata": {},
   "outputs": [
    {
     "data": {
      "text/html": [
       "<div>\n",
       "<style scoped>\n",
       "    .dataframe tbody tr th:only-of-type {\n",
       "        vertical-align: middle;\n",
       "    }\n",
       "\n",
       "    .dataframe tbody tr th {\n",
       "        vertical-align: top;\n",
       "    }\n",
       "\n",
       "    .dataframe thead th {\n",
       "        text-align: right;\n",
       "    }\n",
       "</style>\n",
       "<table border=\"1\" class=\"dataframe\">\n",
       "  <thead>\n",
       "    <tr style=\"text-align: right;\">\n",
       "      <th></th>\n",
       "      <th>Unnamed: 0</th>\n",
       "      <th>Airline Name</th>\n",
       "      <th>Overall_Rating</th>\n",
       "      <th>Review_Title</th>\n",
       "      <th>Review Date</th>\n",
       "      <th>Verified</th>\n",
       "      <th>Review</th>\n",
       "      <th>Aircraft</th>\n",
       "      <th>Type Of Traveller</th>\n",
       "      <th>Seat Type</th>\n",
       "      <th>Route</th>\n",
       "      <th>Date Flown</th>\n",
       "      <th>Seat Comfort</th>\n",
       "      <th>Cabin Staff Service</th>\n",
       "      <th>Food &amp; Beverages</th>\n",
       "      <th>Ground Service</th>\n",
       "      <th>Inflight Entertainment</th>\n",
       "      <th>Wifi &amp; Connectivity</th>\n",
       "      <th>Value For Money</th>\n",
       "      <th>Recommended</th>\n",
       "    </tr>\n",
       "  </thead>\n",
       "  <tbody>\n",
       "    <tr>\n",
       "      <th>0</th>\n",
       "      <td>0</td>\n",
       "      <td>AB Aviation</td>\n",
       "      <td>9</td>\n",
       "      <td>\"pretty decent airline\"</td>\n",
       "      <td>11th November 2019</td>\n",
       "      <td>True</td>\n",
       "      <td>Moroni to Moheli. Turned out to be a pretty ...</td>\n",
       "      <td>NaN</td>\n",
       "      <td>Solo Leisure</td>\n",
       "      <td>Economy Class</td>\n",
       "      <td>Moroni to Moheli</td>\n",
       "      <td>November 2019</td>\n",
       "      <td>4.0</td>\n",
       "      <td>5.0</td>\n",
       "      <td>4.0</td>\n",
       "      <td>4.0</td>\n",
       "      <td>NaN</td>\n",
       "      <td>NaN</td>\n",
       "      <td>3.0</td>\n",
       "      <td>yes</td>\n",
       "    </tr>\n",
       "    <tr>\n",
       "      <th>1</th>\n",
       "      <td>1</td>\n",
       "      <td>AB Aviation</td>\n",
       "      <td>1</td>\n",
       "      <td>\"Not a good airline\"</td>\n",
       "      <td>25th June 2019</td>\n",
       "      <td>True</td>\n",
       "      <td>Moroni to Anjouan. It is a very small airline...</td>\n",
       "      <td>E120</td>\n",
       "      <td>Solo Leisure</td>\n",
       "      <td>Economy Class</td>\n",
       "      <td>Moroni to Anjouan</td>\n",
       "      <td>June 2019</td>\n",
       "      <td>2.0</td>\n",
       "      <td>2.0</td>\n",
       "      <td>1.0</td>\n",
       "      <td>1.0</td>\n",
       "      <td>NaN</td>\n",
       "      <td>NaN</td>\n",
       "      <td>2.0</td>\n",
       "      <td>no</td>\n",
       "    </tr>\n",
       "    <tr>\n",
       "      <th>2</th>\n",
       "      <td>2</td>\n",
       "      <td>AB Aviation</td>\n",
       "      <td>1</td>\n",
       "      <td>\"flight was fortunately short\"</td>\n",
       "      <td>25th June 2019</td>\n",
       "      <td>True</td>\n",
       "      <td>Anjouan to Dzaoudzi. A very small airline an...</td>\n",
       "      <td>Embraer E120</td>\n",
       "      <td>Solo Leisure</td>\n",
       "      <td>Economy Class</td>\n",
       "      <td>Anjouan to Dzaoudzi</td>\n",
       "      <td>June 2019</td>\n",
       "      <td>2.0</td>\n",
       "      <td>1.0</td>\n",
       "      <td>1.0</td>\n",
       "      <td>1.0</td>\n",
       "      <td>NaN</td>\n",
       "      <td>NaN</td>\n",
       "      <td>2.0</td>\n",
       "      <td>no</td>\n",
       "    </tr>\n",
       "    <tr>\n",
       "      <th>3</th>\n",
       "      <td>3</td>\n",
       "      <td>Adria Airways</td>\n",
       "      <td>1</td>\n",
       "      <td>\"I will never fly again with Adria\"</td>\n",
       "      <td>28th September 2019</td>\n",
       "      <td>False</td>\n",
       "      <td>Please do a favor yourself and do not fly wi...</td>\n",
       "      <td>NaN</td>\n",
       "      <td>Solo Leisure</td>\n",
       "      <td>Economy Class</td>\n",
       "      <td>Frankfurt to Pristina</td>\n",
       "      <td>September 2019</td>\n",
       "      <td>1.0</td>\n",
       "      <td>1.0</td>\n",
       "      <td>NaN</td>\n",
       "      <td>1.0</td>\n",
       "      <td>NaN</td>\n",
       "      <td>NaN</td>\n",
       "      <td>1.0</td>\n",
       "      <td>no</td>\n",
       "    </tr>\n",
       "  </tbody>\n",
       "</table>\n",
       "</div>"
      ],
      "text/plain": [
       "   Unnamed: 0   Airline Name Overall_Rating  \\\n",
       "0           0    AB Aviation              9   \n",
       "1           1    AB Aviation              1   \n",
       "2           2    AB Aviation              1   \n",
       "3           3  Adria Airways              1   \n",
       "\n",
       "                          Review_Title          Review Date  Verified  \\\n",
       "0              \"pretty decent airline\"   11th November 2019      True   \n",
       "1                 \"Not a good airline\"       25th June 2019      True   \n",
       "2       \"flight was fortunately short\"       25th June 2019      True   \n",
       "3  \"I will never fly again with Adria\"  28th September 2019     False   \n",
       "\n",
       "                                              Review       Aircraft  \\\n",
       "0    Moroni to Moheli. Turned out to be a pretty ...            NaN   \n",
       "1   Moroni to Anjouan. It is a very small airline...           E120   \n",
       "2    Anjouan to Dzaoudzi. A very small airline an...  Embraer E120    \n",
       "3    Please do a favor yourself and do not fly wi...            NaN   \n",
       "\n",
       "  Type Of Traveller      Seat Type                  Route      Date Flown  \\\n",
       "0      Solo Leisure  Economy Class       Moroni to Moheli   November 2019   \n",
       "1      Solo Leisure  Economy Class      Moroni to Anjouan       June 2019   \n",
       "2      Solo Leisure  Economy Class    Anjouan to Dzaoudzi       June 2019   \n",
       "3      Solo Leisure  Economy Class  Frankfurt to Pristina  September 2019   \n",
       "\n",
       "   Seat Comfort  Cabin Staff Service  Food & Beverages  Ground Service  \\\n",
       "0           4.0                  5.0               4.0             4.0   \n",
       "1           2.0                  2.0               1.0             1.0   \n",
       "2           2.0                  1.0               1.0             1.0   \n",
       "3           1.0                  1.0               NaN             1.0   \n",
       "\n",
       "   Inflight Entertainment  Wifi & Connectivity  Value For Money Recommended  \n",
       "0                     NaN                  NaN              3.0         yes  \n",
       "1                     NaN                  NaN              2.0          no  \n",
       "2                     NaN                  NaN              2.0          no  \n",
       "3                     NaN                  NaN              1.0          no  "
      ]
     },
     "execution_count": 2,
     "metadata": {},
     "output_type": "execute_result"
    }
   ],
   "source": [
    "data = pd.read_csv(r\"C:\\Users\\user\\Desktop\\guvi pro\\airline_review_NLP\\Airline_Reviews.csv\")\n",
    "data.head(4)"
   ]
  },
  {
   "cell_type": "code",
   "execution_count": 3,
   "id": "e94ca6a3",
   "metadata": {},
   "outputs": [
    {
     "name": "stdout",
     "output_type": "stream",
     "text": [
      "<class 'pandas.core.frame.DataFrame'>\n",
      "RangeIndex: 23171 entries, 0 to 23170\n",
      "Data columns (total 20 columns):\n",
      " #   Column                  Non-Null Count  Dtype  \n",
      "---  ------                  --------------  -----  \n",
      " 0   Unnamed: 0              23171 non-null  int64  \n",
      " 1   Airline Name            23171 non-null  object \n",
      " 2   Overall_Rating          23171 non-null  object \n",
      " 3   Review_Title            23171 non-null  object \n",
      " 4   Review Date             23171 non-null  object \n",
      " 5   Verified                23171 non-null  bool   \n",
      " 6   Review                  23171 non-null  object \n",
      " 7   Aircraft                7129 non-null   object \n",
      " 8   Type Of Traveller       19433 non-null  object \n",
      " 9   Seat Type               22075 non-null  object \n",
      " 10  Route                   19343 non-null  object \n",
      " 11  Date Flown              19417 non-null  object \n",
      " 12  Seat Comfort            19016 non-null  float64\n",
      " 13  Cabin Staff Service     18911 non-null  float64\n",
      " 14  Food & Beverages        14500 non-null  float64\n",
      " 15  Ground Service          18378 non-null  float64\n",
      " 16  Inflight Entertainment  10829 non-null  float64\n",
      " 17  Wifi & Connectivity     5920 non-null   float64\n",
      " 18  Value For Money         22105 non-null  float64\n",
      " 19  Recommended             23171 non-null  object \n",
      "dtypes: bool(1), float64(7), int64(1), object(11)\n",
      "memory usage: 3.4+ MB\n"
     ]
    }
   ],
   "source": [
    "data.info()"
   ]
  },
  {
   "cell_type": "code",
   "execution_count": 4,
   "id": "4262b925",
   "metadata": {},
   "outputs": [
    {
     "data": {
      "text/plain": [
       "Recommended\n",
       "no     15364\n",
       "yes     7807\n",
       "Name: count, dtype: int64"
      ]
     },
     "execution_count": 4,
     "metadata": {},
     "output_type": "execute_result"
    }
   ],
   "source": [
    "check_bal = data[\"Recommended\"].value_counts()\n",
    "check_bal"
   ]
  },
  {
   "cell_type": "code",
   "execution_count": 5,
   "id": "837ab9e3",
   "metadata": {},
   "outputs": [
    {
     "data": {
      "image/png": "[encoded data removed]",
      "text/plain": [
       "<Figure size 600x400 with 1 Axes>"
      ]
     },
     "metadata": {},
     "output_type": "display_data"
    }
   ],
   "source": [
    "plt.figure(figsize=(6,4))\n",
    "check_bal.plot(kind='bar' , color=[\"blue\",\"red\"])\n",
    "plt.title('Class Distribution')\n",
    "plt.ylabel('Count')\n",
    "plt.xlabel('Class')\n",
    "plt.show()"
   ]
  },
  {
   "cell_type": "code",
   "execution_count": 6,
   "id": "e24cd516",
   "metadata": {},
   "outputs": [
    {
     "data": {
      "text/plain": [
       "Overall_Rating\n",
       "1    11595\n",
       "2     2296\n",
       "9     1768\n",
       "8     1757\n",
       "3     1356\n",
       "7     1192\n",
       "4      859\n",
       "n      842\n",
       "5      830\n",
       "6      676\n",
       "Name: count, dtype: int64"
      ]
     },
     "execution_count": 6,
     "metadata": {},
     "output_type": "execute_result"
    }
   ],
   "source": [
    "data[\"Overall_Rating\"].value_counts()"
   ]
  },
  {
   "cell_type": "code",
   "execution_count": 7,
   "id": "83b2bcb0",
   "metadata": {},
   "outputs": [],
   "source": [
    "# Replace 'n' with 0 in the 'Overall_Rating' column\n",
    "data['Overall_Rating'] = data['Overall_Rating'].replace('n', '0').astype(int)\n",
    "\n"
   ]
  },
  {
   "cell_type": "code",
   "execution_count": 8,
   "id": "f1f4ac11",
   "metadata": {},
   "outputs": [
    {
     "data": {
      "text/plain": [
       "Overall_Rating\n",
       "1    11595\n",
       "2     2296\n",
       "9     1768\n",
       "8     1757\n",
       "3     1356\n",
       "7     1192\n",
       "4      859\n",
       "0      842\n",
       "5      830\n",
       "6      676\n",
       "Name: count, dtype: int64"
      ]
     },
     "execution_count": 8,
     "metadata": {},
     "output_type": "execute_result"
    }
   ],
   "source": [
    "data[\"Overall_Rating\"].value_counts()"
   ]
  },
  {
   "cell_type": "code",
   "execution_count": 9,
   "id": "3ce48a8a",
   "metadata": {},
   "outputs": [
    {
     "data": {
      "text/plain": [
       "[4, 1, 2, 3]\n",
       "Categories (4, int64): [1 < 2 < 3 < 4]"
      ]
     },
     "execution_count": 9,
     "metadata": {},
     "output_type": "execute_result"
    }
   ],
   "source": [
    "#Now let's convert this columns into only 4 different values\n",
    "data['New_Ratings'] = pd.cut(data['Overall_Rating'], 4, labels = [1,2,3,4])\n",
    "data['New_Ratings'].unique()"
   ]
  },
  {
   "cell_type": "code",
   "execution_count": 10,
   "id": "bf589f73",
   "metadata": {},
   "outputs": [
    {
     "data": {
      "text/html": [
       "<div>\n",
       "<style scoped>\n",
       "    .dataframe tbody tr th:only-of-type {\n",
       "        vertical-align: middle;\n",
       "    }\n",
       "\n",
       "    .dataframe tbody tr th {\n",
       "        vertical-align: top;\n",
       "    }\n",
       "\n",
       "    .dataframe thead th {\n",
       "        text-align: right;\n",
       "    }\n",
       "</style>\n",
       "<table border=\"1\" class=\"dataframe\">\n",
       "  <thead>\n",
       "    <tr style=\"text-align: right;\">\n",
       "      <th></th>\n",
       "      <th>Unnamed: 0</th>\n",
       "      <th>Airline Name</th>\n",
       "      <th>Overall_Rating</th>\n",
       "      <th>Review_Title</th>\n",
       "      <th>Review Date</th>\n",
       "      <th>Verified</th>\n",
       "      <th>Review</th>\n",
       "      <th>Aircraft</th>\n",
       "      <th>Type Of Traveller</th>\n",
       "      <th>Seat Type</th>\n",
       "      <th>...</th>\n",
       "      <th>Date Flown</th>\n",
       "      <th>Seat Comfort</th>\n",
       "      <th>Cabin Staff Service</th>\n",
       "      <th>Food &amp; Beverages</th>\n",
       "      <th>Ground Service</th>\n",
       "      <th>Inflight Entertainment</th>\n",
       "      <th>Wifi &amp; Connectivity</th>\n",
       "      <th>Value For Money</th>\n",
       "      <th>Recommended</th>\n",
       "      <th>New_Ratings</th>\n",
       "    </tr>\n",
       "  </thead>\n",
       "  <tbody>\n",
       "    <tr>\n",
       "      <th>23167</th>\n",
       "      <td>23167</td>\n",
       "      <td>ZIPAIR</td>\n",
       "      <td>1</td>\n",
       "      <td>\"Avoid at all costs\"</td>\n",
       "      <td>1st June 2022</td>\n",
       "      <td>True</td>\n",
       "      <td>Avoid at all costs. I booked flights to go f...</td>\n",
       "      <td>NaN</td>\n",
       "      <td>Solo Leisure</td>\n",
       "      <td>Economy Class</td>\n",
       "      <td>...</td>\n",
       "      <td>June 2022</td>\n",
       "      <td>NaN</td>\n",
       "      <td>NaN</td>\n",
       "      <td>NaN</td>\n",
       "      <td>NaN</td>\n",
       "      <td>NaN</td>\n",
       "      <td>NaN</td>\n",
       "      <td>1.0</td>\n",
       "      <td>no</td>\n",
       "      <td>1</td>\n",
       "    </tr>\n",
       "    <tr>\n",
       "      <th>23168</th>\n",
       "      <td>23168</td>\n",
       "      <td>ZIPAIR</td>\n",
       "      <td>3</td>\n",
       "      <td>\"Will not recommend to anyone\"</td>\n",
       "      <td>31st May 2022</td>\n",
       "      <td>True</td>\n",
       "      <td>Flight was leaving at 23.15 and after an hou...</td>\n",
       "      <td>NaN</td>\n",
       "      <td>Business</td>\n",
       "      <td>Economy Class</td>\n",
       "      <td>...</td>\n",
       "      <td>May 2022</td>\n",
       "      <td>2.0</td>\n",
       "      <td>4.0</td>\n",
       "      <td>2.0</td>\n",
       "      <td>1.0</td>\n",
       "      <td>NaN</td>\n",
       "      <td>NaN</td>\n",
       "      <td>2.0</td>\n",
       "      <td>no</td>\n",
       "      <td>2</td>\n",
       "    </tr>\n",
       "    <tr>\n",
       "      <th>23169</th>\n",
       "      <td>23169</td>\n",
       "      <td>ZIPAIR</td>\n",
       "      <td>6</td>\n",
       "      <td>\"It was immaculately clean\"</td>\n",
       "      <td>23rd May 2022</td>\n",
       "      <td>True</td>\n",
       "      <td>Zipair is JAL’s budget airline. They don’t ha...</td>\n",
       "      <td>Dreamliner</td>\n",
       "      <td>Business</td>\n",
       "      <td>Business Class</td>\n",
       "      <td>...</td>\n",
       "      <td>May 2022</td>\n",
       "      <td>3.0</td>\n",
       "      <td>4.0</td>\n",
       "      <td>3.0</td>\n",
       "      <td>1.0</td>\n",
       "      <td>2.0</td>\n",
       "      <td>5.0</td>\n",
       "      <td>5.0</td>\n",
       "      <td>yes</td>\n",
       "      <td>3</td>\n",
       "    </tr>\n",
       "    <tr>\n",
       "      <th>23170</th>\n",
       "      <td>23170</td>\n",
       "      <td>ZIPAIR</td>\n",
       "      <td>1</td>\n",
       "      <td>\"lost all of our money with no refund\"</td>\n",
       "      <td>20th May 2022</td>\n",
       "      <td>True</td>\n",
       "      <td>They lied about connection in Narita and we ...</td>\n",
       "      <td>NaN</td>\n",
       "      <td>Solo Leisure</td>\n",
       "      <td>Economy Class</td>\n",
       "      <td>...</td>\n",
       "      <td>May 2022</td>\n",
       "      <td>NaN</td>\n",
       "      <td>NaN</td>\n",
       "      <td>NaN</td>\n",
       "      <td>1.0</td>\n",
       "      <td>NaN</td>\n",
       "      <td>NaN</td>\n",
       "      <td>1.0</td>\n",
       "      <td>no</td>\n",
       "      <td>1</td>\n",
       "    </tr>\n",
       "  </tbody>\n",
       "</table>\n",
       "<p>4 rows × 21 columns</p>\n",
       "</div>"
      ],
      "text/plain": [
       "       Unnamed: 0 Airline Name  Overall_Rating  \\\n",
       "23167       23167       ZIPAIR               1   \n",
       "23168       23168       ZIPAIR               3   \n",
       "23169       23169       ZIPAIR               6   \n",
       "23170       23170       ZIPAIR               1   \n",
       "\n",
       "                                 Review_Title    Review Date  Verified  \\\n",
       "23167                    \"Avoid at all costs\"  1st June 2022      True   \n",
       "23168          \"Will not recommend to anyone\"  31st May 2022      True   \n",
       "23169             \"It was immaculately clean\"  23rd May 2022      True   \n",
       "23170  \"lost all of our money with no refund\"  20th May 2022      True   \n",
       "\n",
       "                                                  Review    Aircraft  \\\n",
       "23167    Avoid at all costs. I booked flights to go f...         NaN   \n",
       "23168    Flight was leaving at 23.15 and after an hou...         NaN   \n",
       "23169   Zipair is JAL’s budget airline. They don’t ha...  Dreamliner   \n",
       "23170    They lied about connection in Narita and we ...         NaN   \n",
       "\n",
       "      Type Of Traveller       Seat Type  ... Date Flown Seat Comfort  \\\n",
       "23167      Solo Leisure   Economy Class  ...  June 2022          NaN   \n",
       "23168          Business   Economy Class  ...   May 2022          2.0   \n",
       "23169          Business  Business Class  ...   May 2022          3.0   \n",
       "23170      Solo Leisure   Economy Class  ...   May 2022          NaN   \n",
       "\n",
       "       Cabin Staff Service  Food & Beverages  Ground Service  \\\n",
       "23167                  NaN               NaN             NaN   \n",
       "23168                  4.0               2.0             1.0   \n",
       "23169                  4.0               3.0             1.0   \n",
       "23170                  NaN               NaN             1.0   \n",
       "\n",
       "       Inflight Entertainment  Wifi & Connectivity  Value For Money  \\\n",
       "23167                     NaN                  NaN              1.0   \n",
       "23168                     NaN                  NaN              2.0   \n",
       "23169                     2.0                  5.0              5.0   \n",
       "23170                     NaN                  NaN              1.0   \n",
       "\n",
       "       Recommended New_Ratings  \n",
       "23167           no           1  \n",
       "23168           no           2  \n",
       "23169          yes           3  \n",
       "23170           no           1  \n",
       "\n",
       "[4 rows x 21 columns]"
      ]
     },
     "execution_count": 10,
     "metadata": {},
     "output_type": "execute_result"
    }
   ],
   "source": [
    "data.tail(4)"
   ]
  },
  {
   "cell_type": "code",
   "execution_count": 11,
   "id": "cd5d6e1c",
   "metadata": {},
   "outputs": [],
   "source": [
    "#Now let's get rid of some unuseful columns\n",
    "data = data.drop(['Unnamed: 0','Overall_Rating'], axis=1)"
   ]
  },
  {
   "cell_type": "code",
   "execution_count": 12,
   "id": "29cc1bb0",
   "metadata": {},
   "outputs": [
    {
     "data": {
      "text/plain": [
       "Index(['Airline Name', 'Review_Title', 'Review Date', 'Verified', 'Review',\n",
       "       'Aircraft', 'Type Of Traveller', 'Seat Type', 'Route', 'Date Flown',\n",
       "       'Seat Comfort', 'Cabin Staff Service', 'Food & Beverages',\n",
       "       'Ground Service', 'Inflight Entertainment', 'Wifi & Connectivity',\n",
       "       'Value For Money', 'Recommended', 'New_Ratings'],\n",
       "      dtype='object')"
      ]
     },
     "execution_count": 12,
     "metadata": {},
     "output_type": "execute_result"
    }
   ],
   "source": [
    "data.columns"
   ]
  },
  {
   "cell_type": "code",
   "execution_count": 13,
   "id": "7a4762af",
   "metadata": {},
   "outputs": [
    {
     "data": {
      "text/plain": [
       "Verified\n",
       "True     12322\n",
       "False    10849\n",
       "Name: count, dtype: int64"
      ]
     },
     "execution_count": 13,
     "metadata": {},
     "output_type": "execute_result"
    }
   ],
   "source": [
    "data['Verified'].value_counts()"
   ]
  },
  {
   "cell_type": "code",
   "execution_count": 14,
   "id": "91454deb",
   "metadata": {},
   "outputs": [
    {
     "name": "stdout",
     "output_type": "stream",
     "text": [
      "<class 'pandas.core.frame.DataFrame'>\n",
      "RangeIndex: 23171 entries, 0 to 23170\n",
      "Data columns (total 19 columns):\n",
      " #   Column                  Non-Null Count  Dtype   \n",
      "---  ------                  --------------  -----   \n",
      " 0   Airline Name            23171 non-null  object  \n",
      " 1   Review_Title            23171 non-null  object  \n",
      " 2   Review Date             23171 non-null  object  \n",
      " 3   Verified                23171 non-null  bool    \n",
      " 4   Review                  23171 non-null  object  \n",
      " 5   Aircraft                7129 non-null   object  \n",
      " 6   Type Of Traveller       19433 non-null  object  \n",
      " 7   Seat Type               22075 non-null  object  \n",
      " 8   Route                   19343 non-null  object  \n",
      " 9   Date Flown              19417 non-null  object  \n",
      " 10  Seat Comfort            19016 non-null  float64 \n",
      " 11  Cabin Staff Service     18911 non-null  float64 \n",
      " 12  Food & Beverages        14500 non-null  float64 \n",
      " 13  Ground Service          18378 non-null  float64 \n",
      " 14  Inflight Entertainment  10829 non-null  float64 \n",
      " 15  Wifi & Connectivity     5920 non-null   float64 \n",
      " 16  Value For Money         22105 non-null  float64 \n",
      " 17  Recommended             23171 non-null  object  \n",
      " 18  New_Ratings             23171 non-null  category\n",
      "dtypes: bool(1), category(1), float64(7), object(10)\n",
      "memory usage: 3.0+ MB\n"
     ]
    }
   ],
   "source": [
    "data.info()"
   ]
  },
  {
   "cell_type": "code",
   "execution_count": 15,
   "id": "5d3edb84",
   "metadata": {},
   "outputs": [
    {
     "data": {
      "text/html": [
       "<div>\n",
       "<style scoped>\n",
       "    .dataframe tbody tr th:only-of-type {\n",
       "        vertical-align: middle;\n",
       "    }\n",
       "\n",
       "    .dataframe tbody tr th {\n",
       "        vertical-align: top;\n",
       "    }\n",
       "\n",
       "    .dataframe thead th {\n",
       "        text-align: right;\n",
       "    }\n",
       "</style>\n",
       "<table border=\"1\" class=\"dataframe\">\n",
       "  <thead>\n",
       "    <tr style=\"text-align: right;\">\n",
       "      <th></th>\n",
       "      <th>Airline Name</th>\n",
       "      <th>Review_Title</th>\n",
       "      <th>Review Date</th>\n",
       "      <th>Verified</th>\n",
       "      <th>Review</th>\n",
       "      <th>Aircraft</th>\n",
       "      <th>Type Of Traveller</th>\n",
       "      <th>Seat Type</th>\n",
       "      <th>Route</th>\n",
       "      <th>Date Flown</th>\n",
       "      <th>Seat Comfort</th>\n",
       "      <th>Cabin Staff Service</th>\n",
       "      <th>Food &amp; Beverages</th>\n",
       "      <th>Ground Service</th>\n",
       "      <th>Inflight Entertainment</th>\n",
       "      <th>Wifi &amp; Connectivity</th>\n",
       "      <th>Value For Money</th>\n",
       "      <th>Recommended</th>\n",
       "      <th>New_Ratings</th>\n",
       "    </tr>\n",
       "  </thead>\n",
       "  <tbody>\n",
       "    <tr>\n",
       "      <th>23168</th>\n",
       "      <td>ZIPAIR</td>\n",
       "      <td>\"Will not recommend to anyone\"</td>\n",
       "      <td>31st May 2022</td>\n",
       "      <td>True</td>\n",
       "      <td>Flight was leaving at 23.15 and after an hou...</td>\n",
       "      <td>NaN</td>\n",
       "      <td>Business</td>\n",
       "      <td>Economy Class</td>\n",
       "      <td>Bangkok to Tokyo</td>\n",
       "      <td>May 2022</td>\n",
       "      <td>2.0</td>\n",
       "      <td>4.0</td>\n",
       "      <td>2.0</td>\n",
       "      <td>1.0</td>\n",
       "      <td>NaN</td>\n",
       "      <td>NaN</td>\n",
       "      <td>2.0</td>\n",
       "      <td>no</td>\n",
       "      <td>2</td>\n",
       "    </tr>\n",
       "    <tr>\n",
       "      <th>23169</th>\n",
       "      <td>ZIPAIR</td>\n",
       "      <td>\"It was immaculately clean\"</td>\n",
       "      <td>23rd May 2022</td>\n",
       "      <td>True</td>\n",
       "      <td>Zipair is JAL’s budget airline. They don’t ha...</td>\n",
       "      <td>Dreamliner</td>\n",
       "      <td>Business</td>\n",
       "      <td>Business Class</td>\n",
       "      <td>Tokyo to Los Angeles</td>\n",
       "      <td>May 2022</td>\n",
       "      <td>3.0</td>\n",
       "      <td>4.0</td>\n",
       "      <td>3.0</td>\n",
       "      <td>1.0</td>\n",
       "      <td>2.0</td>\n",
       "      <td>5.0</td>\n",
       "      <td>5.0</td>\n",
       "      <td>yes</td>\n",
       "      <td>3</td>\n",
       "    </tr>\n",
       "    <tr>\n",
       "      <th>23170</th>\n",
       "      <td>ZIPAIR</td>\n",
       "      <td>\"lost all of our money with no refund\"</td>\n",
       "      <td>20th May 2022</td>\n",
       "      <td>True</td>\n",
       "      <td>They lied about connection in Narita and we ...</td>\n",
       "      <td>NaN</td>\n",
       "      <td>Solo Leisure</td>\n",
       "      <td>Economy Class</td>\n",
       "      <td>Singapore to Tokyo</td>\n",
       "      <td>May 2022</td>\n",
       "      <td>NaN</td>\n",
       "      <td>NaN</td>\n",
       "      <td>NaN</td>\n",
       "      <td>1.0</td>\n",
       "      <td>NaN</td>\n",
       "      <td>NaN</td>\n",
       "      <td>1.0</td>\n",
       "      <td>no</td>\n",
       "      <td>1</td>\n",
       "    </tr>\n",
       "  </tbody>\n",
       "</table>\n",
       "</div>"
      ],
      "text/plain": [
       "      Airline Name                            Review_Title    Review Date  \\\n",
       "23168       ZIPAIR          \"Will not recommend to anyone\"  31st May 2022   \n",
       "23169       ZIPAIR             \"It was immaculately clean\"  23rd May 2022   \n",
       "23170       ZIPAIR  \"lost all of our money with no refund\"  20th May 2022   \n",
       "\n",
       "       Verified                                             Review  \\\n",
       "23168      True    Flight was leaving at 23.15 and after an hou...   \n",
       "23169      True   Zipair is JAL’s budget airline. They don’t ha...   \n",
       "23170      True    They lied about connection in Narita and we ...   \n",
       "\n",
       "         Aircraft Type Of Traveller       Seat Type                 Route  \\\n",
       "23168         NaN          Business   Economy Class      Bangkok to Tokyo   \n",
       "23169  Dreamliner          Business  Business Class  Tokyo to Los Angeles   \n",
       "23170         NaN      Solo Leisure   Economy Class    Singapore to Tokyo   \n",
       "\n",
       "      Date Flown  Seat Comfort  Cabin Staff Service  Food & Beverages  \\\n",
       "23168   May 2022           2.0                  4.0               2.0   \n",
       "23169   May 2022           3.0                  4.0               3.0   \n",
       "23170   May 2022           NaN                  NaN               NaN   \n",
       "\n",
       "       Ground Service  Inflight Entertainment  Wifi & Connectivity  \\\n",
       "23168             1.0                     NaN                  NaN   \n",
       "23169             1.0                     2.0                  5.0   \n",
       "23170             1.0                     NaN                  NaN   \n",
       "\n",
       "       Value For Money Recommended New_Ratings  \n",
       "23168              2.0          no           2  \n",
       "23169              5.0         yes           3  \n",
       "23170              1.0          no           1  "
      ]
     },
     "execution_count": 15,
     "metadata": {},
     "output_type": "execute_result"
    }
   ],
   "source": [
    "data.tail(3)"
   ]
  },
  {
   "cell_type": "code",
   "execution_count": 16,
   "id": "d7fcabb9",
   "metadata": {},
   "outputs": [
    {
     "data": {
      "text/plain": [
       "Airline Name                  0\n",
       "Review_Title                  0\n",
       "Review Date                   0\n",
       "Verified                      0\n",
       "Review                        0\n",
       "Aircraft                  16042\n",
       "Type Of Traveller          3738\n",
       "Seat Type                  1096\n",
       "Route                      3828\n",
       "Date Flown                 3754\n",
       "Seat Comfort               4155\n",
       "Cabin Staff Service        4260\n",
       "Food & Beverages           8671\n",
       "Ground Service             4793\n",
       "Inflight Entertainment    12342\n",
       "Wifi & Connectivity       17251\n",
       "Value For Money            1066\n",
       "Recommended                   0\n",
       "New_Ratings                   0\n",
       "dtype: int64"
      ]
     },
     "execution_count": 16,
     "metadata": {},
     "output_type": "execute_result"
    }
   ],
   "source": [
    "data.isnull().sum()"
   ]
  },
  {
   "cell_type": "code",
   "execution_count": 17,
   "id": "bc2c72b4",
   "metadata": {},
   "outputs": [
    {
     "data": {
      "text/plain": [
       "(23171, 19)"
      ]
     },
     "execution_count": 17,
     "metadata": {},
     "output_type": "execute_result"
    }
   ],
   "source": [
    "data.shape"
   ]
  },
  {
   "cell_type": "code",
   "execution_count": 18,
   "id": "3943995d",
   "metadata": {},
   "outputs": [],
   "source": [
    "#Dropping 'Aircraft', 'Wifi & Connectivity', 'Route' and 'Inflight Entertainment' columns.\n",
    "data = data.drop([\"Aircraft\" , \"Wifi & Connectivity\" , \"Route\" , \"Inflight Entertainment\"], axis=1)"
   ]
  },
  {
   "cell_type": "code",
   "execution_count": 19,
   "id": "7c662542",
   "metadata": {},
   "outputs": [],
   "source": [
    "# #Dropping the rows which 'Food & Beverages' is null.\n",
    "data = data.dropna(axis=0 ,subset=['Food & Beverages'])"
   ]
  },
  {
   "cell_type": "code",
   "execution_count": 20,
   "id": "d1dac413",
   "metadata": {},
   "outputs": [
    {
     "data": {
      "text/html": [
       "<div>\n",
       "<style scoped>\n",
       "    .dataframe tbody tr th:only-of-type {\n",
       "        vertical-align: middle;\n",
       "    }\n",
       "\n",
       "    .dataframe tbody tr th {\n",
       "        vertical-align: top;\n",
       "    }\n",
       "\n",
       "    .dataframe thead th {\n",
       "        text-align: right;\n",
       "    }\n",
       "</style>\n",
       "<table border=\"1\" class=\"dataframe\">\n",
       "  <thead>\n",
       "    <tr style=\"text-align: right;\">\n",
       "      <th></th>\n",
       "      <th>Airline Name</th>\n",
       "      <th>Review_Title</th>\n",
       "      <th>Review Date</th>\n",
       "      <th>Verified</th>\n",
       "      <th>Review</th>\n",
       "      <th>Type Of Traveller</th>\n",
       "      <th>Seat Type</th>\n",
       "      <th>Date Flown</th>\n",
       "      <th>Seat Comfort</th>\n",
       "      <th>Cabin Staff Service</th>\n",
       "      <th>Food &amp; Beverages</th>\n",
       "      <th>Ground Service</th>\n",
       "      <th>Value For Money</th>\n",
       "      <th>Recommended</th>\n",
       "      <th>New_Ratings</th>\n",
       "    </tr>\n",
       "  </thead>\n",
       "  <tbody>\n",
       "    <tr>\n",
       "      <th>0</th>\n",
       "      <td>AB Aviation</td>\n",
       "      <td>\"pretty decent airline\"</td>\n",
       "      <td>11th November 2019</td>\n",
       "      <td>True</td>\n",
       "      <td>Moroni to Moheli. Turned out to be a pretty ...</td>\n",
       "      <td>Solo Leisure</td>\n",
       "      <td>Economy Class</td>\n",
       "      <td>November 2019</td>\n",
       "      <td>4.0</td>\n",
       "      <td>5.0</td>\n",
       "      <td>4.0</td>\n",
       "      <td>4.0</td>\n",
       "      <td>3.0</td>\n",
       "      <td>yes</td>\n",
       "      <td>4</td>\n",
       "    </tr>\n",
       "    <tr>\n",
       "      <th>1</th>\n",
       "      <td>AB Aviation</td>\n",
       "      <td>\"Not a good airline\"</td>\n",
       "      <td>25th June 2019</td>\n",
       "      <td>True</td>\n",
       "      <td>Moroni to Anjouan. It is a very small airline...</td>\n",
       "      <td>Solo Leisure</td>\n",
       "      <td>Economy Class</td>\n",
       "      <td>June 2019</td>\n",
       "      <td>2.0</td>\n",
       "      <td>2.0</td>\n",
       "      <td>1.0</td>\n",
       "      <td>1.0</td>\n",
       "      <td>2.0</td>\n",
       "      <td>no</td>\n",
       "      <td>1</td>\n",
       "    </tr>\n",
       "    <tr>\n",
       "      <th>2</th>\n",
       "      <td>AB Aviation</td>\n",
       "      <td>\"flight was fortunately short\"</td>\n",
       "      <td>25th June 2019</td>\n",
       "      <td>True</td>\n",
       "      <td>Anjouan to Dzaoudzi. A very small airline an...</td>\n",
       "      <td>Solo Leisure</td>\n",
       "      <td>Economy Class</td>\n",
       "      <td>June 2019</td>\n",
       "      <td>2.0</td>\n",
       "      <td>1.0</td>\n",
       "      <td>1.0</td>\n",
       "      <td>1.0</td>\n",
       "      <td>2.0</td>\n",
       "      <td>no</td>\n",
       "      <td>1</td>\n",
       "    </tr>\n",
       "    <tr>\n",
       "      <th>4</th>\n",
       "      <td>Adria Airways</td>\n",
       "      <td>\"it ruined our last days of holidays\"</td>\n",
       "      <td>24th September 2019</td>\n",
       "      <td>True</td>\n",
       "      <td>Do not book a flight with this airline! My fr...</td>\n",
       "      <td>Couple Leisure</td>\n",
       "      <td>Economy Class</td>\n",
       "      <td>September 2019</td>\n",
       "      <td>1.0</td>\n",
       "      <td>1.0</td>\n",
       "      <td>1.0</td>\n",
       "      <td>1.0</td>\n",
       "      <td>1.0</td>\n",
       "      <td>no</td>\n",
       "      <td>1</td>\n",
       "    </tr>\n",
       "    <tr>\n",
       "      <th>5</th>\n",
       "      <td>Adria Airways</td>\n",
       "      <td>\"Had very bad experience\"</td>\n",
       "      <td>17th September 2019</td>\n",
       "      <td>True</td>\n",
       "      <td>Had very bad experience with rerouted and ca...</td>\n",
       "      <td>Couple Leisure</td>\n",
       "      <td>Economy Class</td>\n",
       "      <td>September 2019</td>\n",
       "      <td>1.0</td>\n",
       "      <td>1.0</td>\n",
       "      <td>1.0</td>\n",
       "      <td>1.0</td>\n",
       "      <td>1.0</td>\n",
       "      <td>no</td>\n",
       "      <td>1</td>\n",
       "    </tr>\n",
       "  </tbody>\n",
       "</table>\n",
       "</div>"
      ],
      "text/plain": [
       "    Airline Name                           Review_Title          Review Date  \\\n",
       "0    AB Aviation                \"pretty decent airline\"   11th November 2019   \n",
       "1    AB Aviation                   \"Not a good airline\"       25th June 2019   \n",
       "2    AB Aviation         \"flight was fortunately short\"       25th June 2019   \n",
       "4  Adria Airways  \"it ruined our last days of holidays\"  24th September 2019   \n",
       "5  Adria Airways              \"Had very bad experience\"  17th September 2019   \n",
       "\n",
       "   Verified                                             Review  \\\n",
       "0      True    Moroni to Moheli. Turned out to be a pretty ...   \n",
       "1      True   Moroni to Anjouan. It is a very small airline...   \n",
       "2      True    Anjouan to Dzaoudzi. A very small airline an...   \n",
       "4      True   Do not book a flight with this airline! My fr...   \n",
       "5      True    Had very bad experience with rerouted and ca...   \n",
       "\n",
       "  Type Of Traveller      Seat Type      Date Flown  Seat Comfort  \\\n",
       "0      Solo Leisure  Economy Class   November 2019           4.0   \n",
       "1      Solo Leisure  Economy Class       June 2019           2.0   \n",
       "2      Solo Leisure  Economy Class       June 2019           2.0   \n",
       "4    Couple Leisure  Economy Class  September 2019           1.0   \n",
       "5    Couple Leisure  Economy Class  September 2019           1.0   \n",
       "\n",
       "   Cabin Staff Service  Food & Beverages  Ground Service  Value For Money  \\\n",
       "0                  5.0               4.0             4.0              3.0   \n",
       "1                  2.0               1.0             1.0              2.0   \n",
       "2                  1.0               1.0             1.0              2.0   \n",
       "4                  1.0               1.0             1.0              1.0   \n",
       "5                  1.0               1.0             1.0              1.0   \n",
       "\n",
       "  Recommended New_Ratings  \n",
       "0         yes           4  \n",
       "1          no           1  \n",
       "2          no           1  \n",
       "4          no           1  \n",
       "5          no           1  "
      ]
     },
     "execution_count": 20,
     "metadata": {},
     "output_type": "execute_result"
    }
   ],
   "source": [
    "data.head(5)"
   ]
  },
  {
   "cell_type": "code",
   "execution_count": 21,
   "id": "bc63059e",
   "metadata": {},
   "outputs": [
    {
     "data": {
      "text/plain": [
       "Airline Name              0\n",
       "Review_Title              0\n",
       "Review Date               0\n",
       "Verified                  0\n",
       "Review                    0\n",
       "Type Of Traveller      1388\n",
       "Seat Type                16\n",
       "Date Flown             1398\n",
       "Seat Comfort              1\n",
       "Cabin Staff Service       1\n",
       "Food & Beverages          0\n",
       "Ground Service         1392\n",
       "Value For Money           0\n",
       "Recommended               0\n",
       "New_Ratings               0\n",
       "dtype: int64"
      ]
     },
     "execution_count": 21,
     "metadata": {},
     "output_type": "execute_result"
    }
   ],
   "source": [
    "data.isnull().sum()"
   ]
  },
  {
   "cell_type": "code",
   "execution_count": 22,
   "id": "1358e24a",
   "metadata": {},
   "outputs": [
    {
     "data": {
      "text/plain": [
       "Airline Name\n",
       "Dragonair                  99\n",
       "TAM Airlines               98\n",
       "China Southern Airlines    98\n",
       "Hainan Airlines            97\n",
       "Royal Brunei Airlines      97\n",
       "                           ..\n",
       "Air Cote d'Ivoire           1\n",
       "Safi Airways                1\n",
       "Safarilink                  1\n",
       "Manta Air                   1\n",
       "MEGA Maldives Airlines      1\n",
       "Name: count, Length: 448, dtype: int64"
      ]
     },
     "execution_count": 22,
     "metadata": {},
     "output_type": "execute_result"
    }
   ],
   "source": [
    "data['Airline Name'].value_counts()"
   ]
  },
  {
   "cell_type": "code",
   "execution_count": 23,
   "id": "0c9720ef",
   "metadata": {},
   "outputs": [],
   "source": [
    "# drop  the airline name it  as more than 400 diff names :\n",
    "data = data.drop(['Airline Name'], axis=1)"
   ]
  },
  {
   "cell_type": "markdown",
   "id": "35587afd",
   "metadata": {},
   "source": [
    "# EDA"
   ]
  },
  {
   "cell_type": "code",
   "execution_count": 24,
   "id": "771028b5",
   "metadata": {},
   "outputs": [
    {
     "data": {
      "text/plain": [
       "Recommended\n",
       "no     8573\n",
       "yes    5927\n",
       "Name: count, dtype: int64"
      ]
     },
     "execution_count": 24,
     "metadata": {},
     "output_type": "execute_result"
    }
   ],
   "source": [
    "data[\"Recommended\"].value_counts()"
   ]
  },
  {
   "cell_type": "code",
   "execution_count": 25,
   "id": "15dca805",
   "metadata": {},
   "outputs": [
    {
     "data": {
      "text/plain": [
       "New_Ratings\n",
       "1    8362\n",
       "4    3584\n",
       "2    1503\n",
       "3    1051\n",
       "Name: count, dtype: int64"
      ]
     },
     "execution_count": 25,
     "metadata": {},
     "output_type": "execute_result"
    }
   ],
   "source": [
    "data[\"New_Ratings\"].value_counts()"
   ]
  },
  {
   "cell_type": "code",
   "execution_count": 26,
   "id": "5b21c6fa",
   "metadata": {},
   "outputs": [
    {
     "data": {
      "image/png": "[encoded data removed]",
      "text/plain": [
       "<Figure size 1000x400 with 1 Axes>"
      ]
     },
     "metadata": {},
     "output_type": "display_data"
    }
   ],
   "source": [
    "# EDA :\n",
    "# plotting the data :\n",
    "plt.figure(figsize=(10,4))\n",
    "sns.countplot(data = data , x =\"Recommended\" , hue = \"New_Ratings\")\n",
    "plt.show()\n"
   ]
  },
  {
   "cell_type": "code",
   "execution_count": 27,
   "id": "3af2e68e",
   "metadata": {},
   "outputs": [
    {
     "data": {
      "text/plain": [
       "Verified\n",
       "True     8174\n",
       "False    6326\n",
       "Name: count, dtype: int64"
      ]
     },
     "execution_count": 27,
     "metadata": {},
     "output_type": "execute_result"
    }
   ],
   "source": [
    "data[\"Verified\"].value_counts()"
   ]
  },
  {
   "cell_type": "code",
   "execution_count": 28,
   "id": "4972a56f",
   "metadata": {},
   "outputs": [
    {
     "data": {
      "image/png": "[encoded data removed]",
      "text/plain": [
       "<Figure size 1000x400 with 1 Axes>"
      ]
     },
     "metadata": {},
     "output_type": "display_data"
    }
   ],
   "source": [
    "plt.figure(figsize=(10,4))\n",
    "sns.countplot(data = data , x =\"Verified\" , hue = \"New_Ratings\")\n",
    "plt.show()"
   ]
  },
  {
   "cell_type": "code",
   "execution_count": 29,
   "id": "a676c3e9",
   "metadata": {},
   "outputs": [
    {
     "data": {
      "text/html": [
       "<div>\n",
       "<style scoped>\n",
       "    .dataframe tbody tr th:only-of-type {\n",
       "        vertical-align: middle;\n",
       "    }\n",
       "\n",
       "    .dataframe tbody tr th {\n",
       "        vertical-align: top;\n",
       "    }\n",
       "\n",
       "    .dataframe thead th {\n",
       "        text-align: right;\n",
       "    }\n",
       "</style>\n",
       "<table border=\"1\" class=\"dataframe\">\n",
       "  <thead>\n",
       "    <tr style=\"text-align: right;\">\n",
       "      <th></th>\n",
       "      <th>Review_Title</th>\n",
       "      <th>Review Date</th>\n",
       "      <th>Verified</th>\n",
       "      <th>Review</th>\n",
       "      <th>Type Of Traveller</th>\n",
       "      <th>Seat Type</th>\n",
       "      <th>Date Flown</th>\n",
       "      <th>Seat Comfort</th>\n",
       "      <th>Cabin Staff Service</th>\n",
       "      <th>Food &amp; Beverages</th>\n",
       "      <th>Ground Service</th>\n",
       "      <th>Value For Money</th>\n",
       "      <th>Recommended</th>\n",
       "      <th>New_Ratings</th>\n",
       "    </tr>\n",
       "  </thead>\n",
       "  <tbody>\n",
       "    <tr>\n",
       "      <th>0</th>\n",
       "      <td>\"pretty decent airline\"</td>\n",
       "      <td>11th November 2019</td>\n",
       "      <td>True</td>\n",
       "      <td>Moroni to Moheli. Turned out to be a pretty ...</td>\n",
       "      <td>Solo Leisure</td>\n",
       "      <td>Economy Class</td>\n",
       "      <td>November 2019</td>\n",
       "      <td>4.0</td>\n",
       "      <td>5.0</td>\n",
       "      <td>4.0</td>\n",
       "      <td>4.0</td>\n",
       "      <td>3.0</td>\n",
       "      <td>yes</td>\n",
       "      <td>4</td>\n",
       "    </tr>\n",
       "    <tr>\n",
       "      <th>1</th>\n",
       "      <td>\"Not a good airline\"</td>\n",
       "      <td>25th June 2019</td>\n",
       "      <td>True</td>\n",
       "      <td>Moroni to Anjouan. It is a very small airline...</td>\n",
       "      <td>Solo Leisure</td>\n",
       "      <td>Economy Class</td>\n",
       "      <td>June 2019</td>\n",
       "      <td>2.0</td>\n",
       "      <td>2.0</td>\n",
       "      <td>1.0</td>\n",
       "      <td>1.0</td>\n",
       "      <td>2.0</td>\n",
       "      <td>no</td>\n",
       "      <td>1</td>\n",
       "    </tr>\n",
       "    <tr>\n",
       "      <th>2</th>\n",
       "      <td>\"flight was fortunately short\"</td>\n",
       "      <td>25th June 2019</td>\n",
       "      <td>True</td>\n",
       "      <td>Anjouan to Dzaoudzi. A very small airline an...</td>\n",
       "      <td>Solo Leisure</td>\n",
       "      <td>Economy Class</td>\n",
       "      <td>June 2019</td>\n",
       "      <td>2.0</td>\n",
       "      <td>1.0</td>\n",
       "      <td>1.0</td>\n",
       "      <td>1.0</td>\n",
       "      <td>2.0</td>\n",
       "      <td>no</td>\n",
       "      <td>1</td>\n",
       "    </tr>\n",
       "    <tr>\n",
       "      <th>4</th>\n",
       "      <td>\"it ruined our last days of holidays\"</td>\n",
       "      <td>24th September 2019</td>\n",
       "      <td>True</td>\n",
       "      <td>Do not book a flight with this airline! My fr...</td>\n",
       "      <td>Couple Leisure</td>\n",
       "      <td>Economy Class</td>\n",
       "      <td>September 2019</td>\n",
       "      <td>1.0</td>\n",
       "      <td>1.0</td>\n",
       "      <td>1.0</td>\n",
       "      <td>1.0</td>\n",
       "      <td>1.0</td>\n",
       "      <td>no</td>\n",
       "      <td>1</td>\n",
       "    </tr>\n",
       "    <tr>\n",
       "      <th>5</th>\n",
       "      <td>\"Had very bad experience\"</td>\n",
       "      <td>17th September 2019</td>\n",
       "      <td>True</td>\n",
       "      <td>Had very bad experience with rerouted and ca...</td>\n",
       "      <td>Couple Leisure</td>\n",
       "      <td>Economy Class</td>\n",
       "      <td>September 2019</td>\n",
       "      <td>1.0</td>\n",
       "      <td>1.0</td>\n",
       "      <td>1.0</td>\n",
       "      <td>1.0</td>\n",
       "      <td>1.0</td>\n",
       "      <td>no</td>\n",
       "      <td>1</td>\n",
       "    </tr>\n",
       "  </tbody>\n",
       "</table>\n",
       "</div>"
      ],
      "text/plain": [
       "                            Review_Title          Review Date  Verified  \\\n",
       "0                \"pretty decent airline\"   11th November 2019      True   \n",
       "1                   \"Not a good airline\"       25th June 2019      True   \n",
       "2         \"flight was fortunately short\"       25th June 2019      True   \n",
       "4  \"it ruined our last days of holidays\"  24th September 2019      True   \n",
       "5              \"Had very bad experience\"  17th September 2019      True   \n",
       "\n",
       "                                              Review Type Of Traveller  \\\n",
       "0    Moroni to Moheli. Turned out to be a pretty ...      Solo Leisure   \n",
       "1   Moroni to Anjouan. It is a very small airline...      Solo Leisure   \n",
       "2    Anjouan to Dzaoudzi. A very small airline an...      Solo Leisure   \n",
       "4   Do not book a flight with this airline! My fr...    Couple Leisure   \n",
       "5    Had very bad experience with rerouted and ca...    Couple Leisure   \n",
       "\n",
       "       Seat Type      Date Flown  Seat Comfort  Cabin Staff Service  \\\n",
       "0  Economy Class   November 2019           4.0                  5.0   \n",
       "1  Economy Class       June 2019           2.0                  2.0   \n",
       "2  Economy Class       June 2019           2.0                  1.0   \n",
       "4  Economy Class  September 2019           1.0                  1.0   \n",
       "5  Economy Class  September 2019           1.0                  1.0   \n",
       "\n",
       "   Food & Beverages  Ground Service  Value For Money Recommended New_Ratings  \n",
       "0               4.0             4.0              3.0         yes           4  \n",
       "1               1.0             1.0              2.0          no           1  \n",
       "2               1.0             1.0              2.0          no           1  \n",
       "4               1.0             1.0              1.0          no           1  \n",
       "5               1.0             1.0              1.0          no           1  "
      ]
     },
     "execution_count": 29,
     "metadata": {},
     "output_type": "execute_result"
    }
   ],
   "source": [
    "data.head(5)"
   ]
  },
  {
   "cell_type": "code",
   "execution_count": 43,
   "id": "33188bae",
   "metadata": {},
   "outputs": [
    {
     "data": {
      "text/plain": [
       "dtype('int32')"
      ]
     },
     "execution_count": 43,
     "metadata": {},
     "output_type": "execute_result"
    }
   ],
   "source": [
    "data['New_Ratings']= data['New_Ratings'].astype(int)\n",
    "data['New_Ratings'].dtype"
   ]
  },
  {
   "cell_type": "code",
   "execution_count": 57,
   "id": "a8451977",
   "metadata": {},
   "outputs": [],
   "source": [
    "data = data.drop([\"Date Flown\" , \"Review Date\"], axis=1)"
   ]
  },
  {
   "cell_type": "code",
   "execution_count": 63,
   "id": "bb8a775b",
   "metadata": {},
   "outputs": [
    {
     "name": "stdout",
     "output_type": "stream",
     "text": [
      "no_of_dup :  4\n"
     ]
    },
    {
     "data": {
      "text/html": [
       "<div>\n",
       "<style scoped>\n",
       "    .dataframe tbody tr th:only-of-type {\n",
       "        vertical-align: middle;\n",
       "    }\n",
       "\n",
       "    .dataframe tbody tr th {\n",
       "        vertical-align: top;\n",
       "    }\n",
       "\n",
       "    .dataframe thead th {\n",
       "        text-align: right;\n",
       "    }\n",
       "</style>\n",
       "<table border=\"1\" class=\"dataframe\">\n",
       "  <thead>\n",
       "    <tr style=\"text-align: right;\">\n",
       "      <th></th>\n",
       "      <th>Review_Title</th>\n",
       "      <th>Verified</th>\n",
       "      <th>Review</th>\n",
       "      <th>Type Of Traveller</th>\n",
       "      <th>Seat Type</th>\n",
       "      <th>Seat Comfort</th>\n",
       "      <th>Cabin Staff Service</th>\n",
       "      <th>Food &amp; Beverages</th>\n",
       "      <th>Ground Service</th>\n",
       "      <th>Value For Money</th>\n",
       "      <th>Recommended</th>\n",
       "      <th>New_Ratings</th>\n",
       "    </tr>\n",
       "  </thead>\n",
       "  <tbody>\n",
       "    <tr>\n",
       "      <th>16641</th>\n",
       "      <td>\"give away your seat\"</td>\n",
       "      <td>True</td>\n",
       "      <td>Anchorage to Kenai. They will give away your...</td>\n",
       "      <td>Business</td>\n",
       "      <td>Economy Class</td>\n",
       "      <td>1.0</td>\n",
       "      <td>1.0</td>\n",
       "      <td>1.0</td>\n",
       "      <td>1.0</td>\n",
       "      <td>1.0</td>\n",
       "      <td>no</td>\n",
       "      <td>1</td>\n",
       "    </tr>\n",
       "    <tr>\n",
       "      <th>16642</th>\n",
       "      <td>\"overall experience was fantastic\"</td>\n",
       "      <td>True</td>\n",
       "      <td>I flew on Ravn Alaska with my girlfriend bac...</td>\n",
       "      <td>Couple Leisure</td>\n",
       "      <td>Economy Class</td>\n",
       "      <td>5.0</td>\n",
       "      <td>5.0</td>\n",
       "      <td>5.0</td>\n",
       "      <td>5.0</td>\n",
       "      <td>5.0</td>\n",
       "      <td>yes</td>\n",
       "      <td>1</td>\n",
       "    </tr>\n",
       "    <tr>\n",
       "      <th>16644</th>\n",
       "      <td>\"delayed with no explanation</td>\n",
       "      <td>True</td>\n",
       "      <td>Anchorage to Homer. Last 4 times I have flow...</td>\n",
       "      <td>Solo Leisure</td>\n",
       "      <td>Economy Class</td>\n",
       "      <td>3.0</td>\n",
       "      <td>5.0</td>\n",
       "      <td>3.0</td>\n",
       "      <td>2.0</td>\n",
       "      <td>3.0</td>\n",
       "      <td>no</td>\n",
       "      <td>3</td>\n",
       "    </tr>\n",
       "    <tr>\n",
       "      <th>16645</th>\n",
       "      <td>\"never be using Ravn again\"</td>\n",
       "      <td>False</td>\n",
       "      <td>Ravn Alaska is so frustrating. First off, your...</td>\n",
       "      <td>Couple Leisure</td>\n",
       "      <td>Economy Class</td>\n",
       "      <td>1.0</td>\n",
       "      <td>3.0</td>\n",
       "      <td>3.0</td>\n",
       "      <td>1.0</td>\n",
       "      <td>2.0</td>\n",
       "      <td>no</td>\n",
       "      <td>2</td>\n",
       "    </tr>\n",
       "  </tbody>\n",
       "</table>\n",
       "</div>"
      ],
      "text/plain": [
       "                             Review_Title  Verified  \\\n",
       "16641               \"give away your seat\"      True   \n",
       "16642  \"overall experience was fantastic\"      True   \n",
       "16644        \"delayed with no explanation      True   \n",
       "16645         \"never be using Ravn again\"     False   \n",
       "\n",
       "                                                  Review Type Of Traveller  \\\n",
       "16641    Anchorage to Kenai. They will give away your...          Business   \n",
       "16642    I flew on Ravn Alaska with my girlfriend bac...    Couple Leisure   \n",
       "16644    Anchorage to Homer. Last 4 times I have flow...      Solo Leisure   \n",
       "16645  Ravn Alaska is so frustrating. First off, your...    Couple Leisure   \n",
       "\n",
       "           Seat Type  Seat Comfort  Cabin Staff Service  Food & Beverages  \\\n",
       "16641  Economy Class           1.0                  1.0               1.0   \n",
       "16642  Economy Class           5.0                  5.0               5.0   \n",
       "16644  Economy Class           3.0                  5.0               3.0   \n",
       "16645  Economy Class           1.0                  3.0               3.0   \n",
       "\n",
       "       Ground Service  Value For Money Recommended  New_Ratings  \n",
       "16641             1.0              1.0          no            1  \n",
       "16642             5.0              5.0         yes            1  \n",
       "16644             2.0              3.0          no            3  \n",
       "16645             1.0              2.0          no            2  "
      ]
     },
     "execution_count": 63,
     "metadata": {},
     "output_type": "execute_result"
    }
   ],
   "source": [
    "# find duplicates :\n",
    "no_of_dup = data.duplicated().sum()\n",
    "print(\"no_of_dup : \" , no_of_dup)\n",
    "#print duplicates :\n",
    "data[data.duplicated()]\n",
    "\n"
   ]
  },
  {
   "cell_type": "code",
   "execution_count": 64,
   "id": "1124d5b0",
   "metadata": {},
   "outputs": [],
   "source": [
    "data = data.drop_duplicates()"
   ]
  },
  {
   "cell_type": "code",
   "execution_count": 65,
   "id": "4a70a674",
   "metadata": {},
   "outputs": [
    {
     "name": "stdout",
     "output_type": "stream",
     "text": [
      "no_of_dup :  0\n"
     ]
    }
   ],
   "source": [
    "#check duplicates :\n",
    "no_of_dup = data.duplicated().sum()\n",
    "print(\"no_of_dup : \" , no_of_dup)"
   ]
  },
  {
   "cell_type": "code",
   "execution_count": 70,
   "id": "e4a2a238",
   "metadata": {},
   "outputs": [
    {
     "data": {
      "text/plain": [
       "Review_Title              0\n",
       "Verified                  0\n",
       "Review                    0\n",
       "Type Of Traveller      1388\n",
       "Seat Type                16\n",
       "Seat Comfort              1\n",
       "Cabin Staff Service       1\n",
       "Food & Beverages          0\n",
       "Ground Service         1392\n",
       "Value For Money           0\n",
       "Recommended               0\n",
       "New_Ratings               0\n",
       "dtype: int64"
      ]
     },
     "execution_count": 70,
     "metadata": {},
     "output_type": "execute_result"
    }
   ],
   "source": [
    "data.isnull().sum()"
   ]
  },
  {
   "cell_type": "code",
   "execution_count": 72,
   "id": "d9c44c09",
   "metadata": {},
   "outputs": [],
   "source": [
    "# treting null values :\n",
    "data['Seat Comfort'] = data['Seat Comfort'].fillna(0)\n",
    "data['Cabin Staff Service'] = data['Cabin Staff Service'].fillna(0)"
   ]
  },
  {
   "cell_type": "code",
   "execution_count": 73,
   "id": "5357b1e0",
   "metadata": {},
   "outputs": [
    {
     "data": {
      "text/plain": [
       "Review_Title              0\n",
       "Verified                  0\n",
       "Review                    0\n",
       "Type Of Traveller      1388\n",
       "Seat Type                16\n",
       "Seat Comfort              0\n",
       "Cabin Staff Service       0\n",
       "Food & Beverages          0\n",
       "Ground Service         1392\n",
       "Value For Money           0\n",
       "Recommended               0\n",
       "New_Ratings               0\n",
       "dtype: int64"
      ]
     },
     "execution_count": 73,
     "metadata": {},
     "output_type": "execute_result"
    }
   ],
   "source": [
    "data.isnull().sum()"
   ]
  },
  {
   "cell_type": "code",
   "execution_count": 79,
   "id": "adf49d80",
   "metadata": {},
   "outputs": [
    {
     "data": {
      "text/plain": [
       "Seat Type\n",
       "Economy Class      11951\n",
       "Business Class      1840\n",
       "Premium Economy      525\n",
       "First Class          164\n",
       "Name: count, dtype: int64"
      ]
     },
     "execution_count": 79,
     "metadata": {},
     "output_type": "execute_result"
    }
   ],
   "source": [
    "data['Seat Type'].value_counts()\n"
   ]
  },
  {
   "cell_type": "code",
   "execution_count": 85,
   "id": "83d7e844",
   "metadata": {},
   "outputs": [],
   "source": [
    "# fill null values for the 'Seat Type' column as mode :\n",
    "data[\"Seat Type\"] = data[\"Seat Type\"].fillna(data[\"Seat Type\"].mode()[0])"
   ]
  },
  {
   "cell_type": "code",
   "execution_count": 87,
   "id": "19add3e2",
   "metadata": {},
   "outputs": [
    {
     "data": {
      "text/plain": [
       "Review_Title              0\n",
       "Verified                  0\n",
       "Review                    0\n",
       "Type Of Traveller      1388\n",
       "Seat Type                 0\n",
       "Seat Comfort              0\n",
       "Cabin Staff Service       0\n",
       "Food & Beverages          0\n",
       "Ground Service         1392\n",
       "Value For Money           0\n",
       "Recommended               0\n",
       "New_Ratings               0\n",
       "dtype: int64"
      ]
     },
     "execution_count": 87,
     "metadata": {},
     "output_type": "execute_result"
    }
   ],
   "source": [
    "data.isnull().sum()"
   ]
  },
  {
   "cell_type": "code",
   "execution_count": 90,
   "id": "0a415015",
   "metadata": {},
   "outputs": [],
   "source": [
    "data = data.drop(['Type Of Traveller'], axis=1)"
   ]
  },
  {
   "cell_type": "code",
   "execution_count": 91,
   "id": "115e6112",
   "metadata": {},
   "outputs": [
    {
     "data": {
      "text/plain": [
       "Review_Title              0\n",
       "Verified                  0\n",
       "Review                    0\n",
       "Seat Type                 0\n",
       "Seat Comfort              0\n",
       "Cabin Staff Service       0\n",
       "Food & Beverages          0\n",
       "Ground Service         1392\n",
       "Value For Money           0\n",
       "Recommended               0\n",
       "New_Ratings               0\n",
       "dtype: int64"
      ]
     },
     "execution_count": 91,
     "metadata": {},
     "output_type": "execute_result"
    }
   ],
   "source": [
    "data.isnull().sum()"
   ]
  },
  {
   "cell_type": "code",
   "execution_count": 95,
   "id": "70e13b3b",
   "metadata": {},
   "outputs": [],
   "source": [
    "data[\"Ground Service\"] = data[\"Ground Service\"].fillna(data[\"Ground Service\"].mode()[0])"
   ]
  },
  {
   "cell_type": "code",
   "execution_count": 96,
   "id": "e7b7449d",
   "metadata": {},
   "outputs": [
    {
     "data": {
      "text/plain": [
       "Review_Title           0\n",
       "Verified               0\n",
       "Review                 0\n",
       "Seat Type              0\n",
       "Seat Comfort           0\n",
       "Cabin Staff Service    0\n",
       "Food & Beverages       0\n",
       "Ground Service         0\n",
       "Value For Money        0\n",
       "Recommended            0\n",
       "New_Ratings            0\n",
       "dtype: int64"
      ]
     },
     "execution_count": 96,
     "metadata": {},
     "output_type": "execute_result"
    }
   ],
   "source": [
    "data.isnull().sum()"
   ]
  },
  {
   "cell_type": "code",
   "execution_count": 97,
   "id": "8b9d19db",
   "metadata": {},
   "outputs": [
    {
     "data": {
      "image/png": "[encoded data removed]",
      "text/plain": [
       "<Figure size 640x480 with 1 Axes>"
      ]
     },
     "metadata": {},
     "output_type": "display_data"
    }
   ],
   "source": [
    "#plt.figure(figsize=(8,4))\n",
    "sns.barplot(x = \"Seat Type\" , y = \"New_Ratings\" , hue =\"Verified\" , data = data)\n",
    "plt.show()"
   ]
  },
  {
   "cell_type": "code",
   "execution_count": 99,
   "id": "8bbbf419",
   "metadata": {},
   "outputs": [
    {
     "data": {
      "text/html": [
       "<div>\n",
       "<style scoped>\n",
       "    .dataframe tbody tr th:only-of-type {\n",
       "        vertical-align: middle;\n",
       "    }\n",
       "\n",
       "    .dataframe tbody tr th {\n",
       "        vertical-align: top;\n",
       "    }\n",
       "\n",
       "    .dataframe thead th {\n",
       "        text-align: right;\n",
       "    }\n",
       "</style>\n",
       "<table border=\"1\" class=\"dataframe\">\n",
       "  <thead>\n",
       "    <tr style=\"text-align: right;\">\n",
       "      <th></th>\n",
       "      <th>Verified</th>\n",
       "      <th>Review</th>\n",
       "      <th>Seat Type</th>\n",
       "      <th>Seat Comfort</th>\n",
       "      <th>Cabin Staff Service</th>\n",
       "      <th>Food &amp; Beverages</th>\n",
       "      <th>Ground Service</th>\n",
       "      <th>Value For Money</th>\n",
       "      <th>Recommended</th>\n",
       "      <th>New_Ratings</th>\n",
       "    </tr>\n",
       "  </thead>\n",
       "  <tbody>\n",
       "    <tr>\n",
       "      <th>0</th>\n",
       "      <td>True</td>\n",
       "      <td>Moroni to Moheli. Turned out to be a pretty ...</td>\n",
       "      <td>Economy Class</td>\n",
       "      <td>4.0</td>\n",
       "      <td>5.0</td>\n",
       "      <td>4.0</td>\n",
       "      <td>4.0</td>\n",
       "      <td>3.0</td>\n",
       "      <td>yes</td>\n",
       "      <td>4</td>\n",
       "    </tr>\n",
       "    <tr>\n",
       "      <th>1</th>\n",
       "      <td>True</td>\n",
       "      <td>Moroni to Anjouan. It is a very small airline...</td>\n",
       "      <td>Economy Class</td>\n",
       "      <td>2.0</td>\n",
       "      <td>2.0</td>\n",
       "      <td>1.0</td>\n",
       "      <td>1.0</td>\n",
       "      <td>2.0</td>\n",
       "      <td>no</td>\n",
       "      <td>1</td>\n",
       "    </tr>\n",
       "    <tr>\n",
       "      <th>2</th>\n",
       "      <td>True</td>\n",
       "      <td>Anjouan to Dzaoudzi. A very small airline an...</td>\n",
       "      <td>Economy Class</td>\n",
       "      <td>2.0</td>\n",
       "      <td>1.0</td>\n",
       "      <td>1.0</td>\n",
       "      <td>1.0</td>\n",
       "      <td>2.0</td>\n",
       "      <td>no</td>\n",
       "      <td>1</td>\n",
       "    </tr>\n",
       "    <tr>\n",
       "      <th>4</th>\n",
       "      <td>True</td>\n",
       "      <td>Do not book a flight with this airline! My fr...</td>\n",
       "      <td>Economy Class</td>\n",
       "      <td>1.0</td>\n",
       "      <td>1.0</td>\n",
       "      <td>1.0</td>\n",
       "      <td>1.0</td>\n",
       "      <td>1.0</td>\n",
       "      <td>no</td>\n",
       "      <td>1</td>\n",
       "    </tr>\n",
       "    <tr>\n",
       "      <th>5</th>\n",
       "      <td>True</td>\n",
       "      <td>Had very bad experience with rerouted and ca...</td>\n",
       "      <td>Economy Class</td>\n",
       "      <td>1.0</td>\n",
       "      <td>1.0</td>\n",
       "      <td>1.0</td>\n",
       "      <td>1.0</td>\n",
       "      <td>1.0</td>\n",
       "      <td>no</td>\n",
       "      <td>1</td>\n",
       "    </tr>\n",
       "  </tbody>\n",
       "</table>\n",
       "</div>"
      ],
      "text/plain": [
       "   Verified                                             Review      Seat Type  \\\n",
       "0      True    Moroni to Moheli. Turned out to be a pretty ...  Economy Class   \n",
       "1      True   Moroni to Anjouan. It is a very small airline...  Economy Class   \n",
       "2      True    Anjouan to Dzaoudzi. A very small airline an...  Economy Class   \n",
       "4      True   Do not book a flight with this airline! My fr...  Economy Class   \n",
       "5      True    Had very bad experience with rerouted and ca...  Economy Class   \n",
       "\n",
       "   Seat Comfort  Cabin Staff Service  Food & Beverages  Ground Service  \\\n",
       "0           4.0                  5.0               4.0             4.0   \n",
       "1           2.0                  2.0               1.0             1.0   \n",
       "2           2.0                  1.0               1.0             1.0   \n",
       "4           1.0                  1.0               1.0             1.0   \n",
       "5           1.0                  1.0               1.0             1.0   \n",
       "\n",
       "   Value For Money Recommended  New_Ratings  \n",
       "0              3.0         yes            4  \n",
       "1              2.0          no            1  \n",
       "2              2.0          no            1  \n",
       "4              1.0          no            1  \n",
       "5              1.0          no            1  "
      ]
     },
     "execution_count": 99,
     "metadata": {},
     "output_type": "execute_result"
    }
   ],
   "source": [
    "# drop unnecessary columns :\n",
    "data = data.drop([\"Review_Title\"], axis=1)\n",
    "data.head(5)"
   ]
  },
  {
   "cell_type": "code",
   "execution_count": null,
   "id": "c5112646",
   "metadata": {},
   "outputs": [],
   "source": []
  }
 ],
 "metadata": {
  "kernelspec": {
   "display_name": "Python 3 (ipykernel)",
   "language": "python",
   "name": "python3"
  },
  "language_info": {
   "codemirror_mode": {
    "name": "ipython",
    "version": 3
   },
   "file_extension": ".py",
   "mimetype": "text/x-python",
   "name": "python",
   "nbconvert_exporter": "python",
   "pygments_lexer": "ipython3",
   "version": "3.11.3"
  }
 },
 "nbformat": 4,
 "nbformat_minor": 5
}
