{
 "cells": [
  {
   "cell_type": "code",
   "execution_count": 102,
   "id": "ebbcd0d9",
   "metadata": {},
   "outputs": [
    {
     "name": "stderr",
     "output_type": "stream",
     "text": [
      "[nltk_data] Downloading package punkt to\n",
      "[nltk_data]     C:\\Users\\user\\AppData\\Roaming\\nltk_data...\n",
      "[nltk_data]   Package punkt is already up-to-date!\n",
      "[nltk_data] Downloading package stopwords to\n",
      "[nltk_data]     C:\\Users\\user\\AppData\\Roaming\\nltk_data...\n",
      "[nltk_data]   Package stopwords is already up-to-date!\n"
     ]
    }
   ],
   "source": [
    "import pandas as pd\n",
    "import matplotlib.pyplot as plt\n",
    "import seaborn as sns\n",
    "import numpy as np\n",
    "\n",
    "import nltk\n",
    "nltk.download('punkt')\n",
    "nltk.download('stopwords')\n",
    "from nltk.corpus import stopwords\n",
    "from nltk import word_tokenize"
   ]
  },
  {
   "cell_type": "code",
   "execution_count": 103,
   "id": "8418c9d1",
   "metadata": {},
   "outputs": [
    {
     "data": {
      "text/html": [
       "<div>\n",
       "<style scoped>\n",
       "    .dataframe tbody tr th:only-of-type {\n",
       "        vertical-align: middle;\n",
       "    }\n",
       "\n",
       "    .dataframe tbody tr th {\n",
       "        vertical-align: top;\n",
       "    }\n",
       "\n",
       "    .dataframe thead th {\n",
       "        text-align: right;\n",
       "    }\n",
       "</style>\n",
       "<table border=\"1\" class=\"dataframe\">\n",
       "  <thead>\n",
       "    <tr style=\"text-align: right;\">\n",
       "      <th></th>\n",
       "      <th>Unnamed: 0</th>\n",
       "      <th>Airline Name</th>\n",
       "      <th>Overall_Rating</th>\n",
       "      <th>Review_Title</th>\n",
       "      <th>Review Date</th>\n",
       "      <th>Verified</th>\n",
       "      <th>Review</th>\n",
       "      <th>Aircraft</th>\n",
       "      <th>Type Of Traveller</th>\n",
       "      <th>Seat Type</th>\n",
       "      <th>Route</th>\n",
       "      <th>Date Flown</th>\n",
       "      <th>Seat Comfort</th>\n",
       "      <th>Cabin Staff Service</th>\n",
       "      <th>Food &amp; Beverages</th>\n",
       "      <th>Ground Service</th>\n",
       "      <th>Inflight Entertainment</th>\n",
       "      <th>Wifi &amp; Connectivity</th>\n",
       "      <th>Value For Money</th>\n",
       "      <th>Recommended</th>\n",
       "    </tr>\n",
       "  </thead>\n",
       "  <tbody>\n",
       "    <tr>\n",
       "      <th>0</th>\n",
       "      <td>0</td>\n",
       "      <td>AB Aviation</td>\n",
       "      <td>9</td>\n",
       "      <td>\"pretty decent airline\"</td>\n",
       "      <td>11th November 2019</td>\n",
       "      <td>True</td>\n",
       "      <td>Moroni to Moheli. Turned out to be a pretty ...</td>\n",
       "      <td>NaN</td>\n",
       "      <td>Solo Leisure</td>\n",
       "      <td>Economy Class</td>\n",
       "      <td>Moroni to Moheli</td>\n",
       "      <td>November 2019</td>\n",
       "      <td>4.0</td>\n",
       "      <td>5.0</td>\n",
       "      <td>4.0</td>\n",
       "      <td>4.0</td>\n",
       "      <td>NaN</td>\n",
       "      <td>NaN</td>\n",
       "      <td>3.0</td>\n",
       "      <td>yes</td>\n",
       "    </tr>\n",
       "    <tr>\n",
       "      <th>1</th>\n",
       "      <td>1</td>\n",
       "      <td>AB Aviation</td>\n",
       "      <td>1</td>\n",
       "      <td>\"Not a good airline\"</td>\n",
       "      <td>25th June 2019</td>\n",
       "      <td>True</td>\n",
       "      <td>Moroni to Anjouan. It is a very small airline...</td>\n",
       "      <td>E120</td>\n",
       "      <td>Solo Leisure</td>\n",
       "      <td>Economy Class</td>\n",
       "      <td>Moroni to Anjouan</td>\n",
       "      <td>June 2019</td>\n",
       "      <td>2.0</td>\n",
       "      <td>2.0</td>\n",
       "      <td>1.0</td>\n",
       "      <td>1.0</td>\n",
       "      <td>NaN</td>\n",
       "      <td>NaN</td>\n",
       "      <td>2.0</td>\n",
       "      <td>no</td>\n",
       "    </tr>\n",
       "    <tr>\n",
       "      <th>2</th>\n",
       "      <td>2</td>\n",
       "      <td>AB Aviation</td>\n",
       "      <td>1</td>\n",
       "      <td>\"flight was fortunately short\"</td>\n",
       "      <td>25th June 2019</td>\n",
       "      <td>True</td>\n",
       "      <td>Anjouan to Dzaoudzi. A very small airline an...</td>\n",
       "      <td>Embraer E120</td>\n",
       "      <td>Solo Leisure</td>\n",
       "      <td>Economy Class</td>\n",
       "      <td>Anjouan to Dzaoudzi</td>\n",
       "      <td>June 2019</td>\n",
       "      <td>2.0</td>\n",
       "      <td>1.0</td>\n",
       "      <td>1.0</td>\n",
       "      <td>1.0</td>\n",
       "      <td>NaN</td>\n",
       "      <td>NaN</td>\n",
       "      <td>2.0</td>\n",
       "      <td>no</td>\n",
       "    </tr>\n",
       "    <tr>\n",
       "      <th>3</th>\n",
       "      <td>3</td>\n",
       "      <td>Adria Airways</td>\n",
       "      <td>1</td>\n",
       "      <td>\"I will never fly again with Adria\"</td>\n",
       "      <td>28th September 2019</td>\n",
       "      <td>False</td>\n",
       "      <td>Please do a favor yourself and do not fly wi...</td>\n",
       "      <td>NaN</td>\n",
       "      <td>Solo Leisure</td>\n",
       "      <td>Economy Class</td>\n",
       "      <td>Frankfurt to Pristina</td>\n",
       "      <td>September 2019</td>\n",
       "      <td>1.0</td>\n",
       "      <td>1.0</td>\n",
       "      <td>NaN</td>\n",
       "      <td>1.0</td>\n",
       "      <td>NaN</td>\n",
       "      <td>NaN</td>\n",
       "      <td>1.0</td>\n",
       "      <td>no</td>\n",
       "    </tr>\n",
       "  </tbody>\n",
       "</table>\n",
       "</div>"
      ],
      "text/plain": [
       "   Unnamed: 0   Airline Name Overall_Rating  \\\n",
       "0           0    AB Aviation              9   \n",
       "1           1    AB Aviation              1   \n",
       "2           2    AB Aviation              1   \n",
       "3           3  Adria Airways              1   \n",
       "\n",
       "                          Review_Title          Review Date  Verified  \\\n",
       "0              \"pretty decent airline\"   11th November 2019      True   \n",
       "1                 \"Not a good airline\"       25th June 2019      True   \n",
       "2       \"flight was fortunately short\"       25th June 2019      True   \n",
       "3  \"I will never fly again with Adria\"  28th September 2019     False   \n",
       "\n",
       "                                              Review       Aircraft  \\\n",
       "0    Moroni to Moheli. Turned out to be a pretty ...            NaN   \n",
       "1   Moroni to Anjouan. It is a very small airline...           E120   \n",
       "2    Anjouan to Dzaoudzi. A very small airline an...  Embraer E120    \n",
       "3    Please do a favor yourself and do not fly wi...            NaN   \n",
       "\n",
       "  Type Of Traveller      Seat Type                  Route      Date Flown  \\\n",
       "0      Solo Leisure  Economy Class       Moroni to Moheli   November 2019   \n",
       "1      Solo Leisure  Economy Class      Moroni to Anjouan       June 2019   \n",
       "2      Solo Leisure  Economy Class    Anjouan to Dzaoudzi       June 2019   \n",
       "3      Solo Leisure  Economy Class  Frankfurt to Pristina  September 2019   \n",
       "\n",
       "   Seat Comfort  Cabin Staff Service  Food & Beverages  Ground Service  \\\n",
       "0           4.0                  5.0               4.0             4.0   \n",
       "1           2.0                  2.0               1.0             1.0   \n",
       "2           2.0                  1.0               1.0             1.0   \n",
       "3           1.0                  1.0               NaN             1.0   \n",
       "\n",
       "   Inflight Entertainment  Wifi & Connectivity  Value For Money Recommended  \n",
       "0                     NaN                  NaN              3.0         yes  \n",
       "1                     NaN                  NaN              2.0          no  \n",
       "2                     NaN                  NaN              2.0          no  \n",
       "3                     NaN                  NaN              1.0          no  "
      ]
     },
     "execution_count": 103,
     "metadata": {},
     "output_type": "execute_result"
    }
   ],
   "source": [
    "data = pd.read_csv(r\"C:\\Users\\user\\Desktop\\guvi pro\\airline_review_NLP\\Airline_Reviews.csv\")\n",
    "data.head(4)"
   ]
  },
  {
   "cell_type": "code",
   "execution_count": 104,
   "id": "e94ca6a3",
   "metadata": {},
   "outputs": [
    {
     "name": "stdout",
     "output_type": "stream",
     "text": [
      "<class 'pandas.core.frame.DataFrame'>\n",
      "RangeIndex: 23171 entries, 0 to 23170\n",
      "Data columns (total 20 columns):\n",
      " #   Column                  Non-Null Count  Dtype  \n",
      "---  ------                  --------------  -----  \n",
      " 0   Unnamed: 0              23171 non-null  int64  \n",
      " 1   Airline Name            23171 non-null  object \n",
      " 2   Overall_Rating          23171 non-null  object \n",
      " 3   Review_Title            23171 non-null  object \n",
      " 4   Review Date             23171 non-null  object \n",
      " 5   Verified                23171 non-null  bool   \n",
      " 6   Review                  23171 non-null  object \n",
      " 7   Aircraft                7129 non-null   object \n",
      " 8   Type Of Traveller       19433 non-null  object \n",
      " 9   Seat Type               22075 non-null  object \n",
      " 10  Route                   19343 non-null  object \n",
      " 11  Date Flown              19417 non-null  object \n",
      " 12  Seat Comfort            19016 non-null  float64\n",
      " 13  Cabin Staff Service     18911 non-null  float64\n",
      " 14  Food & Beverages        14500 non-null  float64\n",
      " 15  Ground Service          18378 non-null  float64\n",
      " 16  Inflight Entertainment  10829 non-null  float64\n",
      " 17  Wifi & Connectivity     5920 non-null   float64\n",
      " 18  Value For Money         22105 non-null  float64\n",
      " 19  Recommended             23171 non-null  object \n",
      "dtypes: bool(1), float64(7), int64(1), object(11)\n",
      "memory usage: 3.4+ MB\n"
     ]
    }
   ],
   "source": [
    "data.info()"
   ]
  },
  {
   "cell_type": "code",
   "execution_count": 105,
   "id": "4262b925",
   "metadata": {},
   "outputs": [
    {
     "data": {
      "text/plain": [
       "Recommended\n",
       "no     15364\n",
       "yes     7807\n",
       "Name: count, dtype: int64"
      ]
     },
     "execution_count": 105,
     "metadata": {},
     "output_type": "execute_result"
    }
   ],
   "source": [
    "check_bal = data[\"Recommended\"].value_counts()\n",
    "check_bal"
   ]
  },
  {
   "cell_type": "code",
   "execution_count": 106,
   "id": "837ab9e3",
   "metadata": {},
   "outputs": [
    {
     "data": {
      "image/png": "[encoded data removed]",
      "text/plain": [
       "<Figure size 600x400 with 1 Axes>"
      ]
     },
     "metadata": {},
     "output_type": "display_data"
    }
   ],
   "source": [
    "plt.figure(figsize=(6,4))\n",
    "check_bal.plot(kind='bar' , color=[\"blue\",\"red\"])\n",
    "plt.title('Class Distribution')\n",
    "plt.ylabel('Count')\n",
    "plt.xlabel('Class')\n",
    "plt.show()"
   ]
  },
  {
   "cell_type": "code",
   "execution_count": 107,
   "id": "e24cd516",
   "metadata": {},
   "outputs": [
    {
     "data": {
      "text/plain": [
       "Overall_Rating\n",
       "1    11595\n",
       "2     2296\n",
       "9     1768\n",
       "8     1757\n",
       "3     1356\n",
       "7     1192\n",
       "4      859\n",
       "n      842\n",
       "5      830\n",
       "6      676\n",
       "Name: count, dtype: int64"
      ]
     },
     "execution_count": 107,
     "metadata": {},
     "output_type": "execute_result"
    }
   ],
   "source": [
    "data[\"Overall_Rating\"].value_counts()"
   ]
  },
  {
   "cell_type": "code",
   "execution_count": 108,
   "id": "83b2bcb0",
   "metadata": {},
   "outputs": [],
   "source": [
    "# Replace 'n' with 0 in the 'Overall_Rating' column\n",
    "data['Overall_Rating'] = data['Overall_Rating'].replace('n', '0').astype(int)\n",
    "\n"
   ]
  },
  {
   "cell_type": "code",
   "execution_count": 109,
   "id": "f1f4ac11",
   "metadata": {},
   "outputs": [
    {
     "data": {
      "text/plain": [
       "Overall_Rating\n",
       "1    11595\n",
       "2     2296\n",
       "9     1768\n",
       "8     1757\n",
       "3     1356\n",
       "7     1192\n",
       "4      859\n",
       "0      842\n",
       "5      830\n",
       "6      676\n",
       "Name: count, dtype: int64"
      ]
     },
     "execution_count": 109,
     "metadata": {},
     "output_type": "execute_result"
    }
   ],
   "source": [
    "data[\"Overall_Rating\"].value_counts()"
   ]
  },
  {
   "cell_type": "code",
   "execution_count": 110,
   "id": "3ce48a8a",
   "metadata": {},
   "outputs": [
    {
     "data": {
      "text/plain": [
       "[4, 1, 2, 3]\n",
       "Categories (4, int64): [1 < 2 < 3 < 4]"
      ]
     },
     "execution_count": 110,
     "metadata": {},
     "output_type": "execute_result"
    }
   ],
   "source": [
    "#Now let's convert this columns into only 4 different values\n",
    "data['New_Ratings'] = pd.cut(data['Overall_Rating'], 4, labels = [1,2,3,4])\n",
    "data['New_Ratings'].unique()"
   ]
  },
  {
   "cell_type": "code",
   "execution_count": 111,
   "id": "bf589f73",
   "metadata": {},
   "outputs": [
    {
     "data": {
      "text/html": [
       "<div>\n",
       "<style scoped>\n",
       "    .dataframe tbody tr th:only-of-type {\n",
       "        vertical-align: middle;\n",
       "    }\n",
       "\n",
       "    .dataframe tbody tr th {\n",
       "        vertical-align: top;\n",
       "    }\n",
       "\n",
       "    .dataframe thead th {\n",
       "        text-align: right;\n",
       "    }\n",
       "</style>\n",
       "<table border=\"1\" class=\"dataframe\">\n",
       "  <thead>\n",
       "    <tr style=\"text-align: right;\">\n",
       "      <th></th>\n",
       "      <th>Unnamed: 0</th>\n",
       "      <th>Airline Name</th>\n",
       "      <th>Overall_Rating</th>\n",
       "      <th>Review_Title</th>\n",
       "      <th>Review Date</th>\n",
       "      <th>Verified</th>\n",
       "      <th>Review</th>\n",
       "      <th>Aircraft</th>\n",
       "      <th>Type Of Traveller</th>\n",
       "      <th>Seat Type</th>\n",
       "      <th>...</th>\n",
       "      <th>Date Flown</th>\n",
       "      <th>Seat Comfort</th>\n",
       "      <th>Cabin Staff Service</th>\n",
       "      <th>Food &amp; Beverages</th>\n",
       "      <th>Ground Service</th>\n",
       "      <th>Inflight Entertainment</th>\n",
       "      <th>Wifi &amp; Connectivity</th>\n",
       "      <th>Value For Money</th>\n",
       "      <th>Recommended</th>\n",
       "      <th>New_Ratings</th>\n",
       "    </tr>\n",
       "  </thead>\n",
       "  <tbody>\n",
       "    <tr>\n",
       "      <th>23167</th>\n",
       "      <td>23167</td>\n",
       "      <td>ZIPAIR</td>\n",
       "      <td>1</td>\n",
       "      <td>\"Avoid at all costs\"</td>\n",
       "      <td>1st June 2022</td>\n",
       "      <td>True</td>\n",
       "      <td>Avoid at all costs. I booked flights to go f...</td>\n",
       "      <td>NaN</td>\n",
       "      <td>Solo Leisure</td>\n",
       "      <td>Economy Class</td>\n",
       "      <td>...</td>\n",
       "      <td>June 2022</td>\n",
       "      <td>NaN</td>\n",
       "      <td>NaN</td>\n",
       "      <td>NaN</td>\n",
       "      <td>NaN</td>\n",
       "      <td>NaN</td>\n",
       "      <td>NaN</td>\n",
       "      <td>1.0</td>\n",
       "      <td>no</td>\n",
       "      <td>1</td>\n",
       "    </tr>\n",
       "    <tr>\n",
       "      <th>23168</th>\n",
       "      <td>23168</td>\n",
       "      <td>ZIPAIR</td>\n",
       "      <td>3</td>\n",
       "      <td>\"Will not recommend to anyone\"</td>\n",
       "      <td>31st May 2022</td>\n",
       "      <td>True</td>\n",
       "      <td>Flight was leaving at 23.15 and after an hou...</td>\n",
       "      <td>NaN</td>\n",
       "      <td>Business</td>\n",
       "      <td>Economy Class</td>\n",
       "      <td>...</td>\n",
       "      <td>May 2022</td>\n",
       "      <td>2.0</td>\n",
       "      <td>4.0</td>\n",
       "      <td>2.0</td>\n",
       "      <td>1.0</td>\n",
       "      <td>NaN</td>\n",
       "      <td>NaN</td>\n",
       "      <td>2.0</td>\n",
       "      <td>no</td>\n",
       "      <td>2</td>\n",
       "    </tr>\n",
       "    <tr>\n",
       "      <th>23169</th>\n",
       "      <td>23169</td>\n",
       "      <td>ZIPAIR</td>\n",
       "      <td>6</td>\n",
       "      <td>\"It was immaculately clean\"</td>\n",
       "      <td>23rd May 2022</td>\n",
       "      <td>True</td>\n",
       "      <td>Zipair is JAL’s budget airline. They don’t ha...</td>\n",
       "      <td>Dreamliner</td>\n",
       "      <td>Business</td>\n",
       "      <td>Business Class</td>\n",
       "      <td>...</td>\n",
       "      <td>May 2022</td>\n",
       "      <td>3.0</td>\n",
       "      <td>4.0</td>\n",
       "      <td>3.0</td>\n",
       "      <td>1.0</td>\n",
       "      <td>2.0</td>\n",
       "      <td>5.0</td>\n",
       "      <td>5.0</td>\n",
       "      <td>yes</td>\n",
       "      <td>3</td>\n",
       "    </tr>\n",
       "    <tr>\n",
       "      <th>23170</th>\n",
       "      <td>23170</td>\n",
       "      <td>ZIPAIR</td>\n",
       "      <td>1</td>\n",
       "      <td>\"lost all of our money with no refund\"</td>\n",
       "      <td>20th May 2022</td>\n",
       "      <td>True</td>\n",
       "      <td>They lied about connection in Narita and we ...</td>\n",
       "      <td>NaN</td>\n",
       "      <td>Solo Leisure</td>\n",
       "      <td>Economy Class</td>\n",
       "      <td>...</td>\n",
       "      <td>May 2022</td>\n",
       "      <td>NaN</td>\n",
       "      <td>NaN</td>\n",
       "      <td>NaN</td>\n",
       "      <td>1.0</td>\n",
       "      <td>NaN</td>\n",
       "      <td>NaN</td>\n",
       "      <td>1.0</td>\n",
       "      <td>no</td>\n",
       "      <td>1</td>\n",
       "    </tr>\n",
       "  </tbody>\n",
       "</table>\n",
       "<p>4 rows × 21 columns</p>\n",
       "</div>"
      ],
      "text/plain": [
       "       Unnamed: 0 Airline Name  Overall_Rating  \\\n",
       "23167       23167       ZIPAIR               1   \n",
       "23168       23168       ZIPAIR               3   \n",
       "23169       23169       ZIPAIR               6   \n",
       "23170       23170       ZIPAIR               1   \n",
       "\n",
       "                                 Review_Title    Review Date  Verified  \\\n",
       "23167                    \"Avoid at all costs\"  1st June 2022      True   \n",
       "23168          \"Will not recommend to anyone\"  31st May 2022      True   \n",
       "23169             \"It was immaculately clean\"  23rd May 2022      True   \n",
       "23170  \"lost all of our money with no refund\"  20th May 2022      True   \n",
       "\n",
       "                                                  Review    Aircraft  \\\n",
       "23167    Avoid at all costs. I booked flights to go f...         NaN   \n",
       "23168    Flight was leaving at 23.15 and after an hou...         NaN   \n",
       "23169   Zipair is JAL’s budget airline. They don’t ha...  Dreamliner   \n",
       "23170    They lied about connection in Narita and we ...         NaN   \n",
       "\n",
       "      Type Of Traveller       Seat Type  ... Date Flown Seat Comfort  \\\n",
       "23167      Solo Leisure   Economy Class  ...  June 2022          NaN   \n",
       "23168          Business   Economy Class  ...   May 2022          2.0   \n",
       "23169          Business  Business Class  ...   May 2022          3.0   \n",
       "23170      Solo Leisure   Economy Class  ...   May 2022          NaN   \n",
       "\n",
       "       Cabin Staff Service  Food & Beverages  Ground Service  \\\n",
       "23167                  NaN               NaN             NaN   \n",
       "23168                  4.0               2.0             1.0   \n",
       "23169                  4.0               3.0             1.0   \n",
       "23170                  NaN               NaN             1.0   \n",
       "\n",
       "       Inflight Entertainment  Wifi & Connectivity  Value For Money  \\\n",
       "23167                     NaN                  NaN              1.0   \n",
       "23168                     NaN                  NaN              2.0   \n",
       "23169                     2.0                  5.0              5.0   \n",
       "23170                     NaN                  NaN              1.0   \n",
       "\n",
       "       Recommended New_Ratings  \n",
       "23167           no           1  \n",
       "23168           no           2  \n",
       "23169          yes           3  \n",
       "23170           no           1  \n",
       "\n",
       "[4 rows x 21 columns]"
      ]
     },
     "execution_count": 111,
     "metadata": {},
     "output_type": "execute_result"
    }
   ],
   "source": [
    "data.tail(4)"
   ]
  },
  {
   "cell_type": "code",
   "execution_count": 112,
   "id": "cd5d6e1c",
   "metadata": {},
   "outputs": [],
   "source": [
    "#Now let's get rid of some unuseful columns\n",
    "data = data.drop(['Unnamed: 0','Overall_Rating'], axis=1)"
   ]
  },
  {
   "cell_type": "code",
   "execution_count": 113,
   "id": "29cc1bb0",
   "metadata": {},
   "outputs": [
    {
     "data": {
      "text/plain": [
       "Index(['Airline Name', 'Review_Title', 'Review Date', 'Verified', 'Review',\n",
       "       'Aircraft', 'Type Of Traveller', 'Seat Type', 'Route', 'Date Flown',\n",
       "       'Seat Comfort', 'Cabin Staff Service', 'Food & Beverages',\n",
       "       'Ground Service', 'Inflight Entertainment', 'Wifi & Connectivity',\n",
       "       'Value For Money', 'Recommended', 'New_Ratings'],\n",
       "      dtype='object')"
      ]
     },
     "execution_count": 113,
     "metadata": {},
     "output_type": "execute_result"
    }
   ],
   "source": [
    "data.columns"
   ]
  },
  {
   "cell_type": "code",
   "execution_count": 114,
   "id": "7a4762af",
   "metadata": {},
   "outputs": [
    {
     "data": {
      "text/plain": [
       "Verified\n",
       "True     12322\n",
       "False    10849\n",
       "Name: count, dtype: int64"
      ]
     },
     "execution_count": 114,
     "metadata": {},
     "output_type": "execute_result"
    }
   ],
   "source": [
    "data['Verified'].value_counts()"
   ]
  },
  {
   "cell_type": "code",
   "execution_count": 115,
   "id": "91454deb",
   "metadata": {},
   "outputs": [
    {
     "name": "stdout",
     "output_type": "stream",
     "text": [
      "<class 'pandas.core.frame.DataFrame'>\n",
      "RangeIndex: 23171 entries, 0 to 23170\n",
      "Data columns (total 19 columns):\n",
      " #   Column                  Non-Null Count  Dtype   \n",
      "---  ------                  --------------  -----   \n",
      " 0   Airline Name            23171 non-null  object  \n",
      " 1   Review_Title            23171 non-null  object  \n",
      " 2   Review Date             23171 non-null  object  \n",
      " 3   Verified                23171 non-null  bool    \n",
      " 4   Review                  23171 non-null  object  \n",
      " 5   Aircraft                7129 non-null   object  \n",
      " 6   Type Of Traveller       19433 non-null  object  \n",
      " 7   Seat Type               22075 non-null  object  \n",
      " 8   Route                   19343 non-null  object  \n",
      " 9   Date Flown              19417 non-null  object  \n",
      " 10  Seat Comfort            19016 non-null  float64 \n",
      " 11  Cabin Staff Service     18911 non-null  float64 \n",
      " 12  Food & Beverages        14500 non-null  float64 \n",
      " 13  Ground Service          18378 non-null  float64 \n",
      " 14  Inflight Entertainment  10829 non-null  float64 \n",
      " 15  Wifi & Connectivity     5920 non-null   float64 \n",
      " 16  Value For Money         22105 non-null  float64 \n",
      " 17  Recommended             23171 non-null  object  \n",
      " 18  New_Ratings             23171 non-null  category\n",
      "dtypes: bool(1), category(1), float64(7), object(10)\n",
      "memory usage: 3.0+ MB\n"
     ]
    }
   ],
   "source": [
    "data.info()"
   ]
  },
  {
   "cell_type": "code",
   "execution_count": 116,
   "id": "5d3edb84",
   "metadata": {},
   "outputs": [
    {
     "data": {
      "text/html": [
       "<div>\n",
       "<style scoped>\n",
       "    .dataframe tbody tr th:only-of-type {\n",
       "        vertical-align: middle;\n",
       "    }\n",
       "\n",
       "    .dataframe tbody tr th {\n",
       "        vertical-align: top;\n",
       "    }\n",
       "\n",
       "    .dataframe thead th {\n",
       "        text-align: right;\n",
       "    }\n",
       "</style>\n",
       "<table border=\"1\" class=\"dataframe\">\n",
       "  <thead>\n",
       "    <tr style=\"text-align: right;\">\n",
       "      <th></th>\n",
       "      <th>Airline Name</th>\n",
       "      <th>Review_Title</th>\n",
       "      <th>Review Date</th>\n",
       "      <th>Verified</th>\n",
       "      <th>Review</th>\n",
       "      <th>Aircraft</th>\n",
       "      <th>Type Of Traveller</th>\n",
       "      <th>Seat Type</th>\n",
       "      <th>Route</th>\n",
       "      <th>Date Flown</th>\n",
       "      <th>Seat Comfort</th>\n",
       "      <th>Cabin Staff Service</th>\n",
       "      <th>Food &amp; Beverages</th>\n",
       "      <th>Ground Service</th>\n",
       "      <th>Inflight Entertainment</th>\n",
       "      <th>Wifi &amp; Connectivity</th>\n",
       "      <th>Value For Money</th>\n",
       "      <th>Recommended</th>\n",
       "      <th>New_Ratings</th>\n",
       "    </tr>\n",
       "  </thead>\n",
       "  <tbody>\n",
       "    <tr>\n",
       "      <th>23168</th>\n",
       "      <td>ZIPAIR</td>\n",
       "      <td>\"Will not recommend to anyone\"</td>\n",
       "      <td>31st May 2022</td>\n",
       "      <td>True</td>\n",
       "      <td>Flight was leaving at 23.15 and after an hou...</td>\n",
       "      <td>NaN</td>\n",
       "      <td>Business</td>\n",
       "      <td>Economy Class</td>\n",
       "      <td>Bangkok to Tokyo</td>\n",
       "      <td>May 2022</td>\n",
       "      <td>2.0</td>\n",
       "      <td>4.0</td>\n",
       "      <td>2.0</td>\n",
       "      <td>1.0</td>\n",
       "      <td>NaN</td>\n",
       "      <td>NaN</td>\n",
       "      <td>2.0</td>\n",
       "      <td>no</td>\n",
       "      <td>2</td>\n",
       "    </tr>\n",
       "    <tr>\n",
       "      <th>23169</th>\n",
       "      <td>ZIPAIR</td>\n",
       "      <td>\"It was immaculately clean\"</td>\n",
       "      <td>23rd May 2022</td>\n",
       "      <td>True</td>\n",
       "      <td>Zipair is JAL’s budget airline. They don’t ha...</td>\n",
       "      <td>Dreamliner</td>\n",
       "      <td>Business</td>\n",
       "      <td>Business Class</td>\n",
       "      <td>Tokyo to Los Angeles</td>\n",
       "      <td>May 2022</td>\n",
       "      <td>3.0</td>\n",
       "      <td>4.0</td>\n",
       "      <td>3.0</td>\n",
       "      <td>1.0</td>\n",
       "      <td>2.0</td>\n",
       "      <td>5.0</td>\n",
       "      <td>5.0</td>\n",
       "      <td>yes</td>\n",
       "      <td>3</td>\n",
       "    </tr>\n",
       "    <tr>\n",
       "      <th>23170</th>\n",
       "      <td>ZIPAIR</td>\n",
       "      <td>\"lost all of our money with no refund\"</td>\n",
       "      <td>20th May 2022</td>\n",
       "      <td>True</td>\n",
       "      <td>They lied about connection in Narita and we ...</td>\n",
       "      <td>NaN</td>\n",
       "      <td>Solo Leisure</td>\n",
       "      <td>Economy Class</td>\n",
       "      <td>Singapore to Tokyo</td>\n",
       "      <td>May 2022</td>\n",
       "      <td>NaN</td>\n",
       "      <td>NaN</td>\n",
       "      <td>NaN</td>\n",
       "      <td>1.0</td>\n",
       "      <td>NaN</td>\n",
       "      <td>NaN</td>\n",
       "      <td>1.0</td>\n",
       "      <td>no</td>\n",
       "      <td>1</td>\n",
       "    </tr>\n",
       "  </tbody>\n",
       "</table>\n",
       "</div>"
      ],
      "text/plain": [
       "      Airline Name                            Review_Title    Review Date  \\\n",
       "23168       ZIPAIR          \"Will not recommend to anyone\"  31st May 2022   \n",
       "23169       ZIPAIR             \"It was immaculately clean\"  23rd May 2022   \n",
       "23170       ZIPAIR  \"lost all of our money with no refund\"  20th May 2022   \n",
       "\n",
       "       Verified                                             Review  \\\n",
       "23168      True    Flight was leaving at 23.15 and after an hou...   \n",
       "23169      True   Zipair is JAL’s budget airline. They don’t ha...   \n",
       "23170      True    They lied about connection in Narita and we ...   \n",
       "\n",
       "         Aircraft Type Of Traveller       Seat Type                 Route  \\\n",
       "23168         NaN          Business   Economy Class      Bangkok to Tokyo   \n",
       "23169  Dreamliner          Business  Business Class  Tokyo to Los Angeles   \n",
       "23170         NaN      Solo Leisure   Economy Class    Singapore to Tokyo   \n",
       "\n",
       "      Date Flown  Seat Comfort  Cabin Staff Service  Food & Beverages  \\\n",
       "23168   May 2022           2.0                  4.0               2.0   \n",
       "23169   May 2022           3.0                  4.0               3.0   \n",
       "23170   May 2022           NaN                  NaN               NaN   \n",
       "\n",
       "       Ground Service  Inflight Entertainment  Wifi & Connectivity  \\\n",
       "23168             1.0                     NaN                  NaN   \n",
       "23169             1.0                     2.0                  5.0   \n",
       "23170             1.0                     NaN                  NaN   \n",
       "\n",
       "       Value For Money Recommended New_Ratings  \n",
       "23168              2.0          no           2  \n",
       "23169              5.0         yes           3  \n",
       "23170              1.0          no           1  "
      ]
     },
     "execution_count": 116,
     "metadata": {},
     "output_type": "execute_result"
    }
   ],
   "source": [
    "data.tail(3)"
   ]
  },
  {
   "cell_type": "code",
   "execution_count": 117,
   "id": "d7fcabb9",
   "metadata": {},
   "outputs": [
    {
     "data": {
      "text/plain": [
       "Airline Name                  0\n",
       "Review_Title                  0\n",
       "Review Date                   0\n",
       "Verified                      0\n",
       "Review                        0\n",
       "Aircraft                  16042\n",
       "Type Of Traveller          3738\n",
       "Seat Type                  1096\n",
       "Route                      3828\n",
       "Date Flown                 3754\n",
       "Seat Comfort               4155\n",
       "Cabin Staff Service        4260\n",
       "Food & Beverages           8671\n",
       "Ground Service             4793\n",
       "Inflight Entertainment    12342\n",
       "Wifi & Connectivity       17251\n",
       "Value For Money            1066\n",
       "Recommended                   0\n",
       "New_Ratings                   0\n",
       "dtype: int64"
      ]
     },
     "execution_count": 117,
     "metadata": {},
     "output_type": "execute_result"
    }
   ],
   "source": [
    "data.isnull().sum()"
   ]
  },
  {
   "cell_type": "code",
   "execution_count": 118,
   "id": "bc2c72b4",
   "metadata": {},
   "outputs": [
    {
     "data": {
      "text/plain": [
       "(23171, 19)"
      ]
     },
     "execution_count": 118,
     "metadata": {},
     "output_type": "execute_result"
    }
   ],
   "source": [
    "data.shape"
   ]
  },
  {
   "cell_type": "code",
   "execution_count": 119,
   "id": "3943995d",
   "metadata": {},
   "outputs": [],
   "source": [
    "#Dropping 'Aircraft', 'Wifi & Connectivity', 'Route' and 'Inflight Entertainment' columns.\n",
    "data = data.drop([\"Aircraft\" , \"Wifi & Connectivity\" , \"Route\" , \"Inflight Entertainment\"], axis=1)"
   ]
  },
  {
   "cell_type": "code",
   "execution_count": 120,
   "id": "7c662542",
   "metadata": {},
   "outputs": [],
   "source": [
    "# #Dropping the rows which 'Food & Beverages' is null.\n",
    "data = data.dropna(axis=0 ,subset=['Food & Beverages'])"
   ]
  },
  {
   "cell_type": "code",
   "execution_count": 121,
   "id": "d1dac413",
   "metadata": {},
   "outputs": [
    {
     "data": {
      "text/html": [
       "<div>\n",
       "<style scoped>\n",
       "    .dataframe tbody tr th:only-of-type {\n",
       "        vertical-align: middle;\n",
       "    }\n",
       "\n",
       "    .dataframe tbody tr th {\n",
       "        vertical-align: top;\n",
       "    }\n",
       "\n",
       "    .dataframe thead th {\n",
       "        text-align: right;\n",
       "    }\n",
       "</style>\n",
       "<table border=\"1\" class=\"dataframe\">\n",
       "  <thead>\n",
       "    <tr style=\"text-align: right;\">\n",
       "      <th></th>\n",
       "      <th>Airline Name</th>\n",
       "      <th>Review_Title</th>\n",
       "      <th>Review Date</th>\n",
       "      <th>Verified</th>\n",
       "      <th>Review</th>\n",
       "      <th>Type Of Traveller</th>\n",
       "      <th>Seat Type</th>\n",
       "      <th>Date Flown</th>\n",
       "      <th>Seat Comfort</th>\n",
       "      <th>Cabin Staff Service</th>\n",
       "      <th>Food &amp; Beverages</th>\n",
       "      <th>Ground Service</th>\n",
       "      <th>Value For Money</th>\n",
       "      <th>Recommended</th>\n",
       "      <th>New_Ratings</th>\n",
       "    </tr>\n",
       "  </thead>\n",
       "  <tbody>\n",
       "    <tr>\n",
       "      <th>0</th>\n",
       "      <td>AB Aviation</td>\n",
       "      <td>\"pretty decent airline\"</td>\n",
       "      <td>11th November 2019</td>\n",
       "      <td>True</td>\n",
       "      <td>Moroni to Moheli. Turned out to be a pretty ...</td>\n",
       "      <td>Solo Leisure</td>\n",
       "      <td>Economy Class</td>\n",
       "      <td>November 2019</td>\n",
       "      <td>4.0</td>\n",
       "      <td>5.0</td>\n",
       "      <td>4.0</td>\n",
       "      <td>4.0</td>\n",
       "      <td>3.0</td>\n",
       "      <td>yes</td>\n",
       "      <td>4</td>\n",
       "    </tr>\n",
       "    <tr>\n",
       "      <th>1</th>\n",
       "      <td>AB Aviation</td>\n",
       "      <td>\"Not a good airline\"</td>\n",
       "      <td>25th June 2019</td>\n",
       "      <td>True</td>\n",
       "      <td>Moroni to Anjouan. It is a very small airline...</td>\n",
       "      <td>Solo Leisure</td>\n",
       "      <td>Economy Class</td>\n",
       "      <td>June 2019</td>\n",
       "      <td>2.0</td>\n",
       "      <td>2.0</td>\n",
       "      <td>1.0</td>\n",
       "      <td>1.0</td>\n",
       "      <td>2.0</td>\n",
       "      <td>no</td>\n",
       "      <td>1</td>\n",
       "    </tr>\n",
       "    <tr>\n",
       "      <th>2</th>\n",
       "      <td>AB Aviation</td>\n",
       "      <td>\"flight was fortunately short\"</td>\n",
       "      <td>25th June 2019</td>\n",
       "      <td>True</td>\n",
       "      <td>Anjouan to Dzaoudzi. A very small airline an...</td>\n",
       "      <td>Solo Leisure</td>\n",
       "      <td>Economy Class</td>\n",
       "      <td>June 2019</td>\n",
       "      <td>2.0</td>\n",
       "      <td>1.0</td>\n",
       "      <td>1.0</td>\n",
       "      <td>1.0</td>\n",
       "      <td>2.0</td>\n",
       "      <td>no</td>\n",
       "      <td>1</td>\n",
       "    </tr>\n",
       "    <tr>\n",
       "      <th>4</th>\n",
       "      <td>Adria Airways</td>\n",
       "      <td>\"it ruined our last days of holidays\"</td>\n",
       "      <td>24th September 2019</td>\n",
       "      <td>True</td>\n",
       "      <td>Do not book a flight with this airline! My fr...</td>\n",
       "      <td>Couple Leisure</td>\n",
       "      <td>Economy Class</td>\n",
       "      <td>September 2019</td>\n",
       "      <td>1.0</td>\n",
       "      <td>1.0</td>\n",
       "      <td>1.0</td>\n",
       "      <td>1.0</td>\n",
       "      <td>1.0</td>\n",
       "      <td>no</td>\n",
       "      <td>1</td>\n",
       "    </tr>\n",
       "    <tr>\n",
       "      <th>5</th>\n",
       "      <td>Adria Airways</td>\n",
       "      <td>\"Had very bad experience\"</td>\n",
       "      <td>17th September 2019</td>\n",
       "      <td>True</td>\n",
       "      <td>Had very bad experience with rerouted and ca...</td>\n",
       "      <td>Couple Leisure</td>\n",
       "      <td>Economy Class</td>\n",
       "      <td>September 2019</td>\n",
       "      <td>1.0</td>\n",
       "      <td>1.0</td>\n",
       "      <td>1.0</td>\n",
       "      <td>1.0</td>\n",
       "      <td>1.0</td>\n",
       "      <td>no</td>\n",
       "      <td>1</td>\n",
       "    </tr>\n",
       "  </tbody>\n",
       "</table>\n",
       "</div>"
      ],
      "text/plain": [
       "    Airline Name                           Review_Title          Review Date  \\\n",
       "0    AB Aviation                \"pretty decent airline\"   11th November 2019   \n",
       "1    AB Aviation                   \"Not a good airline\"       25th June 2019   \n",
       "2    AB Aviation         \"flight was fortunately short\"       25th June 2019   \n",
       "4  Adria Airways  \"it ruined our last days of holidays\"  24th September 2019   \n",
       "5  Adria Airways              \"Had very bad experience\"  17th September 2019   \n",
       "\n",
       "   Verified                                             Review  \\\n",
       "0      True    Moroni to Moheli. Turned out to be a pretty ...   \n",
       "1      True   Moroni to Anjouan. It is a very small airline...   \n",
       "2      True    Anjouan to Dzaoudzi. A very small airline an...   \n",
       "4      True   Do not book a flight with this airline! My fr...   \n",
       "5      True    Had very bad experience with rerouted and ca...   \n",
       "\n",
       "  Type Of Traveller      Seat Type      Date Flown  Seat Comfort  \\\n",
       "0      Solo Leisure  Economy Class   November 2019           4.0   \n",
       "1      Solo Leisure  Economy Class       June 2019           2.0   \n",
       "2      Solo Leisure  Economy Class       June 2019           2.0   \n",
       "4    Couple Leisure  Economy Class  September 2019           1.0   \n",
       "5    Couple Leisure  Economy Class  September 2019           1.0   \n",
       "\n",
       "   Cabin Staff Service  Food & Beverages  Ground Service  Value For Money  \\\n",
       "0                  5.0               4.0             4.0              3.0   \n",
       "1                  2.0               1.0             1.0              2.0   \n",
       "2                  1.0               1.0             1.0              2.0   \n",
       "4                  1.0               1.0             1.0              1.0   \n",
       "5                  1.0               1.0             1.0              1.0   \n",
       "\n",
       "  Recommended New_Ratings  \n",
       "0         yes           4  \n",
       "1          no           1  \n",
       "2          no           1  \n",
       "4          no           1  \n",
       "5          no           1  "
      ]
     },
     "execution_count": 121,
     "metadata": {},
     "output_type": "execute_result"
    }
   ],
   "source": [
    "data.head(5)"
   ]
  },
  {
   "cell_type": "code",
   "execution_count": 122,
   "id": "bc63059e",
   "metadata": {},
   "outputs": [
    {
     "data": {
      "text/plain": [
       "Airline Name              0\n",
       "Review_Title              0\n",
       "Review Date               0\n",
       "Verified                  0\n",
       "Review                    0\n",
       "Type Of Traveller      1388\n",
       "Seat Type                16\n",
       "Date Flown             1398\n",
       "Seat Comfort              1\n",
       "Cabin Staff Service       1\n",
       "Food & Beverages          0\n",
       "Ground Service         1392\n",
       "Value For Money           0\n",
       "Recommended               0\n",
       "New_Ratings               0\n",
       "dtype: int64"
      ]
     },
     "execution_count": 122,
     "metadata": {},
     "output_type": "execute_result"
    }
   ],
   "source": [
    "data.isnull().sum()"
   ]
  },
  {
   "cell_type": "code",
   "execution_count": 123,
   "id": "1358e24a",
   "metadata": {},
   "outputs": [
    {
     "data": {
      "text/plain": [
       "Airline Name\n",
       "Dragonair                  99\n",
       "TAM Airlines               98\n",
       "China Southern Airlines    98\n",
       "Hainan Airlines            97\n",
       "Royal Brunei Airlines      97\n",
       "                           ..\n",
       "Air Cote d'Ivoire           1\n",
       "Safi Airways                1\n",
       "Safarilink                  1\n",
       "Manta Air                   1\n",
       "MEGA Maldives Airlines      1\n",
       "Name: count, Length: 448, dtype: int64"
      ]
     },
     "execution_count": 123,
     "metadata": {},
     "output_type": "execute_result"
    }
   ],
   "source": [
    "data['Airline Name'].value_counts()"
   ]
  },
  {
   "cell_type": "code",
   "execution_count": 124,
   "id": "0c9720ef",
   "metadata": {},
   "outputs": [],
   "source": [
    "# drop  the airline name it  as more than 400 diff names :\n",
    "data = data.drop(['Airline Name'], axis=1)"
   ]
  },
  {
   "cell_type": "markdown",
   "id": "35587afd",
   "metadata": {},
   "source": [
    "# EDA"
   ]
  },
  {
   "cell_type": "code",
   "execution_count": 125,
   "id": "771028b5",
   "metadata": {},
   "outputs": [
    {
     "data": {
      "text/plain": [
       "Recommended\n",
       "no     8573\n",
       "yes    5927\n",
       "Name: count, dtype: int64"
      ]
     },
     "execution_count": 125,
     "metadata": {},
     "output_type": "execute_result"
    }
   ],
   "source": [
    "data[\"Recommended\"].value_counts()"
   ]
  },
  {
   "cell_type": "code",
   "execution_count": 126,
   "id": "15dca805",
   "metadata": {},
   "outputs": [
    {
     "data": {
      "text/plain": [
       "New_Ratings\n",
       "1    8362\n",
       "4    3584\n",
       "2    1503\n",
       "3    1051\n",
       "Name: count, dtype: int64"
      ]
     },
     "execution_count": 126,
     "metadata": {},
     "output_type": "execute_result"
    }
   ],
   "source": [
    "data[\"New_Ratings\"].value_counts()"
   ]
  },
  {
   "cell_type": "code",
   "execution_count": 127,
   "id": "5b21c6fa",
   "metadata": {},
   "outputs": [
    {
     "data": {
      "image/png": "[encoded data removed]",
      "text/plain": [
       "<Figure size 1000x400 with 1 Axes>"
      ]
     },
     "metadata": {},
     "output_type": "display_data"
    }
   ],
   "source": [
    "# EDA :\n",
    "# plotting the data :\n",
    "plt.figure(figsize=(10,4))\n",
    "sns.countplot(data = data , x =\"Recommended\" , hue = \"New_Ratings\")\n",
    "plt.show()\n"
   ]
  },
  {
   "cell_type": "code",
   "execution_count": 128,
   "id": "3af2e68e",
   "metadata": {},
   "outputs": [
    {
     "data": {
      "text/plain": [
       "Verified\n",
       "True     8174\n",
       "False    6326\n",
       "Name: count, dtype: int64"
      ]
     },
     "execution_count": 128,
     "metadata": {},
     "output_type": "execute_result"
    }
   ],
   "source": [
    "data[\"Verified\"].value_counts()"
   ]
  },
  {
   "cell_type": "code",
   "execution_count": 129,
   "id": "4972a56f",
   "metadata": {},
   "outputs": [
    {
     "data": {
      "image/png": "[encoded data removed]",
      "text/plain": [
       "<Figure size 1000x400 with 1 Axes>"
      ]
     },
     "metadata": {},
     "output_type": "display_data"
    }
   ],
   "source": [
    "plt.figure(figsize=(10,4))\n",
    "sns.countplot(data = data , x =\"Verified\" , hue = \"New_Ratings\")\n",
    "plt.show()"
   ]
  },
  {
   "cell_type": "code",
   "execution_count": 130,
   "id": "a676c3e9",
   "metadata": {},
   "outputs": [
    {
     "data": {
      "text/html": [
       "<div>\n",
       "<style scoped>\n",
       "    .dataframe tbody tr th:only-of-type {\n",
       "        vertical-align: middle;\n",
       "    }\n",
       "\n",
       "    .dataframe tbody tr th {\n",
       "        vertical-align: top;\n",
       "    }\n",
       "\n",
       "    .dataframe thead th {\n",
       "        text-align: right;\n",
       "    }\n",
       "</style>\n",
       "<table border=\"1\" class=\"dataframe\">\n",
       "  <thead>\n",
       "    <tr style=\"text-align: right;\">\n",
       "      <th></th>\n",
       "      <th>Review_Title</th>\n",
       "      <th>Review Date</th>\n",
       "      <th>Verified</th>\n",
       "      <th>Review</th>\n",
       "      <th>Type Of Traveller</th>\n",
       "      <th>Seat Type</th>\n",
       "      <th>Date Flown</th>\n",
       "      <th>Seat Comfort</th>\n",
       "      <th>Cabin Staff Service</th>\n",
       "      <th>Food &amp; Beverages</th>\n",
       "      <th>Ground Service</th>\n",
       "      <th>Value For Money</th>\n",
       "      <th>Recommended</th>\n",
       "      <th>New_Ratings</th>\n",
       "    </tr>\n",
       "  </thead>\n",
       "  <tbody>\n",
       "    <tr>\n",
       "      <th>0</th>\n",
       "      <td>\"pretty decent airline\"</td>\n",
       "      <td>11th November 2019</td>\n",
       "      <td>True</td>\n",
       "      <td>Moroni to Moheli. Turned out to be a pretty ...</td>\n",
       "      <td>Solo Leisure</td>\n",
       "      <td>Economy Class</td>\n",
       "      <td>November 2019</td>\n",
       "      <td>4.0</td>\n",
       "      <td>5.0</td>\n",
       "      <td>4.0</td>\n",
       "      <td>4.0</td>\n",
       "      <td>3.0</td>\n",
       "      <td>yes</td>\n",
       "      <td>4</td>\n",
       "    </tr>\n",
       "    <tr>\n",
       "      <th>1</th>\n",
       "      <td>\"Not a good airline\"</td>\n",
       "      <td>25th June 2019</td>\n",
       "      <td>True</td>\n",
       "      <td>Moroni to Anjouan. It is a very small airline...</td>\n",
       "      <td>Solo Leisure</td>\n",
       "      <td>Economy Class</td>\n",
       "      <td>June 2019</td>\n",
       "      <td>2.0</td>\n",
       "      <td>2.0</td>\n",
       "      <td>1.0</td>\n",
       "      <td>1.0</td>\n",
       "      <td>2.0</td>\n",
       "      <td>no</td>\n",
       "      <td>1</td>\n",
       "    </tr>\n",
       "    <tr>\n",
       "      <th>2</th>\n",
       "      <td>\"flight was fortunately short\"</td>\n",
       "      <td>25th June 2019</td>\n",
       "      <td>True</td>\n",
       "      <td>Anjouan to Dzaoudzi. A very small airline an...</td>\n",
       "      <td>Solo Leisure</td>\n",
       "      <td>Economy Class</td>\n",
       "      <td>June 2019</td>\n",
       "      <td>2.0</td>\n",
       "      <td>1.0</td>\n",
       "      <td>1.0</td>\n",
       "      <td>1.0</td>\n",
       "      <td>2.0</td>\n",
       "      <td>no</td>\n",
       "      <td>1</td>\n",
       "    </tr>\n",
       "    <tr>\n",
       "      <th>4</th>\n",
       "      <td>\"it ruined our last days of holidays\"</td>\n",
       "      <td>24th September 2019</td>\n",
       "      <td>True</td>\n",
       "      <td>Do not book a flight with this airline! My fr...</td>\n",
       "      <td>Couple Leisure</td>\n",
       "      <td>Economy Class</td>\n",
       "      <td>September 2019</td>\n",
       "      <td>1.0</td>\n",
       "      <td>1.0</td>\n",
       "      <td>1.0</td>\n",
       "      <td>1.0</td>\n",
       "      <td>1.0</td>\n",
       "      <td>no</td>\n",
       "      <td>1</td>\n",
       "    </tr>\n",
       "    <tr>\n",
       "      <th>5</th>\n",
       "      <td>\"Had very bad experience\"</td>\n",
       "      <td>17th September 2019</td>\n",
       "      <td>True</td>\n",
       "      <td>Had very bad experience with rerouted and ca...</td>\n",
       "      <td>Couple Leisure</td>\n",
       "      <td>Economy Class</td>\n",
       "      <td>September 2019</td>\n",
       "      <td>1.0</td>\n",
       "      <td>1.0</td>\n",
       "      <td>1.0</td>\n",
       "      <td>1.0</td>\n",
       "      <td>1.0</td>\n",
       "      <td>no</td>\n",
       "      <td>1</td>\n",
       "    </tr>\n",
       "  </tbody>\n",
       "</table>\n",
       "</div>"
      ],
      "text/plain": [
       "                            Review_Title          Review Date  Verified  \\\n",
       "0                \"pretty decent airline\"   11th November 2019      True   \n",
       "1                   \"Not a good airline\"       25th June 2019      True   \n",
       "2         \"flight was fortunately short\"       25th June 2019      True   \n",
       "4  \"it ruined our last days of holidays\"  24th September 2019      True   \n",
       "5              \"Had very bad experience\"  17th September 2019      True   \n",
       "\n",
       "                                              Review Type Of Traveller  \\\n",
       "0    Moroni to Moheli. Turned out to be a pretty ...      Solo Leisure   \n",
       "1   Moroni to Anjouan. It is a very small airline...      Solo Leisure   \n",
       "2    Anjouan to Dzaoudzi. A very small airline an...      Solo Leisure   \n",
       "4   Do not book a flight with this airline! My fr...    Couple Leisure   \n",
       "5    Had very bad experience with rerouted and ca...    Couple Leisure   \n",
       "\n",
       "       Seat Type      Date Flown  Seat Comfort  Cabin Staff Service  \\\n",
       "0  Economy Class   November 2019           4.0                  5.0   \n",
       "1  Economy Class       June 2019           2.0                  2.0   \n",
       "2  Economy Class       June 2019           2.0                  1.0   \n",
       "4  Economy Class  September 2019           1.0                  1.0   \n",
       "5  Economy Class  September 2019           1.0                  1.0   \n",
       "\n",
       "   Food & Beverages  Ground Service  Value For Money Recommended New_Ratings  \n",
       "0               4.0             4.0              3.0         yes           4  \n",
       "1               1.0             1.0              2.0          no           1  \n",
       "2               1.0             1.0              2.0          no           1  \n",
       "4               1.0             1.0              1.0          no           1  \n",
       "5               1.0             1.0              1.0          no           1  "
      ]
     },
     "execution_count": 130,
     "metadata": {},
     "output_type": "execute_result"
    }
   ],
   "source": [
    "data.head(5)"
   ]
  },
  {
   "cell_type": "code",
   "execution_count": 131,
   "id": "33188bae",
   "metadata": {},
   "outputs": [
    {
     "data": {
      "text/plain": [
       "dtype('int32')"
      ]
     },
     "execution_count": 131,
     "metadata": {},
     "output_type": "execute_result"
    }
   ],
   "source": [
    "data['New_Ratings']= data['New_Ratings'].astype(int)\n",
    "data['New_Ratings'].dtype"
   ]
  },
  {
   "cell_type": "code",
   "execution_count": 132,
   "id": "a8451977",
   "metadata": {},
   "outputs": [],
   "source": [
    "data = data.drop([\"Date Flown\" , \"Review Date\"], axis=1)"
   ]
  },
  {
   "cell_type": "code",
   "execution_count": 133,
   "id": "bb8a775b",
   "metadata": {},
   "outputs": [
    {
     "name": "stdout",
     "output_type": "stream",
     "text": [
      "no_of_dup :  4\n"
     ]
    },
    {
     "data": {
      "text/html": [
       "<div>\n",
       "<style scoped>\n",
       "    .dataframe tbody tr th:only-of-type {\n",
       "        vertical-align: middle;\n",
       "    }\n",
       "\n",
       "    .dataframe tbody tr th {\n",
       "        vertical-align: top;\n",
       "    }\n",
       "\n",
       "    .dataframe thead th {\n",
       "        text-align: right;\n",
       "    }\n",
       "</style>\n",
       "<table border=\"1\" class=\"dataframe\">\n",
       "  <thead>\n",
       "    <tr style=\"text-align: right;\">\n",
       "      <th></th>\n",
       "      <th>Review_Title</th>\n",
       "      <th>Verified</th>\n",
       "      <th>Review</th>\n",
       "      <th>Type Of Traveller</th>\n",
       "      <th>Seat Type</th>\n",
       "      <th>Seat Comfort</th>\n",
       "      <th>Cabin Staff Service</th>\n",
       "      <th>Food &amp; Beverages</th>\n",
       "      <th>Ground Service</th>\n",
       "      <th>Value For Money</th>\n",
       "      <th>Recommended</th>\n",
       "      <th>New_Ratings</th>\n",
       "    </tr>\n",
       "  </thead>\n",
       "  <tbody>\n",
       "    <tr>\n",
       "      <th>16641</th>\n",
       "      <td>\"give away your seat\"</td>\n",
       "      <td>True</td>\n",
       "      <td>Anchorage to Kenai. They will give away your...</td>\n",
       "      <td>Business</td>\n",
       "      <td>Economy Class</td>\n",
       "      <td>1.0</td>\n",
       "      <td>1.0</td>\n",
       "      <td>1.0</td>\n",
       "      <td>1.0</td>\n",
       "      <td>1.0</td>\n",
       "      <td>no</td>\n",
       "      <td>1</td>\n",
       "    </tr>\n",
       "    <tr>\n",
       "      <th>16642</th>\n",
       "      <td>\"overall experience was fantastic\"</td>\n",
       "      <td>True</td>\n",
       "      <td>I flew on Ravn Alaska with my girlfriend bac...</td>\n",
       "      <td>Couple Leisure</td>\n",
       "      <td>Economy Class</td>\n",
       "      <td>5.0</td>\n",
       "      <td>5.0</td>\n",
       "      <td>5.0</td>\n",
       "      <td>5.0</td>\n",
       "      <td>5.0</td>\n",
       "      <td>yes</td>\n",
       "      <td>1</td>\n",
       "    </tr>\n",
       "    <tr>\n",
       "      <th>16644</th>\n",
       "      <td>\"delayed with no explanation</td>\n",
       "      <td>True</td>\n",
       "      <td>Anchorage to Homer. Last 4 times I have flow...</td>\n",
       "      <td>Solo Leisure</td>\n",
       "      <td>Economy Class</td>\n",
       "      <td>3.0</td>\n",
       "      <td>5.0</td>\n",
       "      <td>3.0</td>\n",
       "      <td>2.0</td>\n",
       "      <td>3.0</td>\n",
       "      <td>no</td>\n",
       "      <td>3</td>\n",
       "    </tr>\n",
       "    <tr>\n",
       "      <th>16645</th>\n",
       "      <td>\"never be using Ravn again\"</td>\n",
       "      <td>False</td>\n",
       "      <td>Ravn Alaska is so frustrating. First off, your...</td>\n",
       "      <td>Couple Leisure</td>\n",
       "      <td>Economy Class</td>\n",
       "      <td>1.0</td>\n",
       "      <td>3.0</td>\n",
       "      <td>3.0</td>\n",
       "      <td>1.0</td>\n",
       "      <td>2.0</td>\n",
       "      <td>no</td>\n",
       "      <td>2</td>\n",
       "    </tr>\n",
       "  </tbody>\n",
       "</table>\n",
       "</div>"
      ],
      "text/plain": [
       "                             Review_Title  Verified  \\\n",
       "16641               \"give away your seat\"      True   \n",
       "16642  \"overall experience was fantastic\"      True   \n",
       "16644        \"delayed with no explanation      True   \n",
       "16645         \"never be using Ravn again\"     False   \n",
       "\n",
       "                                                  Review Type Of Traveller  \\\n",
       "16641    Anchorage to Kenai. They will give away your...          Business   \n",
       "16642    I flew on Ravn Alaska with my girlfriend bac...    Couple Leisure   \n",
       "16644    Anchorage to Homer. Last 4 times I have flow...      Solo Leisure   \n",
       "16645  Ravn Alaska is so frustrating. First off, your...    Couple Leisure   \n",
       "\n",
       "           Seat Type  Seat Comfort  Cabin Staff Service  Food & Beverages  \\\n",
       "16641  Economy Class           1.0                  1.0               1.0   \n",
       "16642  Economy Class           5.0                  5.0               5.0   \n",
       "16644  Economy Class           3.0                  5.0               3.0   \n",
       "16645  Economy Class           1.0                  3.0               3.0   \n",
       "\n",
       "       Ground Service  Value For Money Recommended  New_Ratings  \n",
       "16641             1.0              1.0          no            1  \n",
       "16642             5.0              5.0         yes            1  \n",
       "16644             2.0              3.0          no            3  \n",
       "16645             1.0              2.0          no            2  "
      ]
     },
     "execution_count": 133,
     "metadata": {},
     "output_type": "execute_result"
    }
   ],
   "source": [
    "# find duplicates :\n",
    "no_of_dup = data.duplicated().sum()\n",
    "print(\"no_of_dup : \" , no_of_dup)\n",
    "#print duplicates :\n",
    "data[data.duplicated()]\n",
    "\n"
   ]
  },
  {
   "cell_type": "code",
   "execution_count": 134,
   "id": "1124d5b0",
   "metadata": {},
   "outputs": [],
   "source": [
    "data = data.drop_duplicates()"
   ]
  },
  {
   "cell_type": "code",
   "execution_count": 135,
   "id": "4a70a674",
   "metadata": {},
   "outputs": [
    {
     "name": "stdout",
     "output_type": "stream",
     "text": [
      "no_of_dup :  0\n"
     ]
    }
   ],
   "source": [
    "#check duplicates :\n",
    "no_of_dup = data.duplicated().sum()\n",
    "print(\"no_of_dup : \" , no_of_dup)"
   ]
  },
  {
   "cell_type": "code",
   "execution_count": 136,
   "id": "e4a2a238",
   "metadata": {},
   "outputs": [
    {
     "data": {
      "text/plain": [
       "Review_Title              0\n",
       "Verified                  0\n",
       "Review                    0\n",
       "Type Of Traveller      1388\n",
       "Seat Type                16\n",
       "Seat Comfort              1\n",
       "Cabin Staff Service       1\n",
       "Food & Beverages          0\n",
       "Ground Service         1392\n",
       "Value For Money           0\n",
       "Recommended               0\n",
       "New_Ratings               0\n",
       "dtype: int64"
      ]
     },
     "execution_count": 136,
     "metadata": {},
     "output_type": "execute_result"
    }
   ],
   "source": [
    "data.isnull().sum()"
   ]
  },
  {
   "cell_type": "code",
   "execution_count": 137,
   "id": "d9c44c09",
   "metadata": {},
   "outputs": [],
   "source": [
    "# treting null values :\n",
    "data['Seat Comfort'] = data['Seat Comfort'].fillna(0)\n",
    "data['Cabin Staff Service'] = data['Cabin Staff Service'].fillna(0)"
   ]
  },
  {
   "cell_type": "code",
   "execution_count": 138,
   "id": "5357b1e0",
   "metadata": {},
   "outputs": [
    {
     "data": {
      "text/plain": [
       "Review_Title              0\n",
       "Verified                  0\n",
       "Review                    0\n",
       "Type Of Traveller      1388\n",
       "Seat Type                16\n",
       "Seat Comfort              0\n",
       "Cabin Staff Service       0\n",
       "Food & Beverages          0\n",
       "Ground Service         1392\n",
       "Value For Money           0\n",
       "Recommended               0\n",
       "New_Ratings               0\n",
       "dtype: int64"
      ]
     },
     "execution_count": 138,
     "metadata": {},
     "output_type": "execute_result"
    }
   ],
   "source": [
    "data.isnull().sum()"
   ]
  },
  {
   "cell_type": "code",
   "execution_count": 139,
   "id": "adf49d80",
   "metadata": {},
   "outputs": [
    {
     "data": {
      "text/plain": [
       "Seat Type\n",
       "Economy Class      11951\n",
       "Business Class      1840\n",
       "Premium Economy      525\n",
       "First Class          164\n",
       "Name: count, dtype: int64"
      ]
     },
     "execution_count": 139,
     "metadata": {},
     "output_type": "execute_result"
    }
   ],
   "source": [
    "data['Seat Type'].value_counts()\n"
   ]
  },
  {
   "cell_type": "code",
   "execution_count": 140,
   "id": "83d7e844",
   "metadata": {},
   "outputs": [],
   "source": [
    "# fill null values for the 'Seat Type' column as mode :\n",
    "data[\"Seat Type\"] = data[\"Seat Type\"].fillna(data[\"Seat Type\"].mode()[0])"
   ]
  },
  {
   "cell_type": "code",
   "execution_count": 141,
   "id": "19add3e2",
   "metadata": {},
   "outputs": [
    {
     "data": {
      "text/plain": [
       "Review_Title              0\n",
       "Verified                  0\n",
       "Review                    0\n",
       "Type Of Traveller      1388\n",
       "Seat Type                 0\n",
       "Seat Comfort              0\n",
       "Cabin Staff Service       0\n",
       "Food & Beverages          0\n",
       "Ground Service         1392\n",
       "Value For Money           0\n",
       "Recommended               0\n",
       "New_Ratings               0\n",
       "dtype: int64"
      ]
     },
     "execution_count": 141,
     "metadata": {},
     "output_type": "execute_result"
    }
   ],
   "source": [
    "data.isnull().sum()"
   ]
  },
  {
   "cell_type": "code",
   "execution_count": 142,
   "id": "0a415015",
   "metadata": {},
   "outputs": [],
   "source": [
    "data = data.drop(['Type Of Traveller'], axis=1)"
   ]
  },
  {
   "cell_type": "code",
   "execution_count": 143,
   "id": "115e6112",
   "metadata": {},
   "outputs": [
    {
     "data": {
      "text/plain": [
       "Review_Title              0\n",
       "Verified                  0\n",
       "Review                    0\n",
       "Seat Type                 0\n",
       "Seat Comfort              0\n",
       "Cabin Staff Service       0\n",
       "Food & Beverages          0\n",
       "Ground Service         1392\n",
       "Value For Money           0\n",
       "Recommended               0\n",
       "New_Ratings               0\n",
       "dtype: int64"
      ]
     },
     "execution_count": 143,
     "metadata": {},
     "output_type": "execute_result"
    }
   ],
   "source": [
    "data.isnull().sum()"
   ]
  },
  {
   "cell_type": "code",
   "execution_count": 144,
   "id": "70e13b3b",
   "metadata": {},
   "outputs": [],
   "source": [
    "data[\"Ground Service\"] = data[\"Ground Service\"].fillna(data[\"Ground Service\"].mode()[0])"
   ]
  },
  {
   "cell_type": "code",
   "execution_count": 145,
   "id": "e7b7449d",
   "metadata": {},
   "outputs": [
    {
     "data": {
      "text/plain": [
       "Review_Title           0\n",
       "Verified               0\n",
       "Review                 0\n",
       "Seat Type              0\n",
       "Seat Comfort           0\n",
       "Cabin Staff Service    0\n",
       "Food & Beverages       0\n",
       "Ground Service         0\n",
       "Value For Money        0\n",
       "Recommended            0\n",
       "New_Ratings            0\n",
       "dtype: int64"
      ]
     },
     "execution_count": 145,
     "metadata": {},
     "output_type": "execute_result"
    }
   ],
   "source": [
    "data.isnull().sum()"
   ]
  },
  {
   "cell_type": "code",
   "execution_count": 146,
   "id": "8b9d19db",
   "metadata": {},
   "outputs": [
    {
     "data": {
      "image/png": "[encoded data removed]",
      "text/plain": [
       "<Figure size 640x480 with 1 Axes>"
      ]
     },
     "metadata": {},
     "output_type": "display_data"
    }
   ],
   "source": [
    "#plt.figure(figsize=(8,4))\n",
    "sns.barplot(x = \"Seat Type\" , y = \"New_Ratings\" , hue =\"Verified\" , data = data)\n",
    "plt.show()"
   ]
  },
  {
   "cell_type": "code",
   "execution_count": 147,
   "id": "8bbbf419",
   "metadata": {},
   "outputs": [
    {
     "data": {
      "text/html": [
       "<div>\n",
       "<style scoped>\n",
       "    .dataframe tbody tr th:only-of-type {\n",
       "        vertical-align: middle;\n",
       "    }\n",
       "\n",
       "    .dataframe tbody tr th {\n",
       "        vertical-align: top;\n",
       "    }\n",
       "\n",
       "    .dataframe thead th {\n",
       "        text-align: right;\n",
       "    }\n",
       "</style>\n",
       "<table border=\"1\" class=\"dataframe\">\n",
       "  <thead>\n",
       "    <tr style=\"text-align: right;\">\n",
       "      <th></th>\n",
       "      <th>Verified</th>\n",
       "      <th>Review</th>\n",
       "      <th>Seat Type</th>\n",
       "      <th>Seat Comfort</th>\n",
       "      <th>Cabin Staff Service</th>\n",
       "      <th>Food &amp; Beverages</th>\n",
       "      <th>Ground Service</th>\n",
       "      <th>Value For Money</th>\n",
       "      <th>Recommended</th>\n",
       "      <th>New_Ratings</th>\n",
       "    </tr>\n",
       "  </thead>\n",
       "  <tbody>\n",
       "    <tr>\n",
       "      <th>0</th>\n",
       "      <td>True</td>\n",
       "      <td>Moroni to Moheli. Turned out to be a pretty ...</td>\n",
       "      <td>Economy Class</td>\n",
       "      <td>4.0</td>\n",
       "      <td>5.0</td>\n",
       "      <td>4.0</td>\n",
       "      <td>4.0</td>\n",
       "      <td>3.0</td>\n",
       "      <td>yes</td>\n",
       "      <td>4</td>\n",
       "    </tr>\n",
       "    <tr>\n",
       "      <th>1</th>\n",
       "      <td>True</td>\n",
       "      <td>Moroni to Anjouan. It is a very small airline...</td>\n",
       "      <td>Economy Class</td>\n",
       "      <td>2.0</td>\n",
       "      <td>2.0</td>\n",
       "      <td>1.0</td>\n",
       "      <td>1.0</td>\n",
       "      <td>2.0</td>\n",
       "      <td>no</td>\n",
       "      <td>1</td>\n",
       "    </tr>\n",
       "    <tr>\n",
       "      <th>2</th>\n",
       "      <td>True</td>\n",
       "      <td>Anjouan to Dzaoudzi. A very small airline an...</td>\n",
       "      <td>Economy Class</td>\n",
       "      <td>2.0</td>\n",
       "      <td>1.0</td>\n",
       "      <td>1.0</td>\n",
       "      <td>1.0</td>\n",
       "      <td>2.0</td>\n",
       "      <td>no</td>\n",
       "      <td>1</td>\n",
       "    </tr>\n",
       "    <tr>\n",
       "      <th>4</th>\n",
       "      <td>True</td>\n",
       "      <td>Do not book a flight with this airline! My fr...</td>\n",
       "      <td>Economy Class</td>\n",
       "      <td>1.0</td>\n",
       "      <td>1.0</td>\n",
       "      <td>1.0</td>\n",
       "      <td>1.0</td>\n",
       "      <td>1.0</td>\n",
       "      <td>no</td>\n",
       "      <td>1</td>\n",
       "    </tr>\n",
       "    <tr>\n",
       "      <th>5</th>\n",
       "      <td>True</td>\n",
       "      <td>Had very bad experience with rerouted and ca...</td>\n",
       "      <td>Economy Class</td>\n",
       "      <td>1.0</td>\n",
       "      <td>1.0</td>\n",
       "      <td>1.0</td>\n",
       "      <td>1.0</td>\n",
       "      <td>1.0</td>\n",
       "      <td>no</td>\n",
       "      <td>1</td>\n",
       "    </tr>\n",
       "  </tbody>\n",
       "</table>\n",
       "</div>"
      ],
      "text/plain": [
       "   Verified                                             Review      Seat Type  \\\n",
       "0      True    Moroni to Moheli. Turned out to be a pretty ...  Economy Class   \n",
       "1      True   Moroni to Anjouan. It is a very small airline...  Economy Class   \n",
       "2      True    Anjouan to Dzaoudzi. A very small airline an...  Economy Class   \n",
       "4      True   Do not book a flight with this airline! My fr...  Economy Class   \n",
       "5      True    Had very bad experience with rerouted and ca...  Economy Class   \n",
       "\n",
       "   Seat Comfort  Cabin Staff Service  Food & Beverages  Ground Service  \\\n",
       "0           4.0                  5.0               4.0             4.0   \n",
       "1           2.0                  2.0               1.0             1.0   \n",
       "2           2.0                  1.0               1.0             1.0   \n",
       "4           1.0                  1.0               1.0             1.0   \n",
       "5           1.0                  1.0               1.0             1.0   \n",
       "\n",
       "   Value For Money Recommended  New_Ratings  \n",
       "0              3.0         yes            4  \n",
       "1              2.0          no            1  \n",
       "2              2.0          no            1  \n",
       "4              1.0          no            1  \n",
       "5              1.0          no            1  "
      ]
     },
     "execution_count": 147,
     "metadata": {},
     "output_type": "execute_result"
    }
   ],
   "source": [
    "# drop unnecessary columns :\n",
    "data = data.drop([\"Review_Title\"], axis=1)\n",
    "data.head(5)"
   ]
  },
  {
   "cell_type": "code",
   "execution_count": 148,
   "id": "c5112646",
   "metadata": {},
   "outputs": [],
   "source": [
    "# label encoding :\n",
    "data[\"Recommended\"] = data[\"Recommended\"].map({\"yes\":1 , \"no\":0})"
   ]
  },
  {
   "cell_type": "code",
   "execution_count": 149,
   "id": "f79f9082",
   "metadata": {},
   "outputs": [
    {
     "data": {
      "text/html": [
       "<div>\n",
       "<style scoped>\n",
       "    .dataframe tbody tr th:only-of-type {\n",
       "        vertical-align: middle;\n",
       "    }\n",
       "\n",
       "    .dataframe tbody tr th {\n",
       "        vertical-align: top;\n",
       "    }\n",
       "\n",
       "    .dataframe thead th {\n",
       "        text-align: right;\n",
       "    }\n",
       "</style>\n",
       "<table border=\"1\" class=\"dataframe\">\n",
       "  <thead>\n",
       "    <tr style=\"text-align: right;\">\n",
       "      <th></th>\n",
       "      <th>Verified</th>\n",
       "      <th>Review</th>\n",
       "      <th>Seat Type</th>\n",
       "      <th>Seat Comfort</th>\n",
       "      <th>Cabin Staff Service</th>\n",
       "      <th>Food &amp; Beverages</th>\n",
       "      <th>Ground Service</th>\n",
       "      <th>Value For Money</th>\n",
       "      <th>Recommended</th>\n",
       "      <th>New_Ratings</th>\n",
       "    </tr>\n",
       "  </thead>\n",
       "  <tbody>\n",
       "    <tr>\n",
       "      <th>0</th>\n",
       "      <td>True</td>\n",
       "      <td>Moroni to Moheli. Turned out to be a pretty ...</td>\n",
       "      <td>Economy Class</td>\n",
       "      <td>4.0</td>\n",
       "      <td>5.0</td>\n",
       "      <td>4.0</td>\n",
       "      <td>4.0</td>\n",
       "      <td>3.0</td>\n",
       "      <td>1</td>\n",
       "      <td>4</td>\n",
       "    </tr>\n",
       "    <tr>\n",
       "      <th>1</th>\n",
       "      <td>True</td>\n",
       "      <td>Moroni to Anjouan. It is a very small airline...</td>\n",
       "      <td>Economy Class</td>\n",
       "      <td>2.0</td>\n",
       "      <td>2.0</td>\n",
       "      <td>1.0</td>\n",
       "      <td>1.0</td>\n",
       "      <td>2.0</td>\n",
       "      <td>0</td>\n",
       "      <td>1</td>\n",
       "    </tr>\n",
       "    <tr>\n",
       "      <th>2</th>\n",
       "      <td>True</td>\n",
       "      <td>Anjouan to Dzaoudzi. A very small airline an...</td>\n",
       "      <td>Economy Class</td>\n",
       "      <td>2.0</td>\n",
       "      <td>1.0</td>\n",
       "      <td>1.0</td>\n",
       "      <td>1.0</td>\n",
       "      <td>2.0</td>\n",
       "      <td>0</td>\n",
       "      <td>1</td>\n",
       "    </tr>\n",
       "    <tr>\n",
       "      <th>4</th>\n",
       "      <td>True</td>\n",
       "      <td>Do not book a flight with this airline! My fr...</td>\n",
       "      <td>Economy Class</td>\n",
       "      <td>1.0</td>\n",
       "      <td>1.0</td>\n",
       "      <td>1.0</td>\n",
       "      <td>1.0</td>\n",
       "      <td>1.0</td>\n",
       "      <td>0</td>\n",
       "      <td>1</td>\n",
       "    </tr>\n",
       "    <tr>\n",
       "      <th>5</th>\n",
       "      <td>True</td>\n",
       "      <td>Had very bad experience with rerouted and ca...</td>\n",
       "      <td>Economy Class</td>\n",
       "      <td>1.0</td>\n",
       "      <td>1.0</td>\n",
       "      <td>1.0</td>\n",
       "      <td>1.0</td>\n",
       "      <td>1.0</td>\n",
       "      <td>0</td>\n",
       "      <td>1</td>\n",
       "    </tr>\n",
       "  </tbody>\n",
       "</table>\n",
       "</div>"
      ],
      "text/plain": [
       "   Verified                                             Review      Seat Type  \\\n",
       "0      True    Moroni to Moheli. Turned out to be a pretty ...  Economy Class   \n",
       "1      True   Moroni to Anjouan. It is a very small airline...  Economy Class   \n",
       "2      True    Anjouan to Dzaoudzi. A very small airline an...  Economy Class   \n",
       "4      True   Do not book a flight with this airline! My fr...  Economy Class   \n",
       "5      True    Had very bad experience with rerouted and ca...  Economy Class   \n",
       "\n",
       "   Seat Comfort  Cabin Staff Service  Food & Beverages  Ground Service  \\\n",
       "0           4.0                  5.0               4.0             4.0   \n",
       "1           2.0                  2.0               1.0             1.0   \n",
       "2           2.0                  1.0               1.0             1.0   \n",
       "4           1.0                  1.0               1.0             1.0   \n",
       "5           1.0                  1.0               1.0             1.0   \n",
       "\n",
       "   Value For Money  Recommended  New_Ratings  \n",
       "0              3.0            1            4  \n",
       "1              2.0            0            1  \n",
       "2              2.0            0            1  \n",
       "4              1.0            0            1  \n",
       "5              1.0            0            1  "
      ]
     },
     "execution_count": 149,
     "metadata": {},
     "output_type": "execute_result"
    }
   ],
   "source": [
    "data.head(5)"
   ]
  },
  {
   "cell_type": "code",
   "execution_count": 150,
   "id": "db45056a",
   "metadata": {},
   "outputs": [
    {
     "data": {
      "text/plain": [
       "Seat Type\n",
       "Economy Class      11967\n",
       "Business Class      1840\n",
       "Premium Economy      525\n",
       "First Class          164\n",
       "Name: count, dtype: int64"
      ]
     },
     "execution_count": 150,
     "metadata": {},
     "output_type": "execute_result"
    }
   ],
   "source": [
    "data[\"Seat Type\"].value_counts()"
   ]
  },
  {
   "cell_type": "code",
   "execution_count": 151,
   "id": "ee9389fc",
   "metadata": {},
   "outputs": [],
   "source": [
    "# do label encoding :\n",
    "# Define the mapping dictionary\n",
    "seat_type_mapping = {\n",
    "    'Economy Class': 0,\n",
    "    'Business Class': 1,\n",
    "    'Premium Economy': 2,\n",
    "    'First Class': 3\n",
    "}\n",
    "\n",
    "# Apply the mapping using the map function\n",
    "data['Seat Type'] = data['Seat Type'].map(seat_type_mapping)\n"
   ]
  },
  {
   "cell_type": "code",
   "execution_count": 152,
   "id": "52b42873",
   "metadata": {},
   "outputs": [
    {
     "data": {
      "text/plain": [
       "Seat Type\n",
       "0    11967\n",
       "1     1840\n",
       "2      525\n",
       "3      164\n",
       "Name: count, dtype: int64"
      ]
     },
     "execution_count": 152,
     "metadata": {},
     "output_type": "execute_result"
    }
   ],
   "source": [
    "data[\"Seat Type\"].value_counts()"
   ]
  },
  {
   "cell_type": "code",
   "execution_count": 153,
   "id": "43d60ec5",
   "metadata": {},
   "outputs": [
    {
     "data": {
      "text/html": [
       "<div>\n",
       "<style scoped>\n",
       "    .dataframe tbody tr th:only-of-type {\n",
       "        vertical-align: middle;\n",
       "    }\n",
       "\n",
       "    .dataframe tbody tr th {\n",
       "        vertical-align: top;\n",
       "    }\n",
       "\n",
       "    .dataframe thead th {\n",
       "        text-align: right;\n",
       "    }\n",
       "</style>\n",
       "<table border=\"1\" class=\"dataframe\">\n",
       "  <thead>\n",
       "    <tr style=\"text-align: right;\">\n",
       "      <th></th>\n",
       "      <th>Verified</th>\n",
       "      <th>Review</th>\n",
       "      <th>Seat Type</th>\n",
       "      <th>Seat Comfort</th>\n",
       "      <th>Cabin Staff Service</th>\n",
       "      <th>Food &amp; Beverages</th>\n",
       "      <th>Ground Service</th>\n",
       "      <th>Value For Money</th>\n",
       "      <th>Recommended</th>\n",
       "      <th>New_Ratings</th>\n",
       "    </tr>\n",
       "  </thead>\n",
       "  <tbody>\n",
       "    <tr>\n",
       "      <th>0</th>\n",
       "      <td>True</td>\n",
       "      <td>Moroni to Moheli. Turned out to be a pretty ...</td>\n",
       "      <td>0</td>\n",
       "      <td>4.0</td>\n",
       "      <td>5.0</td>\n",
       "      <td>4.0</td>\n",
       "      <td>4.0</td>\n",
       "      <td>3.0</td>\n",
       "      <td>1</td>\n",
       "      <td>4</td>\n",
       "    </tr>\n",
       "    <tr>\n",
       "      <th>1</th>\n",
       "      <td>True</td>\n",
       "      <td>Moroni to Anjouan. It is a very small airline...</td>\n",
       "      <td>0</td>\n",
       "      <td>2.0</td>\n",
       "      <td>2.0</td>\n",
       "      <td>1.0</td>\n",
       "      <td>1.0</td>\n",
       "      <td>2.0</td>\n",
       "      <td>0</td>\n",
       "      <td>1</td>\n",
       "    </tr>\n",
       "    <tr>\n",
       "      <th>2</th>\n",
       "      <td>True</td>\n",
       "      <td>Anjouan to Dzaoudzi. A very small airline an...</td>\n",
       "      <td>0</td>\n",
       "      <td>2.0</td>\n",
       "      <td>1.0</td>\n",
       "      <td>1.0</td>\n",
       "      <td>1.0</td>\n",
       "      <td>2.0</td>\n",
       "      <td>0</td>\n",
       "      <td>1</td>\n",
       "    </tr>\n",
       "    <tr>\n",
       "      <th>4</th>\n",
       "      <td>True</td>\n",
       "      <td>Do not book a flight with this airline! My fr...</td>\n",
       "      <td>0</td>\n",
       "      <td>1.0</td>\n",
       "      <td>1.0</td>\n",
       "      <td>1.0</td>\n",
       "      <td>1.0</td>\n",
       "      <td>1.0</td>\n",
       "      <td>0</td>\n",
       "      <td>1</td>\n",
       "    </tr>\n",
       "    <tr>\n",
       "      <th>5</th>\n",
       "      <td>True</td>\n",
       "      <td>Had very bad experience with rerouted and ca...</td>\n",
       "      <td>0</td>\n",
       "      <td>1.0</td>\n",
       "      <td>1.0</td>\n",
       "      <td>1.0</td>\n",
       "      <td>1.0</td>\n",
       "      <td>1.0</td>\n",
       "      <td>0</td>\n",
       "      <td>1</td>\n",
       "    </tr>\n",
       "  </tbody>\n",
       "</table>\n",
       "</div>"
      ],
      "text/plain": [
       "   Verified                                             Review  Seat Type  \\\n",
       "0      True    Moroni to Moheli. Turned out to be a pretty ...          0   \n",
       "1      True   Moroni to Anjouan. It is a very small airline...          0   \n",
       "2      True    Anjouan to Dzaoudzi. A very small airline an...          0   \n",
       "4      True   Do not book a flight with this airline! My fr...          0   \n",
       "5      True    Had very bad experience with rerouted and ca...          0   \n",
       "\n",
       "   Seat Comfort  Cabin Staff Service  Food & Beverages  Ground Service  \\\n",
       "0           4.0                  5.0               4.0             4.0   \n",
       "1           2.0                  2.0               1.0             1.0   \n",
       "2           2.0                  1.0               1.0             1.0   \n",
       "4           1.0                  1.0               1.0             1.0   \n",
       "5           1.0                  1.0               1.0             1.0   \n",
       "\n",
       "   Value For Money  Recommended  New_Ratings  \n",
       "0              3.0            1            4  \n",
       "1              2.0            0            1  \n",
       "2              2.0            0            1  \n",
       "4              1.0            0            1  \n",
       "5              1.0            0            1  "
      ]
     },
     "execution_count": 153,
     "metadata": {},
     "output_type": "execute_result"
    }
   ],
   "source": [
    "data.head(5)"
   ]
  },
  {
   "cell_type": "code",
   "execution_count": 154,
   "id": "b7c494f7",
   "metadata": {},
   "outputs": [],
   "source": [
    "data = data.drop([\"Verified\"], axis=1)"
   ]
  },
  {
   "cell_type": "code",
   "execution_count": 155,
   "id": "7531a772",
   "metadata": {},
   "outputs": [
    {
     "data": {
      "text/html": [
       "<div>\n",
       "<style scoped>\n",
       "    .dataframe tbody tr th:only-of-type {\n",
       "        vertical-align: middle;\n",
       "    }\n",
       "\n",
       "    .dataframe tbody tr th {\n",
       "        vertical-align: top;\n",
       "    }\n",
       "\n",
       "    .dataframe thead th {\n",
       "        text-align: right;\n",
       "    }\n",
       "</style>\n",
       "<table border=\"1\" class=\"dataframe\">\n",
       "  <thead>\n",
       "    <tr style=\"text-align: right;\">\n",
       "      <th></th>\n",
       "      <th>Review</th>\n",
       "      <th>Seat Type</th>\n",
       "      <th>Seat Comfort</th>\n",
       "      <th>Cabin Staff Service</th>\n",
       "      <th>Food &amp; Beverages</th>\n",
       "      <th>Ground Service</th>\n",
       "      <th>Value For Money</th>\n",
       "      <th>Recommended</th>\n",
       "      <th>New_Ratings</th>\n",
       "    </tr>\n",
       "  </thead>\n",
       "  <tbody>\n",
       "    <tr>\n",
       "      <th>0</th>\n",
       "      <td>Moroni to Moheli. Turned out to be a pretty ...</td>\n",
       "      <td>0</td>\n",
       "      <td>4.0</td>\n",
       "      <td>5.0</td>\n",
       "      <td>4.0</td>\n",
       "      <td>4.0</td>\n",
       "      <td>3.0</td>\n",
       "      <td>1</td>\n",
       "      <td>4</td>\n",
       "    </tr>\n",
       "    <tr>\n",
       "      <th>1</th>\n",
       "      <td>Moroni to Anjouan. It is a very small airline...</td>\n",
       "      <td>0</td>\n",
       "      <td>2.0</td>\n",
       "      <td>2.0</td>\n",
       "      <td>1.0</td>\n",
       "      <td>1.0</td>\n",
       "      <td>2.0</td>\n",
       "      <td>0</td>\n",
       "      <td>1</td>\n",
       "    </tr>\n",
       "    <tr>\n",
       "      <th>2</th>\n",
       "      <td>Anjouan to Dzaoudzi. A very small airline an...</td>\n",
       "      <td>0</td>\n",
       "      <td>2.0</td>\n",
       "      <td>1.0</td>\n",
       "      <td>1.0</td>\n",
       "      <td>1.0</td>\n",
       "      <td>2.0</td>\n",
       "      <td>0</td>\n",
       "      <td>1</td>\n",
       "    </tr>\n",
       "    <tr>\n",
       "      <th>4</th>\n",
       "      <td>Do not book a flight with this airline! My fr...</td>\n",
       "      <td>0</td>\n",
       "      <td>1.0</td>\n",
       "      <td>1.0</td>\n",
       "      <td>1.0</td>\n",
       "      <td>1.0</td>\n",
       "      <td>1.0</td>\n",
       "      <td>0</td>\n",
       "      <td>1</td>\n",
       "    </tr>\n",
       "    <tr>\n",
       "      <th>5</th>\n",
       "      <td>Had very bad experience with rerouted and ca...</td>\n",
       "      <td>0</td>\n",
       "      <td>1.0</td>\n",
       "      <td>1.0</td>\n",
       "      <td>1.0</td>\n",
       "      <td>1.0</td>\n",
       "      <td>1.0</td>\n",
       "      <td>0</td>\n",
       "      <td>1</td>\n",
       "    </tr>\n",
       "  </tbody>\n",
       "</table>\n",
       "</div>"
      ],
      "text/plain": [
       "                                              Review  Seat Type  Seat Comfort  \\\n",
       "0    Moroni to Moheli. Turned out to be a pretty ...          0           4.0   \n",
       "1   Moroni to Anjouan. It is a very small airline...          0           2.0   \n",
       "2    Anjouan to Dzaoudzi. A very small airline an...          0           2.0   \n",
       "4   Do not book a flight with this airline! My fr...          0           1.0   \n",
       "5    Had very bad experience with rerouted and ca...          0           1.0   \n",
       "\n",
       "   Cabin Staff Service  Food & Beverages  Ground Service  Value For Money  \\\n",
       "0                  5.0               4.0             4.0              3.0   \n",
       "1                  2.0               1.0             1.0              2.0   \n",
       "2                  1.0               1.0             1.0              2.0   \n",
       "4                  1.0               1.0             1.0              1.0   \n",
       "5                  1.0               1.0             1.0              1.0   \n",
       "\n",
       "   Recommended  New_Ratings  \n",
       "0            1            4  \n",
       "1            0            1  \n",
       "2            0            1  \n",
       "4            0            1  \n",
       "5            0            1  "
      ]
     },
     "execution_count": 155,
     "metadata": {},
     "output_type": "execute_result"
    }
   ],
   "source": [
    "data.head(5)"
   ]
  },
  {
   "cell_type": "markdown",
   "id": "079cbe43",
   "metadata": {},
   "source": [
    "# now data is reasy for NLP and ML :"
   ]
  },
  {
   "cell_type": "code",
   "execution_count": 156,
   "id": "cfbb8c4a",
   "metadata": {},
   "outputs": [],
   "source": [
    "#Lowering all the letters and then saving it in the new column:\n",
    "data['Review'] = data['Review'].str.lower()\n"
   ]
  },
  {
   "cell_type": "code",
   "execution_count": 157,
   "id": "b64da7fd",
   "metadata": {},
   "outputs": [
    {
     "data": {
      "text/html": [
       "<div>\n",
       "<style scoped>\n",
       "    .dataframe tbody tr th:only-of-type {\n",
       "        vertical-align: middle;\n",
       "    }\n",
       "\n",
       "    .dataframe tbody tr th {\n",
       "        vertical-align: top;\n",
       "    }\n",
       "\n",
       "    .dataframe thead th {\n",
       "        text-align: right;\n",
       "    }\n",
       "</style>\n",
       "<table border=\"1\" class=\"dataframe\">\n",
       "  <thead>\n",
       "    <tr style=\"text-align: right;\">\n",
       "      <th></th>\n",
       "      <th>Review</th>\n",
       "      <th>Seat Type</th>\n",
       "      <th>Seat Comfort</th>\n",
       "      <th>Cabin Staff Service</th>\n",
       "      <th>Food &amp; Beverages</th>\n",
       "      <th>Ground Service</th>\n",
       "      <th>Value For Money</th>\n",
       "      <th>Recommended</th>\n",
       "      <th>New_Ratings</th>\n",
       "    </tr>\n",
       "  </thead>\n",
       "  <tbody>\n",
       "    <tr>\n",
       "      <th>0</th>\n",
       "      <td>moroni to moheli. turned out to be a pretty ...</td>\n",
       "      <td>0</td>\n",
       "      <td>4.0</td>\n",
       "      <td>5.0</td>\n",
       "      <td>4.0</td>\n",
       "      <td>4.0</td>\n",
       "      <td>3.0</td>\n",
       "      <td>1</td>\n",
       "      <td>4</td>\n",
       "    </tr>\n",
       "    <tr>\n",
       "      <th>1</th>\n",
       "      <td>moroni to anjouan. it is a very small airline...</td>\n",
       "      <td>0</td>\n",
       "      <td>2.0</td>\n",
       "      <td>2.0</td>\n",
       "      <td>1.0</td>\n",
       "      <td>1.0</td>\n",
       "      <td>2.0</td>\n",
       "      <td>0</td>\n",
       "      <td>1</td>\n",
       "    </tr>\n",
       "    <tr>\n",
       "      <th>2</th>\n",
       "      <td>anjouan to dzaoudzi. a very small airline an...</td>\n",
       "      <td>0</td>\n",
       "      <td>2.0</td>\n",
       "      <td>1.0</td>\n",
       "      <td>1.0</td>\n",
       "      <td>1.0</td>\n",
       "      <td>2.0</td>\n",
       "      <td>0</td>\n",
       "      <td>1</td>\n",
       "    </tr>\n",
       "    <tr>\n",
       "      <th>4</th>\n",
       "      <td>do not book a flight with this airline! my fr...</td>\n",
       "      <td>0</td>\n",
       "      <td>1.0</td>\n",
       "      <td>1.0</td>\n",
       "      <td>1.0</td>\n",
       "      <td>1.0</td>\n",
       "      <td>1.0</td>\n",
       "      <td>0</td>\n",
       "      <td>1</td>\n",
       "    </tr>\n",
       "    <tr>\n",
       "      <th>5</th>\n",
       "      <td>had very bad experience with rerouted and ca...</td>\n",
       "      <td>0</td>\n",
       "      <td>1.0</td>\n",
       "      <td>1.0</td>\n",
       "      <td>1.0</td>\n",
       "      <td>1.0</td>\n",
       "      <td>1.0</td>\n",
       "      <td>0</td>\n",
       "      <td>1</td>\n",
       "    </tr>\n",
       "  </tbody>\n",
       "</table>\n",
       "</div>"
      ],
      "text/plain": [
       "                                              Review  Seat Type  Seat Comfort  \\\n",
       "0    moroni to moheli. turned out to be a pretty ...          0           4.0   \n",
       "1   moroni to anjouan. it is a very small airline...          0           2.0   \n",
       "2    anjouan to dzaoudzi. a very small airline an...          0           2.0   \n",
       "4   do not book a flight with this airline! my fr...          0           1.0   \n",
       "5    had very bad experience with rerouted and ca...          0           1.0   \n",
       "\n",
       "   Cabin Staff Service  Food & Beverages  Ground Service  Value For Money  \\\n",
       "0                  5.0               4.0             4.0              3.0   \n",
       "1                  2.0               1.0             1.0              2.0   \n",
       "2                  1.0               1.0             1.0              2.0   \n",
       "4                  1.0               1.0             1.0              1.0   \n",
       "5                  1.0               1.0             1.0              1.0   \n",
       "\n",
       "   Recommended  New_Ratings  \n",
       "0            1            4  \n",
       "1            0            1  \n",
       "2            0            1  \n",
       "4            0            1  \n",
       "5            0            1  "
      ]
     },
     "execution_count": 157,
     "metadata": {},
     "output_type": "execute_result"
    }
   ],
   "source": [
    "data.head(5)"
   ]
  },
  {
   "cell_type": "code",
   "execution_count": 158,
   "id": "74169472",
   "metadata": {},
   "outputs": [],
   "source": [
    "# Replacing punctuations with space\n",
    "data['Review_processed'] = data['Review'].str.replace(r'[^\\w\\s\\d]+', ' ', regex=True)\n"
   ]
  },
  {
   "cell_type": "code",
   "execution_count": 159,
   "id": "b06ce5b3",
   "metadata": {},
   "outputs": [
    {
     "data": {
      "text/html": [
       "<div>\n",
       "<style scoped>\n",
       "    .dataframe tbody tr th:only-of-type {\n",
       "        vertical-align: middle;\n",
       "    }\n",
       "\n",
       "    .dataframe tbody tr th {\n",
       "        vertical-align: top;\n",
       "    }\n",
       "\n",
       "    .dataframe thead th {\n",
       "        text-align: right;\n",
       "    }\n",
       "</style>\n",
       "<table border=\"1\" class=\"dataframe\">\n",
       "  <thead>\n",
       "    <tr style=\"text-align: right;\">\n",
       "      <th></th>\n",
       "      <th>Review</th>\n",
       "      <th>Seat Type</th>\n",
       "      <th>Seat Comfort</th>\n",
       "      <th>Cabin Staff Service</th>\n",
       "      <th>Food &amp; Beverages</th>\n",
       "      <th>Ground Service</th>\n",
       "      <th>Value For Money</th>\n",
       "      <th>Recommended</th>\n",
       "      <th>New_Ratings</th>\n",
       "      <th>Review_processed</th>\n",
       "    </tr>\n",
       "  </thead>\n",
       "  <tbody>\n",
       "    <tr>\n",
       "      <th>0</th>\n",
       "      <td>moroni to moheli. turned out to be a pretty ...</td>\n",
       "      <td>0</td>\n",
       "      <td>4.0</td>\n",
       "      <td>5.0</td>\n",
       "      <td>4.0</td>\n",
       "      <td>4.0</td>\n",
       "      <td>3.0</td>\n",
       "      <td>1</td>\n",
       "      <td>4</td>\n",
       "      <td>moroni to moheli  turned out to be a pretty ...</td>\n",
       "    </tr>\n",
       "    <tr>\n",
       "      <th>1</th>\n",
       "      <td>moroni to anjouan. it is a very small airline...</td>\n",
       "      <td>0</td>\n",
       "      <td>2.0</td>\n",
       "      <td>2.0</td>\n",
       "      <td>1.0</td>\n",
       "      <td>1.0</td>\n",
       "      <td>2.0</td>\n",
       "      <td>0</td>\n",
       "      <td>1</td>\n",
       "      <td>moroni to anjouan  it is a very small airline...</td>\n",
       "    </tr>\n",
       "    <tr>\n",
       "      <th>2</th>\n",
       "      <td>anjouan to dzaoudzi. a very small airline an...</td>\n",
       "      <td>0</td>\n",
       "      <td>2.0</td>\n",
       "      <td>1.0</td>\n",
       "      <td>1.0</td>\n",
       "      <td>1.0</td>\n",
       "      <td>2.0</td>\n",
       "      <td>0</td>\n",
       "      <td>1</td>\n",
       "      <td>anjouan to dzaoudzi  a very small airline an...</td>\n",
       "    </tr>\n",
       "    <tr>\n",
       "      <th>4</th>\n",
       "      <td>do not book a flight with this airline! my fr...</td>\n",
       "      <td>0</td>\n",
       "      <td>1.0</td>\n",
       "      <td>1.0</td>\n",
       "      <td>1.0</td>\n",
       "      <td>1.0</td>\n",
       "      <td>1.0</td>\n",
       "      <td>0</td>\n",
       "      <td>1</td>\n",
       "      <td>do not book a flight with this airline  my fr...</td>\n",
       "    </tr>\n",
       "    <tr>\n",
       "      <th>5</th>\n",
       "      <td>had very bad experience with rerouted and ca...</td>\n",
       "      <td>0</td>\n",
       "      <td>1.0</td>\n",
       "      <td>1.0</td>\n",
       "      <td>1.0</td>\n",
       "      <td>1.0</td>\n",
       "      <td>1.0</td>\n",
       "      <td>0</td>\n",
       "      <td>1</td>\n",
       "      <td>had very bad experience with rerouted and ca...</td>\n",
       "    </tr>\n",
       "  </tbody>\n",
       "</table>\n",
       "</div>"
      ],
      "text/plain": [
       "                                              Review  Seat Type  Seat Comfort  \\\n",
       "0    moroni to moheli. turned out to be a pretty ...          0           4.0   \n",
       "1   moroni to anjouan. it is a very small airline...          0           2.0   \n",
       "2    anjouan to dzaoudzi. a very small airline an...          0           2.0   \n",
       "4   do not book a flight with this airline! my fr...          0           1.0   \n",
       "5    had very bad experience with rerouted and ca...          0           1.0   \n",
       "\n",
       "   Cabin Staff Service  Food & Beverages  Ground Service  Value For Money  \\\n",
       "0                  5.0               4.0             4.0              3.0   \n",
       "1                  2.0               1.0             1.0              2.0   \n",
       "2                  1.0               1.0             1.0              2.0   \n",
       "4                  1.0               1.0             1.0              1.0   \n",
       "5                  1.0               1.0             1.0              1.0   \n",
       "\n",
       "   Recommended  New_Ratings                                   Review_processed  \n",
       "0            1            4    moroni to moheli  turned out to be a pretty ...  \n",
       "1            0            1   moroni to anjouan  it is a very small airline...  \n",
       "2            0            1    anjouan to dzaoudzi  a very small airline an...  \n",
       "4            0            1   do not book a flight with this airline  my fr...  \n",
       "5            0            1    had very bad experience with rerouted and ca...  "
      ]
     },
     "execution_count": 159,
     "metadata": {},
     "output_type": "execute_result"
    }
   ],
   "source": [
    "data.head(5)"
   ]
  },
  {
   "cell_type": "code",
   "execution_count": 160,
   "id": "e999ad62",
   "metadata": {},
   "outputs": [],
   "source": [
    "data = data.drop([\"Review\"], axis=1)"
   ]
  },
  {
   "cell_type": "code",
   "execution_count": 161,
   "id": "36d7cba1",
   "metadata": {},
   "outputs": [],
   "source": [
    "# reorder the columns:\n",
    "data = data[[\"Review_processed\", \"Seat Type\",\"Seat Comfort\",\"Cabin Staff Service\",\"Food & Beverages\",\"Ground Service\",\"Value For Money\", \"Recommended\" , \"New_Ratings\"]]\n",
    "\n"
   ]
  },
  {
   "cell_type": "code",
   "execution_count": 162,
   "id": "9cb2a545",
   "metadata": {},
   "outputs": [
    {
     "data": {
      "text/html": [
       "<div>\n",
       "<style scoped>\n",
       "    .dataframe tbody tr th:only-of-type {\n",
       "        vertical-align: middle;\n",
       "    }\n",
       "\n",
       "    .dataframe tbody tr th {\n",
       "        vertical-align: top;\n",
       "    }\n",
       "\n",
       "    .dataframe thead th {\n",
       "        text-align: right;\n",
       "    }\n",
       "</style>\n",
       "<table border=\"1\" class=\"dataframe\">\n",
       "  <thead>\n",
       "    <tr style=\"text-align: right;\">\n",
       "      <th></th>\n",
       "      <th>Review_processed</th>\n",
       "      <th>Seat Type</th>\n",
       "      <th>Seat Comfort</th>\n",
       "      <th>Cabin Staff Service</th>\n",
       "      <th>Food &amp; Beverages</th>\n",
       "      <th>Ground Service</th>\n",
       "      <th>Value For Money</th>\n",
       "      <th>Recommended</th>\n",
       "      <th>New_Ratings</th>\n",
       "    </tr>\n",
       "  </thead>\n",
       "  <tbody>\n",
       "    <tr>\n",
       "      <th>0</th>\n",
       "      <td>moroni to moheli  turned out to be a pretty ...</td>\n",
       "      <td>0</td>\n",
       "      <td>4.0</td>\n",
       "      <td>5.0</td>\n",
       "      <td>4.0</td>\n",
       "      <td>4.0</td>\n",
       "      <td>3.0</td>\n",
       "      <td>1</td>\n",
       "      <td>4</td>\n",
       "    </tr>\n",
       "    <tr>\n",
       "      <th>1</th>\n",
       "      <td>moroni to anjouan  it is a very small airline...</td>\n",
       "      <td>0</td>\n",
       "      <td>2.0</td>\n",
       "      <td>2.0</td>\n",
       "      <td>1.0</td>\n",
       "      <td>1.0</td>\n",
       "      <td>2.0</td>\n",
       "      <td>0</td>\n",
       "      <td>1</td>\n",
       "    </tr>\n",
       "    <tr>\n",
       "      <th>2</th>\n",
       "      <td>anjouan to dzaoudzi  a very small airline an...</td>\n",
       "      <td>0</td>\n",
       "      <td>2.0</td>\n",
       "      <td>1.0</td>\n",
       "      <td>1.0</td>\n",
       "      <td>1.0</td>\n",
       "      <td>2.0</td>\n",
       "      <td>0</td>\n",
       "      <td>1</td>\n",
       "    </tr>\n",
       "    <tr>\n",
       "      <th>4</th>\n",
       "      <td>do not book a flight with this airline  my fr...</td>\n",
       "      <td>0</td>\n",
       "      <td>1.0</td>\n",
       "      <td>1.0</td>\n",
       "      <td>1.0</td>\n",
       "      <td>1.0</td>\n",
       "      <td>1.0</td>\n",
       "      <td>0</td>\n",
       "      <td>1</td>\n",
       "    </tr>\n",
       "  </tbody>\n",
       "</table>\n",
       "</div>"
      ],
      "text/plain": [
       "                                    Review_processed  Seat Type  Seat Comfort  \\\n",
       "0    moroni to moheli  turned out to be a pretty ...          0           4.0   \n",
       "1   moroni to anjouan  it is a very small airline...          0           2.0   \n",
       "2    anjouan to dzaoudzi  a very small airline an...          0           2.0   \n",
       "4   do not book a flight with this airline  my fr...          0           1.0   \n",
       "\n",
       "   Cabin Staff Service  Food & Beverages  Ground Service  Value For Money  \\\n",
       "0                  5.0               4.0             4.0              3.0   \n",
       "1                  2.0               1.0             1.0              2.0   \n",
       "2                  1.0               1.0             1.0              2.0   \n",
       "4                  1.0               1.0             1.0              1.0   \n",
       "\n",
       "   Recommended  New_Ratings  \n",
       "0            1            4  \n",
       "1            0            1  \n",
       "2            0            1  \n",
       "4            0            1  "
      ]
     },
     "execution_count": 162,
     "metadata": {},
     "output_type": "execute_result"
    }
   ],
   "source": [
    "data.head(4)"
   ]
  },
  {
   "cell_type": "markdown",
   "id": "c4221fb6",
   "metadata": {},
   "source": [
    "# remove stop words :"
   ]
  },
  {
   "cell_type": "code",
   "execution_count": 163,
   "id": "692fdb45",
   "metadata": {},
   "outputs": [],
   "source": [
    "stop_words = stopwords.words('english') # extracting all the stop words in english language and storing it in a variable called stop_words -> set\n",
    "\n",
    "# Function to remove stop words\n",
    "def remove_stopwords(rev):\n",
    "    # iNPUT : IT WILL TAKE ROW/REVIEW AS AN INPUT\n",
    "    # take the paragraph, break into words, check if the word is a stop word, remove if stop word, combine the words into a para again\n",
    "    review_tokenized = word_tokenize(rev) # word tokenize\n",
    "    rev_new = \" \".join([i for i in review_tokenized  if i not in stop_words])\n",
    "    return rev_new\n",
    "\n",
    "# Removing stopwords\n",
    "data['Review_processed'] = [remove_stopwords(r) for r in data['Review_processed']]"
   ]
  },
  {
   "cell_type": "code",
   "execution_count": 164,
   "id": "9f5ad4d1",
   "metadata": {},
   "outputs": [
    {
     "data": {
      "text/plain": [
       "0     moroni moheli turned pretty decent airline onl...\n",
       "1     moroni anjouan small airline ticket advised tu...\n",
       "2     anjouan dzaoudzi small airline airline based c...\n",
       "4     book flight airline friend returned sofia amst...\n",
       "5     bad experience rerouted cancelled flights last...\n",
       "6     ljubljana zürich firstly ljubljana airport ter...\n",
       "7     first complaining specific flight lufthansa fr...\n",
       "8     worst airline ever combined two flights save c...\n",
       "9     ljubljana munich homebase airport adria airway...\n",
       "11    vienna sofia flight delayed 2 hours cabin crew...\n",
       "13    ljubljana munich adria checkin system obviousl...\n",
       "15    frankfurt ljubljana flight comfortable profess...\n",
       "16    ljubljana frankfurt flight delayed 2 hours due...\n",
       "17    ljubljana vienna overall flight services adria...\n",
       "18    two nice short flights ljubljana sarajevo back...\n",
       "20    ljubljana munich arriving atlanta delta flight...\n",
       "21    ljubljana zurich april 18th adria airways beco...\n",
       "22    ljubljana vienna fast boarding procedure plane...\n",
       "24    boarded crj900 flight seat table pre flight sn...\n",
       "25    fly connection frequent business flyer mostly ...\n",
       "26    munich ljubljana adria airways national carrie...\n",
       "27    ljubljana amsterdam first experience adria air...\n",
       "29    booked flight many years using easyjet got fli...\n",
       "31    tallinn stockholm adria airways clean fresh ai...\n",
       "32    flew roundtrip short route zurich ljubljana ad...\n",
       "Name: Review_processed, dtype: object"
      ]
     },
     "execution_count": 164,
     "metadata": {},
     "output_type": "execute_result"
    }
   ],
   "source": [
    "data['Review_processed'].head(25)"
   ]
  },
  {
   "cell_type": "markdown",
   "id": "941460fa",
   "metadata": {},
   "source": [
    "# lemmatization :"
   ]
  },
  {
   "cell_type": "code",
   "execution_count": 165,
   "id": "bc35292b",
   "metadata": {},
   "outputs": [
    {
     "name": "stderr",
     "output_type": "stream",
     "text": [
      "[nltk_data] Downloading package wordnet to\n",
      "[nltk_data]     C:\\Users\\user\\AppData\\Roaming\\nltk_data...\n",
      "[nltk_data]   Package wordnet is already up-to-date!\n",
      "[nltk_data] Downloading package omw-1.4 to\n",
      "[nltk_data]     C:\\Users\\user\\AppData\\Roaming\\nltk_data...\n",
      "[nltk_data]   Package omw-1.4 is already up-to-date!\n",
      "[nltk_data] Downloading package averaged_perceptron_tagger to\n",
      "[nltk_data]     C:\\Users\\user\\AppData\\Roaming\\nltk_data...\n",
      "[nltk_data]   Package averaged_perceptron_tagger is already up-to-\n",
      "[nltk_data]       date!\n"
     ]
    }
   ],
   "source": [
    "\n",
    "# Begin Lemmatization\n",
    "nltk.download('wordnet')\n",
    "nltk.download('omw-1.4')\n",
    "nltk.download('averaged_perceptron_tagger')\n",
    "from nltk.stem import WordNetLemmatizer\n",
    "from nltk.corpus import wordnet\n",
    "\n",
    "# function to convert nltk tag to wordnet tag\n",
    "lemmatizer = WordNetLemmatizer()\n",
    "\n",
    "# Finds the part of speech tag\n",
    "# Convert the detailed POS tag into a shallow information\n",
    "def nltk_tag_to_wordnet_tag(nltk_tag):\n",
    "    if nltk_tag.startswith('J'):\n",
    "        return wordnet.ADJ\n",
    "    elif nltk_tag.startswith('V'):\n",
    "        return wordnet.VERB\n",
    "    elif nltk_tag.startswith('N'):\n",
    "        return wordnet.NOUN\n",
    "    elif nltk_tag.startswith('R'):\n",
    "        return wordnet.ADV\n",
    "    else:\n",
    "        return None\n",
    "\n",
    "# lemmatize sentence using pos tag\n",
    "def lemmatize_sentence(sentence):\n",
    "  # word tokenize -> pos tag (detailed) -> wordnet tag (shallow pos) -> lemmatizer -> root word\n",
    "    #tokenize the sentence and find the POS tag for each token\n",
    "    nltk_tagged = nltk.pos_tag(nltk.word_tokenize(sentence))  # output will be a list of tuples -> [(word,detailed_tag)]\n",
    "    #tuple of (token, wordnet_tag)\n",
    "    wordnet_tagged = map(lambda x: (x[0], nltk_tag_to_wordnet_tag(x[1])), nltk_tagged) # output -> [(word,shallow_tag)]\n",
    "    lemmatized_sentence = []\n",
    "    for word, tag in wordnet_tagged:\n",
    "        if tag is None:\n",
    "            #if there is no available tag, append the token as is\n",
    "            lemmatized_sentence.append(word)\n",
    "        else:\n",
    "            #else use the tag to lemmatize the token\n",
    "            lemmatized_sentence.append(lemmatizer.lemmatize(word, tag))\n",
    "    return \" \".join(lemmatized_sentence)\n",
    "\n",
    "\n",
    "data['Review_processed'] = data['Review_processed'].apply(lambda x: lemmatize_sentence(x))"
   ]
  },
  {
   "cell_type": "code",
   "execution_count": 166,
   "id": "0b2e284f",
   "metadata": {},
   "outputs": [
    {
     "data": {
      "text/plain": [
       "0    moroni moheli turn pretty decent airline onlin...\n",
       "1    moroni anjouan small airline ticket advise tur...\n",
       "2    anjouan dzaoudzi small airline airline base co...\n",
       "4    book flight airline friend return sofia amster...\n",
       "5    bad experience rerouted cancelled flight last ...\n",
       "Name: Review_processed, dtype: object"
      ]
     },
     "execution_count": 166,
     "metadata": {},
     "output_type": "execute_result"
    }
   ],
   "source": [
    "data['Review_processed'].head(5)\n"
   ]
  },
  {
   "cell_type": "markdown",
   "id": "06f232a5",
   "metadata": {},
   "source": [
    "# word cloud"
   ]
  },
  {
   "cell_type": "code",
   "execution_count": 167,
   "id": "3febeae5",
   "metadata": {},
   "outputs": [
    {
     "name": "stderr",
     "output_type": "stream",
     "text": [
      "WARNING: Ignoring invalid distribution -rotobuf (c:\\users\\user\\anaconda3\\lib\\site-packages)\n",
      "WARNING: Ignoring invalid distribution -rotobuf (c:\\users\\user\\anaconda3\\lib\\site-packages)\n",
      "WARNING: Ignoring invalid distribution -rotobuf (c:\\users\\user\\anaconda3\\lib\\site-packages)\n",
      "WARNING: Ignoring invalid distribution -rotobuf (c:\\users\\user\\anaconda3\\lib\\site-packages)\n",
      "WARNING: Ignoring invalid distribution -rotobuf (c:\\users\\user\\anaconda3\\lib\\site-packages)\n",
      "WARNING: Ignoring invalid distribution -rotobuf (c:\\users\\user\\anaconda3\\lib\\site-packages)\n"
     ]
    },
    {
     "name": "stdout",
     "output_type": "stream",
     "text": [
      "Requirement already satisfied: wordcloud in c:\\users\\user\\anaconda3\\lib\\site-packages (1.9.2)\n",
      "Requirement already satisfied: matplotlib in c:\\users\\user\\anaconda3\\lib\\site-packages (from wordcloud) (3.5.2)\n",
      "Requirement already satisfied: pillow in c:\\users\\user\\anaconda3\\lib\\site-packages (from wordcloud) (9.2.0)\n",
      "Requirement already satisfied: numpy>=1.6.1 in c:\\users\\user\\anaconda3\\lib\\site-packages (from wordcloud) (1.21.5)\n",
      "Requirement already satisfied: packaging>=20.0 in c:\\users\\user\\anaconda3\\lib\\site-packages (from matplotlib->wordcloud) (21.3)\n",
      "Requirement already satisfied: python-dateutil>=2.7 in c:\\users\\user\\anaconda3\\lib\\site-packages (from matplotlib->wordcloud) (2.8.2)\n",
      "Requirement already satisfied: kiwisolver>=1.0.1 in c:\\users\\user\\anaconda3\\lib\\site-packages (from matplotlib->wordcloud) (1.4.2)\n",
      "Requirement already satisfied: cycler>=0.10 in c:\\users\\user\\anaconda3\\lib\\site-packages (from matplotlib->wordcloud) (0.11.0)\n",
      "Requirement already satisfied: pyparsing>=2.2.1 in c:\\users\\user\\anaconda3\\lib\\site-packages (from matplotlib->wordcloud) (3.0.9)\n",
      "Requirement already satisfied: fonttools>=4.22.0 in c:\\users\\user\\anaconda3\\lib\\site-packages (from matplotlib->wordcloud) (4.25.0)\n",
      "Requirement already satisfied: six>=1.5 in c:\\users\\user\\anaconda3\\lib\\site-packages (from python-dateutil>=2.7->matplotlib->wordcloud) (1.16.0)\n"
     ]
    },
    {
     "data": {
      "image/png": "[encoded data removed]",
      "text/plain": [
       "<Figure size 800x800 with 1 Axes>"
      ]
     },
     "metadata": {},
     "output_type": "display_data"
    }
   ],
   "source": [
    "!pip install wordcloud\n",
    "\n",
    "from wordcloud import WordCloud\n",
    "word_cloud_df = data.loc[data['New_Ratings'] == 1,:]\n",
    "all_words = ' '.join([text for text in word_cloud_df['Review_processed']])\n",
    "\n",
    "\n",
    "wordcloud = WordCloud(width = 800, height = 800,\n",
    "                      background_color ='white',\n",
    "                      min_font_size = 10).generate(all_words)\n",
    "\n",
    "#plot the WordCloud image\n",
    "plt.figure(figsize = (8, 8), facecolor = None)\n",
    "plt.imshow(wordcloud)\n",
    "plt.axis(\"off\")\n",
    "plt.tight_layout(pad = 0)\n",
    "plt.show()"
   ]
  },
  {
   "cell_type": "markdown",
   "id": "c839812b",
   "metadata": {},
   "source": [
    "### Bag of Words Model"
   ]
  },
  {
   "cell_type": "code",
   "execution_count": 168,
   "id": "b4963923",
   "metadata": {},
   "outputs": [],
   "source": [
    "# Importing module\n",
    "from sklearn.feature_extraction.text import TfidfVectorizer\n",
    "\n",
    "# Creating matrix of top 2500 tokens\n",
    "tfidf = TfidfVectorizer(max_features=2500)\n",
    "\n",
    "X_text = tfidf.fit_transform(data['Review_processed']).toarray()\n",
    "X_numerical = data.drop(['New_Ratings','Review_processed'], axis=1).values\n",
    "\n",
    "# Combine the TF-IDF features with the numerical features\n",
    "X = np.concatenate((X_text, X_numerical), axis=1)\n",
    "\n",
    "\n",
    "y = data['New_Ratings'].values\n",
    "\n",
    "# Splitting the dataset into train and test\n",
    "from sklearn.model_selection import train_test_split\n",
    "X_train, X_test, y_train, y_test = train_test_split(X, y, test_size=0.20, random_state=42)\n"
   ]
  },
  {
   "cell_type": "code",
   "execution_count": 169,
   "id": "6d2de321",
   "metadata": {},
   "outputs": [
    {
     "data": {
      "text/plain": [
       "array([[0., 0., 0., ..., 0., 0., 0.],\n",
       "       [0., 0., 0., ..., 0., 0., 0.],\n",
       "       [0., 0., 0., ..., 0., 0., 0.],\n",
       "       ...,\n",
       "       [0., 0., 0., ..., 0., 0., 0.],\n",
       "       [0., 0., 0., ..., 0., 0., 0.],\n",
       "       [0., 0., 0., ..., 0., 0., 0.]])"
      ]
     },
     "execution_count": 169,
     "metadata": {},
     "output_type": "execute_result"
    }
   ],
   "source": [
    "X_text"
   ]
  },
  {
   "cell_type": "code",
   "execution_count": 170,
   "id": "01ee3f4c",
   "metadata": {},
   "outputs": [
    {
     "data": {
      "text/plain": [
       "array([[0., 4., 5., ..., 4., 3., 1.],\n",
       "       [0., 2., 2., ..., 1., 2., 0.],\n",
       "       [0., 2., 1., ..., 1., 2., 0.],\n",
       "       ...,\n",
       "       [0., 3., 4., ..., 1., 2., 0.],\n",
       "       [0., 2., 4., ..., 1., 2., 0.],\n",
       "       [1., 3., 4., ..., 1., 5., 1.]])"
      ]
     },
     "execution_count": 170,
     "metadata": {},
     "output_type": "execute_result"
    }
   ],
   "source": [
    "X_numerical"
   ]
  },
  {
   "cell_type": "code",
   "execution_count": 171,
   "id": "49ba8b13",
   "metadata": {},
   "outputs": [
    {
     "data": {
      "text/plain": [
       "array([[0., 0., 0., ..., 4., 3., 1.],\n",
       "       [0., 0., 0., ..., 1., 2., 0.],\n",
       "       [0., 0., 0., ..., 1., 2., 0.],\n",
       "       ...,\n",
       "       [0., 0., 0., ..., 1., 2., 0.],\n",
       "       [0., 0., 0., ..., 1., 2., 0.],\n",
       "       [0., 0., 0., ..., 1., 5., 1.]])"
      ]
     },
     "execution_count": 171,
     "metadata": {},
     "output_type": "execute_result"
    }
   ],
   "source": [
    "# print X to check the all text data convert to numerical\n",
    "X\n",
    "\n",
    "\n"
   ]
  },
  {
   "cell_type": "code",
   "execution_count": 172,
   "id": "7f41a815",
   "metadata": {},
   "outputs": [
    {
     "data": {
      "text/plain": [
       "((11596, 2507), (2900, 2507))"
      ]
     },
     "execution_count": 172,
     "metadata": {},
     "output_type": "execute_result"
    }
   ],
   "source": [
    "X_train.shape, X_test.shape"
   ]
  },
  {
   "cell_type": "code",
   "execution_count": 173,
   "id": "de3ab4d0",
   "metadata": {},
   "outputs": [
    {
     "data": {
      "text/plain": [
       "array([[0., 0., 0., ..., 4., 4., 1.],\n",
       "       [0., 0., 0., ..., 3., 2., 0.],\n",
       "       [0., 0., 0., ..., 1., 1., 0.],\n",
       "       ...,\n",
       "       [0., 0., 0., ..., 5., 5., 1.],\n",
       "       [0., 0., 0., ..., 1., 1., 0.],\n",
       "       [0., 0., 0., ..., 2., 1., 0.]])"
      ]
     },
     "execution_count": 173,
     "metadata": {},
     "output_type": "execute_result"
    }
   ],
   "source": [
    "X_train"
   ]
  },
  {
   "cell_type": "code",
   "execution_count": 174,
   "id": "07281af2",
   "metadata": {},
   "outputs": [
    {
     "data": {
      "text/plain": [
       "array([4, 2, 1, ..., 1, 1, 1])"
      ]
     },
     "execution_count": 174,
     "metadata": {},
     "output_type": "execute_result"
    }
   ],
   "source": [
    "y_train"
   ]
  },
  {
   "cell_type": "code",
   "execution_count": 179,
   "id": "49cf7a77",
   "metadata": {},
   "outputs": [
    {
     "name": "stdout",
     "output_type": "stream",
     "text": [
      "Requirement already satisfied: imblearn in c:\\users\\user\\anaconda3\\lib\\site-packages (0.0)\n",
      "Requirement already satisfied: imbalanced-learn in c:\\users\\user\\anaconda3\\lib\\site-packages (from imblearn) (0.11.0)\n",
      "Requirement already satisfied: numpy>=1.17.3 in c:\\users\\user\\anaconda3\\lib\\site-packages (from imbalanced-learn->imblearn) (1.21.5)\n",
      "Requirement already satisfied: joblib>=1.1.1 in c:\\users\\user\\anaconda3\\lib\\site-packages (from imbalanced-learn->imblearn) (1.3.2)\n",
      "Requirement already satisfied: scipy>=1.5.0 in c:\\users\\user\\anaconda3\\lib\\site-packages (from imbalanced-learn->imblearn) (1.9.1)\n",
      "Requirement already satisfied: threadpoolctl>=2.0.0 in c:\\users\\user\\anaconda3\\lib\\site-packages (from imbalanced-learn->imblearn) (2.2.0)\n",
      "Requirement already satisfied: scikit-learn>=1.0.2 in c:\\users\\user\\anaconda3\\lib\\site-packages (from imbalanced-learn->imblearn) (1.3.0)\n"
     ]
    },
    {
     "name": "stderr",
     "output_type": "stream",
     "text": [
      "WARNING: Ignoring invalid distribution -rotobuf (c:\\users\\user\\anaconda3\\lib\\site-packages)\n",
      "WARNING: Ignoring invalid distribution -rotobuf (c:\\users\\user\\anaconda3\\lib\\site-packages)\n",
      "WARNING: Ignoring invalid distribution -rotobuf (c:\\users\\user\\anaconda3\\lib\\site-packages)\n",
      "WARNING: Ignoring invalid distribution -rotobuf (c:\\users\\user\\anaconda3\\lib\\site-packages)\n",
      "WARNING: Ignoring invalid distribution -rotobuf (c:\\users\\user\\anaconda3\\lib\\site-packages)\n",
      "WARNING: Ignoring invalid distribution -rotobuf (c:\\users\\user\\anaconda3\\lib\\site-packages)\n"
     ]
    }
   ],
   "source": [
    "!pip install imblearn"
   ]
  },
  {
   "cell_type": "code",
   "execution_count": 181,
   "id": "6f66e3a2",
   "metadata": {},
   "outputs": [],
   "source": [
    "import imblearn\n",
    "from imblearn.combine import SMOTEENN\n",
    "\n",
    "# Balancing the data using SMOTEENN\n",
    "smt = SMOTEENN(sampling_strategy='all')\n",
    "X_train, y_train = smt.fit_resample(X_train, y_train)"
   ]
  },
  {
   "cell_type": "code",
   "execution_count": 183,
   "id": "ff93a4f0",
   "metadata": {},
   "outputs": [
    {
     "name": "stdout",
     "output_type": "stream",
     "text": [
      "26633\n",
      "26633\n"
     ]
    }
   ],
   "source": [
    "x = len(X_train)\n",
    "y = len(y_train)\n",
    "print(x)\n",
    "print(y)"
   ]
  },
  {
   "cell_type": "code",
   "execution_count": 184,
   "id": "f0995218",
   "metadata": {},
   "outputs": [
    {
     "name": "stdout",
     "output_type": "stream",
     "text": [
      "<class 'pandas.core.frame.DataFrame'>\n",
      "Index: 14496 entries, 0 to 23169\n",
      "Data columns (total 9 columns):\n",
      " #   Column               Non-Null Count  Dtype  \n",
      "---  ------               --------------  -----  \n",
      " 0   Review_processed     14496 non-null  object \n",
      " 1   Seat Type            14496 non-null  int64  \n",
      " 2   Seat Comfort         14496 non-null  float64\n",
      " 3   Cabin Staff Service  14496 non-null  float64\n",
      " 4   Food & Beverages     14496 non-null  float64\n",
      " 5   Ground Service       14496 non-null  float64\n",
      " 6   Value For Money      14496 non-null  float64\n",
      " 7   Recommended          14496 non-null  int64  \n",
      " 8   New_Ratings          14496 non-null  int32  \n",
      "dtypes: float64(5), int32(1), int64(2), object(1)\n",
      "memory usage: 1.1+ MB\n"
     ]
    }
   ],
   "source": [
    "data.info()"
   ]
  },
  {
   "cell_type": "code",
   "execution_count": null,
   "id": "03c3197c",
   "metadata": {},
   "outputs": [],
   "source": []
  },
  {
   "cell_type": "markdown",
   "id": "b4fb3cfe",
   "metadata": {},
   "source": [
    "# Build ML Model :"
   ]
  },
  {
   "cell_type": "code",
   "execution_count": 185,
   "id": "e08e5955",
   "metadata": {},
   "outputs": [
    {
     "data": {
      "text/plain": [
       "array([4, 2, 2, ..., 2, 4, 1])"
      ]
     },
     "execution_count": 185,
     "metadata": {},
     "output_type": "execute_result"
    }
   ],
   "source": [
    "from sklearn.tree import DecisionTreeClassifier\n",
    "\n",
    "dt = DecisionTreeClassifier()\n",
    "dt.fit(X_train,y_train)\n",
    "\n",
    "y_pred = dt.predict(X_test)\n",
    "y_pred\n",
    "\n"
   ]
  },
  {
   "cell_type": "code",
   "execution_count": 186,
   "id": "6c599dab",
   "metadata": {},
   "outputs": [
    {
     "name": "stdout",
     "output_type": "stream",
     "text": [
      "The model accuracy is 0.533448275862069\n",
      "The model F1_Score is 0.4720956027963724\n"
     ]
    }
   ],
   "source": [
    "from sklearn.metrics import confusion_matrix, accuracy_score  ,  f1_score , classification_report \n",
    "accuracy = accuracy_score(y_test, y_pred)\n",
    "classification_rep = classification_report(y_test, y_pred)\n",
    "confusion_mat = confusion_matrix(y_test, y_pred)\n",
    "f1 = f1_score(y_test, y_pred,average = 'macro')\n",
    "\n",
    "\n",
    "\n",
    "print(\"The model accuracy is\", accuracy )\n",
    "print(\"The model F1_Score is\", f1 )"
   ]
  },
  {
   "cell_type": "code",
   "execution_count": 187,
   "id": "93350fc6",
   "metadata": {},
   "outputs": [
    {
     "name": "stdout",
     "output_type": "stream",
     "text": [
      "Classification_report is \n",
      "               precision    recall  f1-score   support\n",
      "\n",
      "           1       0.93      0.41      0.57      1676\n",
      "           2       0.22      0.58      0.32       303\n",
      "           3       0.23      0.42      0.29       211\n",
      "           4       0.60      0.83      0.70       710\n",
      "\n",
      "    accuracy                           0.53      2900\n",
      "   macro avg       0.50      0.56      0.47      2900\n",
      "weighted avg       0.73      0.53      0.56      2900\n",
      "\n"
     ]
    }
   ],
   "source": [
    "print(\"Classification_report is \\n\", classification_rep)"
   ]
  },
  {
   "cell_type": "code",
   "execution_count": 188,
   "id": "8f1cf66c",
   "metadata": {},
   "outputs": [
    {
     "name": "stdout",
     "output_type": "stream",
     "text": [
      "Confusion_matrix is \n",
      " [[691 547 118 320]\n",
      " [ 39 177  78   9]\n",
      " [  8  52  88  63]\n",
      " [  2  14 103 591]]\n"
     ]
    }
   ],
   "source": [
    "print(\"Confusion_matrix is \\n\", confusion_mat)"
   ]
  },
  {
   "cell_type": "code",
   "execution_count": 189,
   "id": "65022918",
   "metadata": {},
   "outputs": [
    {
     "data": {
      "text/html": [
       "<div>\n",
       "<style scoped>\n",
       "    .dataframe tbody tr th:only-of-type {\n",
       "        vertical-align: middle;\n",
       "    }\n",
       "\n",
       "    .dataframe tbody tr th {\n",
       "        vertical-align: top;\n",
       "    }\n",
       "\n",
       "    .dataframe thead th {\n",
       "        text-align: right;\n",
       "    }\n",
       "</style>\n",
       "<table border=\"1\" class=\"dataframe\">\n",
       "  <thead>\n",
       "    <tr style=\"text-align: right;\">\n",
       "      <th></th>\n",
       "      <th>Review_processed</th>\n",
       "      <th>Seat Type</th>\n",
       "      <th>Seat Comfort</th>\n",
       "      <th>Cabin Staff Service</th>\n",
       "      <th>Food &amp; Beverages</th>\n",
       "      <th>Ground Service</th>\n",
       "      <th>Value For Money</th>\n",
       "      <th>Recommended</th>\n",
       "      <th>New_Ratings</th>\n",
       "    </tr>\n",
       "  </thead>\n",
       "  <tbody>\n",
       "    <tr>\n",
       "      <th>0</th>\n",
       "      <td>moroni moheli turn pretty decent airline onlin...</td>\n",
       "      <td>0</td>\n",
       "      <td>4.0</td>\n",
       "      <td>5.0</td>\n",
       "      <td>4.0</td>\n",
       "      <td>4.0</td>\n",
       "      <td>3.0</td>\n",
       "      <td>1</td>\n",
       "      <td>4</td>\n",
       "    </tr>\n",
       "    <tr>\n",
       "      <th>1</th>\n",
       "      <td>moroni anjouan small airline ticket advise tur...</td>\n",
       "      <td>0</td>\n",
       "      <td>2.0</td>\n",
       "      <td>2.0</td>\n",
       "      <td>1.0</td>\n",
       "      <td>1.0</td>\n",
       "      <td>2.0</td>\n",
       "      <td>0</td>\n",
       "      <td>1</td>\n",
       "    </tr>\n",
       "  </tbody>\n",
       "</table>\n",
       "</div>"
      ],
      "text/plain": [
       "                                    Review_processed  Seat Type  Seat Comfort  \\\n",
       "0  moroni moheli turn pretty decent airline onlin...          0           4.0   \n",
       "1  moroni anjouan small airline ticket advise tur...          0           2.0   \n",
       "\n",
       "   Cabin Staff Service  Food & Beverages  Ground Service  Value For Money  \\\n",
       "0                  5.0               4.0             4.0              3.0   \n",
       "1                  2.0               1.0             1.0              2.0   \n",
       "\n",
       "   Recommended  New_Ratings  \n",
       "0            1            4  \n",
       "1            0            1  "
      ]
     },
     "execution_count": 189,
     "metadata": {},
     "output_type": "execute_result"
    }
   ],
   "source": [
    "data.head(2)"
   ]
  },
  {
   "cell_type": "code",
   "execution_count": null,
   "id": "91e9ecf0",
   "metadata": {},
   "outputs": [],
   "source": []
  }
 ],
 "metadata": {
  "kernelspec": {
   "display_name": "Python 3 (ipykernel)",
   "language": "python",
   "name": "python3"
  },
  "language_info": {
   "codemirror_mode": {
    "name": "ipython",
    "version": 3
   },
   "file_extension": ".py",
   "mimetype": "text/x-python",
   "name": "python",
   "nbconvert_exporter": "python",
   "pygments_lexer": "ipython3",
   "version": "3.9.13"
  }
 },
 "nbformat": 4,
 "nbformat_minor": 5
}
